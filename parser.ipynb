{
 "cells": [
  {
   "cell_type": "markdown",
   "metadata": {},
   "source": [
    "## Libraries & Constants"
   ]
  },
  {
   "cell_type": "code",
   "execution_count": 1,
   "metadata": {},
   "outputs": [],
   "source": [
    "import requests\n",
    "from bs4 import BeautifulSoup\n",
    "import csv\n",
    "\n",
    "from selenium import webdriver\n",
    "from selenium.webdriver.common.by import By\n",
    "from selenium.webdriver.support.ui import Select\n",
    "import time\n",
    "import json"
   ]
  },
  {
   "cell_type": "code",
   "execution_count": 2,
   "metadata": {},
   "outputs": [],
   "source": [
    "BASE_URL = \"http://pogoda-service.ru/archive_gsod.php?\"\n",
    "country = \"RS\""
   ]
  },
  {
   "cell_type": "markdown",
   "metadata": {},
   "source": [
    "## Station ID's receiver\n",
    "Since the website updates using JavaScript, I have to simulate a real browser using Selenium, to pick the country in a form and scrape all station id's for this station in the next box."
   ]
  },
  {
   "cell_type": "code",
   "execution_count": null,
   "metadata": {},
   "outputs": [
    {
     "name": "stdout",
     "output_type": "stream",
     "text": [
      "Found 249 countries\n",
      "Total station count in RS: 2082\n"
     ]
    }
   ],
   "source": [
    "# Set up the Selenium WebDriver (ensure you have ChromeDriver installed)\n",
    "driver = webdriver.Chrome()\n",
    "\n",
    "# Open the website\n",
    "driver.get(BASE_URL)\n",
    "\n",
    "# Select Russia from the country dropdown\n",
    "country_dropdown = Select(driver.find_element(By.NAME, \"country\"))\n",
    "# support for finding the weather in any country\n",
    "country_map = {\n",
    "    option.get_attribute(\"value\"): option.text.strip()\n",
    "    for option in country_dropdown.options\n",
    "    if option.get_attribute(\"value\")\n",
    "}\n",
    "print(f\"Found {len(country_map)} countries\")\n",
    "\n",
    "country_dropdown.select_by_value(country)  # Assuming 'RS' is the correct value\n",
    "# Wait for the page to update (adjust sleep time as needed)\n",
    "time.sleep(2)\n",
    "\n",
    "# Get the station dropdown after it updates\n",
    "station_dropdown = Select(driver.find_element(By.NAME, \"station\"))\n",
    "stations = {\n",
    "    option.get_attribute(\"value\"): {\n",
    "        \"name\": option.text.strip(),\n",
    "        \"country_code\": country,\n",
    "        \"country_name\": country_map[country]\n",
    "    }\n",
    "    for option in station_dropdown.options\n",
    "    if option.get_attribute(\"value\")\n",
    "}\n",
    "\n",
    "print(f\"Total station count in {country}: {len(stations)}\")\n",
    "# --- Save to JSON\n",
    "with open(\"station_metadata.json\", \"w\", encoding=\"utf-8\") as f:\n",
    "    json.dump(stations, f, ensure_ascii=False, indent=2)\n",
    "\n",
    "# Close the browser\n",
    "driver.quit() "
   ]
  },
  {
   "cell_type": "markdown",
   "metadata": {},
   "source": [
    "## Actual data retrieval\n",
    "All data can be received without the annoying form, since the link itself is the query. It looks like this: http://pogoda-service.ru/archive_gsod_res.php?country=RS&station=id&datepicker_beg=dd.mm.yyyy&datepicker_end=dd.mm.yyyy, so all I need to do is go through all such links. The dataset seems to be rarely updated, so some less busy/famous stations have missing data, but it will do."
   ]
  },
  {
   "cell_type": "code",
   "execution_count": null,
   "metadata": {},
   "outputs": [
    {
     "name": "stderr",
     "output_type": "stream",
     "text": [
      "Scraping Stations:   0%|          | 0/2082 [00:00<?, ?station/s]"
     ]
    },
    {
     "name": "stdout",
     "output_type": "stream",
     "text": [
      "Skipping station 287854, CSV already exists.\n"
     ]
    },
    {
     "name": "stderr",
     "output_type": "stream",
     "text": [
      "Scraping Stations:   0%|          | 2/2082 [00:12<3:43:09,  6.44s/station]"
     ]
    },
    {
     "name": "stdout",
     "output_type": "stream",
     "text": [
      "No records in a given period.\n"
     ]
    },
    {
     "name": "stderr",
     "output_type": "stream",
     "text": [
      "Scraping Stations:   0%|          | 3/2082 [00:23<4:42:27,  8.15s/station]"
     ]
    },
    {
     "name": "stdout",
     "output_type": "stream",
     "text": [
      "No records in a given period.\n",
      "Skipping station 294850, CSV already exists.\n"
     ]
    },
    {
     "name": "stderr",
     "output_type": "stream",
     "text": [
      "Scraping Stations:   0%|          | 5/2082 [00:33<3:39:24,  6.34s/station]"
     ]
    },
    {
     "name": "stdout",
     "output_type": "stream",
     "text": [
      "No records in a given period.\n",
      "Skipping station 223650, CSV already exists.\n"
     ]
    },
    {
     "name": "stderr",
     "output_type": "stream",
     "text": [
      "Scraping Stations:   0%|          | 7/2082 [00:44<3:28:23,  6.03s/station]"
     ]
    },
    {
     "name": "stdout",
     "output_type": "stream",
     "text": [
      "Saved data for station 289080 to stations/station_289080.csv\n"
     ]
    },
    {
     "name": "stderr",
     "output_type": "stream",
     "text": [
      "Scraping Stations:   0%|          | 8/2082 [00:56<4:15:58,  7.41s/station]"
     ]
    },
    {
     "name": "stdout",
     "output_type": "stream",
     "text": [
      "Saved data for station 233830 to stations/station_233830.csv\n"
     ]
    },
    {
     "name": "stderr",
     "output_type": "stream",
     "text": [
      "Scraping Stations:   0%|          | 9/2082 [01:09<5:06:55,  8.88s/station]"
     ]
    },
    {
     "name": "stdout",
     "output_type": "stream",
     "text": [
      "Saved data for station 246840 to stations/station_246840.csv\n"
     ]
    },
    {
     "name": "stderr",
     "output_type": "stream",
     "text": [
      "Scraping Stations:   0%|          | 10/2082 [01:20<5:28:51,  9.52s/station]"
     ]
    },
    {
     "name": "stdout",
     "output_type": "stream",
     "text": [
      "Saved data for station 318250 to stations/station_318250.csv\n"
     ]
    },
    {
     "name": "stderr",
     "output_type": "stream",
     "text": [
      "Scraping Stations:   1%|          | 11/2082 [01:32<5:51:39, 10.19s/station]"
     ]
    },
    {
     "name": "stdout",
     "output_type": "stream",
     "text": [
      "Saved data for station 308590 to stations/station_308590.csv\n"
     ]
    },
    {
     "name": "stderr",
     "output_type": "stream",
     "text": [
      "Scraping Stations:   1%|          | 12/2082 [01:45<6:16:33, 10.91s/station]"
     ]
    },
    {
     "name": "stdout",
     "output_type": "stream",
     "text": [
      "Saved data for station 296760 to stations/station_296760.csv\n"
     ]
    },
    {
     "name": "stderr",
     "output_type": "stream",
     "text": [
      "Scraping Stations:   1%|          | 13/2082 [01:55<6:07:33, 10.66s/station]"
     ]
    },
    {
     "name": "stdout",
     "output_type": "stream",
     "text": [
      "No records in a given period.\n"
     ]
    },
    {
     "name": "stderr",
     "output_type": "stream",
     "text": [
      "Scraping Stations:   1%|          | 14/2082 [02:05<5:58:15, 10.39s/station]"
     ]
    },
    {
     "name": "stdout",
     "output_type": "stream",
     "text": [
      "No records in a given period.\n"
     ]
    },
    {
     "name": "stderr",
     "output_type": "stream",
     "text": [
      "Scraping Stations:   1%|          | 15/2082 [02:14<5:52:25, 10.23s/station]"
     ]
    },
    {
     "name": "stdout",
     "output_type": "stream",
     "text": [
      "No records in a given period.\n"
     ]
    },
    {
     "name": "stderr",
     "output_type": "stream",
     "text": [
      "Scraping Stations:   1%|          | 16/2082 [02:25<5:51:17, 10.20s/station]"
     ]
    },
    {
     "name": "stdout",
     "output_type": "stream",
     "text": [
      "No records in a given period.\n"
     ]
    },
    {
     "name": "stderr",
     "output_type": "stream",
     "text": [
      "Scraping Stations:   1%|          | 17/2082 [02:34<5:45:08, 10.03s/station]"
     ]
    },
    {
     "name": "stdout",
     "output_type": "stream",
     "text": [
      "No records in a given period.\n"
     ]
    },
    {
     "name": "stderr",
     "output_type": "stream",
     "text": [
      "Scraping Stations:   1%|          | 18/2082 [02:45<5:53:54, 10.29s/station]"
     ]
    },
    {
     "name": "stdout",
     "output_type": "stream",
     "text": [
      "No records in a given period.\n"
     ]
    },
    {
     "name": "stderr",
     "output_type": "stream",
     "text": [
      "Scraping Stations:   1%|          | 19/2082 [02:54<5:40:13,  9.89s/station]"
     ]
    },
    {
     "name": "stdout",
     "output_type": "stream",
     "text": [
      "No records in a given period.\n"
     ]
    },
    {
     "name": "stderr",
     "output_type": "stream",
     "text": [
      "Scraping Stations:   1%|          | 20/2082 [03:03<5:33:53,  9.72s/station]"
     ]
    },
    {
     "name": "stdout",
     "output_type": "stream",
     "text": [
      "No records in a given period.\n"
     ]
    },
    {
     "name": "stderr",
     "output_type": "stream",
     "text": [
      "Scraping Stations:   1%|          | 21/2082 [03:16<6:00:36, 10.50s/station]"
     ]
    },
    {
     "name": "stdout",
     "output_type": "stream",
     "text": [
      "Saved data for station 339980 to stations/station_339980.csv\n"
     ]
    },
    {
     "name": "stderr",
     "output_type": "stream",
     "text": [
      "Scraping Stations:   1%|          | 22/2082 [03:26<5:55:39, 10.36s/station]"
     ]
    },
    {
     "name": "stdout",
     "output_type": "stream",
     "text": [
      "No records in a given period.\n"
     ]
    },
    {
     "name": "stderr",
     "output_type": "stream",
     "text": [
      "Scraping Stations:   1%|          | 23/2082 [03:38<6:13:39, 10.89s/station]"
     ]
    },
    {
     "name": "stdout",
     "output_type": "stream",
     "text": [
      "Saved data for station 351270 to stations/station_351270.csv\n"
     ]
    },
    {
     "name": "stderr",
     "output_type": "stream",
     "text": [
      "Scraping Stations:   1%|          | 24/2082 [03:48<6:02:59, 10.58s/station]"
     ]
    },
    {
     "name": "stdout",
     "output_type": "stream",
     "text": [
      "No records in a given period.\n"
     ]
    },
    {
     "name": "stderr",
     "output_type": "stream",
     "text": [
      "Scraping Stations:   1%|          | 25/2082 [04:00<6:17:59, 11.03s/station]"
     ]
    },
    {
     "name": "stdout",
     "output_type": "stream",
     "text": [
      "Saved data for station 287190 to stations/station_287190.csv\n"
     ]
    },
    {
     "name": "stderr",
     "output_type": "stream",
     "text": [
      "Scraping Stations:   1%|          | 26/2082 [04:12<6:28:58, 11.35s/station]"
     ]
    },
    {
     "name": "stdout",
     "output_type": "stream",
     "text": [
      "Saved data for station 309570 to stations/station_309570.csv\n"
     ]
    },
    {
     "name": "stderr",
     "output_type": "stream",
     "text": [
      "Scraping Stations:   1%|▏         | 27/2082 [04:24<6:37:16, 11.60s/station]"
     ]
    },
    {
     "name": "stdout",
     "output_type": "stream",
     "text": [
      "Saved data for station 350370 to stations/station_350370.csv\n"
     ]
    },
    {
     "name": "stderr",
     "output_type": "stream",
     "text": [
      "Scraping Stations:   1%|▏         | 28/2082 [04:34<6:23:51, 11.21s/station]"
     ]
    },
    {
     "name": "stdout",
     "output_type": "stream",
     "text": [
      "No records in a given period.\n"
     ]
    },
    {
     "name": "stderr",
     "output_type": "stream",
     "text": [
      "Scraping Stations:   1%|▏         | 29/2082 [04:44<6:04:36, 10.66s/station]"
     ]
    },
    {
     "name": "stdout",
     "output_type": "stream",
     "text": [
      "No records in a given period.\n"
     ]
    },
    {
     "name": "stderr",
     "output_type": "stream",
     "text": [
      "Scraping Stations:   1%|▏         | 30/2082 [04:56<6:21:32, 11.16s/station]"
     ]
    },
    {
     "name": "stdout",
     "output_type": "stream",
     "text": [
      "Saved data for station 276790 to stations/station_276790.csv\n"
     ]
    },
    {
     "name": "stderr",
     "output_type": "stream",
     "text": [
      "Scraping Stations:   1%|▏         | 31/2082 [05:09<6:36:00, 11.58s/station]"
     ]
    },
    {
     "name": "stdout",
     "output_type": "stream",
     "text": [
      "Saved data for station 310040 to stations/station_310040.csv\n"
     ]
    },
    {
     "name": "stderr",
     "output_type": "stream",
     "text": [
      "Scraping Stations:   2%|▏         | 32/2082 [05:22<6:52:22, 12.07s/station]"
     ]
    },
    {
     "name": "stdout",
     "output_type": "stream",
     "text": [
      "Saved data for station 299370 to stations/station_299370.csv\n"
     ]
    },
    {
     "name": "stderr",
     "output_type": "stream",
     "text": [
      "Scraping Stations:   2%|▏         | 33/2082 [05:31<6:26:05, 11.31s/station]"
     ]
    },
    {
     "name": "stdout",
     "output_type": "stream",
     "text": [
      "No records in a given period.\n"
     ]
    },
    {
     "name": "stderr",
     "output_type": "stream",
     "text": [
      "Scraping Stations:   2%|▏         | 34/2082 [05:42<6:22:45, 11.21s/station]"
     ]
    },
    {
     "name": "stdout",
     "output_type": "stream",
     "text": [
      "Saved data for station 343910 to stations/station_343910.csv\n"
     ]
    },
    {
     "name": "stderr",
     "output_type": "stream",
     "text": [
      "Scraping Stations:   2%|▏         | 35/2082 [05:54<6:31:36, 11.48s/station]"
     ]
    },
    {
     "name": "stdout",
     "output_type": "stream",
     "text": [
      "Saved data for station 320610 to stations/station_320610.csv\n"
     ]
    },
    {
     "name": "stderr",
     "output_type": "stream",
     "text": [
      "Scraping Stations:   2%|▏         | 36/2082 [06:06<6:27:38, 11.37s/station]"
     ]
    },
    {
     "name": "stdout",
     "output_type": "stream",
     "text": [
      "Saved data for station 290590 to stations/station_290590.csv\n"
     ]
    },
    {
     "name": "stderr",
     "output_type": "stream",
     "text": [
      "Scraping Stations:   2%|▏         | 37/2082 [06:17<6:27:44, 11.38s/station]"
     ]
    },
    {
     "name": "stdout",
     "output_type": "stream",
     "text": [
      "Saved data for station 309710 to stations/station_309710.csv\n"
     ]
    },
    {
     "name": "stderr",
     "output_type": "stream",
     "text": [
      "Scraping Stations:   2%|▏         | 38/2082 [06:30<6:40:01, 11.74s/station]"
     ]
    },
    {
     "name": "stdout",
     "output_type": "stream",
     "text": [
      "Saved data for station 239550 to stations/station_239550.csv\n"
     ]
    },
    {
     "name": "stderr",
     "output_type": "stream",
     "text": [
      "Scraping Stations:   2%|▏         | 39/2082 [06:39<6:20:18, 11.17s/station]"
     ]
    },
    {
     "name": "stdout",
     "output_type": "stream",
     "text": [
      "No records in a given period.\n"
     ]
    },
    {
     "name": "stderr",
     "output_type": "stream",
     "text": [
      "Scraping Stations:   2%|▏         | 40/2082 [06:49<6:04:41, 10.72s/station]"
     ]
    },
    {
     "name": "stdout",
     "output_type": "stream",
     "text": [
      "No records in a given period.\n"
     ]
    },
    {
     "name": "stderr",
     "output_type": "stream",
     "text": [
      "Scraping Stations:   2%|▏         | 41/2082 [07:00<6:03:15, 10.68s/station]"
     ]
    },
    {
     "name": "stdout",
     "output_type": "stream",
     "text": [
      "Saved data for station 239390 to stations/station_239390.csv\n"
     ]
    },
    {
     "name": "stderr",
     "output_type": "stream",
     "text": [
      "Scraping Stations:   2%|▏         | 42/2082 [07:09<5:46:14, 10.18s/station]"
     ]
    },
    {
     "name": "stdout",
     "output_type": "stream",
     "text": [
      "No records in a given period.\n"
     ]
    },
    {
     "name": "stderr",
     "output_type": "stream",
     "text": [
      "Scraping Stations:   2%|▏         | 43/2082 [07:19<5:48:00, 10.24s/station]"
     ]
    },
    {
     "name": "stdout",
     "output_type": "stream",
     "text": [
      "No records in a given period.\n"
     ]
    },
    {
     "name": "stderr",
     "output_type": "stream",
     "text": [
      "Scraping Stations:   2%|▏         | 44/2082 [07:29<5:44:23, 10.14s/station]"
     ]
    },
    {
     "name": "stdout",
     "output_type": "stream",
     "text": [
      "No records in a given period.\n"
     ]
    },
    {
     "name": "stderr",
     "output_type": "stream",
     "text": [
      "Scraping Stations:   2%|▏         | 45/2082 [07:42<6:12:47, 10.98s/station]"
     ]
    },
    {
     "name": "stdout",
     "output_type": "stream",
     "text": [
      "Saved data for station 250340 to stations/station_250340.csv\n"
     ]
    },
    {
     "name": "stderr",
     "output_type": "stream",
     "text": [
      "Scraping Stations:   2%|▏         | 46/2082 [07:53<6:10:01, 10.90s/station]"
     ]
    },
    {
     "name": "stdout",
     "output_type": "stream",
     "text": [
      "No records in a given period.\n"
     ]
    },
    {
     "name": "stderr",
     "output_type": "stream",
     "text": [
      "Scraping Stations:   2%|▏         | 47/2082 [08:05<6:20:02, 11.20s/station]"
     ]
    },
    {
     "name": "stdout",
     "output_type": "stream",
     "text": [
      "Saved data for station 249620 to stations/station_249620.csv\n"
     ]
    },
    {
     "name": "stderr",
     "output_type": "stream",
     "text": [
      "Scraping Stations:   2%|▏         | 48/2082 [08:13<5:54:52, 10.47s/station]"
     ]
    },
    {
     "name": "stdout",
     "output_type": "stream",
     "text": [
      "No records in a given period.\n"
     ]
    },
    {
     "name": "stderr",
     "output_type": "stream",
     "text": [
      "Scraping Stations:   2%|▏         | 49/2082 [08:25<6:12:16, 10.99s/station]"
     ]
    },
    {
     "name": "stdout",
     "output_type": "stream",
     "text": [
      "Saved data for station 230220 to stations/station_230220.csv\n"
     ]
    },
    {
     "name": "stderr",
     "output_type": "stream",
     "text": [
      "Scraping Stations:   2%|▏         | 50/2082 [08:35<5:57:09, 10.55s/station]"
     ]
    },
    {
     "name": "stdout",
     "output_type": "stream",
     "text": [
      "No records in a given period.\n"
     ]
    },
    {
     "name": "stderr",
     "output_type": "stream",
     "text": [
      "Scraping Stations:   2%|▏         | 51/2082 [08:45<5:55:34, 10.50s/station]"
     ]
    },
    {
     "name": "stdout",
     "output_type": "stream",
     "text": [
      "No records in a given period.\n"
     ]
    },
    {
     "name": "stderr",
     "output_type": "stream",
     "text": [
      "Scraping Stations:   2%|▏         | 52/2082 [08:59<6:30:54, 11.55s/station]"
     ]
    },
    {
     "name": "stdout",
     "output_type": "stream",
     "text": [
      "Saved data for station 216080 to stations/station_216080.csv\n"
     ]
    },
    {
     "name": "stderr",
     "output_type": "stream",
     "text": [
      "Scraping Stations:   3%|▎         | 53/2082 [09:13<6:52:22, 12.19s/station]"
     ]
    },
    {
     "name": "stdout",
     "output_type": "stream",
     "text": [
      "Saved data for station 255630 to stations/station_255630.csv\n"
     ]
    },
    {
     "name": "stderr",
     "output_type": "stream",
     "text": [
      "Scraping Stations:   3%|▎         | 54/2082 [09:26<6:57:45, 12.36s/station]"
     ]
    },
    {
     "name": "stdout",
     "output_type": "stream",
     "text": [
      "Saved data for station 370010 to stations/station_370010.csv\n"
     ]
    },
    {
     "name": "stderr",
     "output_type": "stream",
     "text": [
      "Scraping Stations:   3%|▎         | 55/2082 [09:36<6:31:22, 11.58s/station]"
     ]
    },
    {
     "name": "stdout",
     "output_type": "stream",
     "text": [
      "No records in a given period.\n"
     ]
    },
    {
     "name": "stderr",
     "output_type": "stream",
     "text": [
      "Scraping Stations:   3%|▎         | 56/2082 [09:46<6:17:05, 11.17s/station]"
     ]
    },
    {
     "name": "stdout",
     "output_type": "stream",
     "text": [
      "No records in a given period.\n"
     ]
    },
    {
     "name": "stderr",
     "output_type": "stream",
     "text": [
      "Scraping Stations:   3%|▎         | 57/2082 [09:57<6:17:41, 11.19s/station]"
     ]
    },
    {
     "name": "stdout",
     "output_type": "stream",
     "text": [
      "Saved data for station 250170 to stations/station_250170.csv\n"
     ]
    },
    {
     "name": "stderr",
     "output_type": "stream",
     "text": [
      "Scraping Stations:   3%|▎         | 58/2082 [10:09<6:28:02, 11.50s/station]"
     ]
    },
    {
     "name": "stdout",
     "output_type": "stream",
     "text": [
      "No records in a given period.\n"
     ]
    },
    {
     "name": "stderr",
     "output_type": "stream",
     "text": [
      "Scraping Stations:   3%|▎         | 59/2082 [10:20<6:16:24, 11.16s/station]"
     ]
    },
    {
     "name": "stdout",
     "output_type": "stream",
     "text": [
      "Saved data for station 342380 to stations/station_342380.csv\n"
     ]
    },
    {
     "name": "stderr",
     "output_type": "stream",
     "text": [
      "Scraping Stations:   3%|▎         | 60/2082 [10:31<6:13:40, 11.09s/station]"
     ]
    },
    {
     "name": "stdout",
     "output_type": "stream",
     "text": [
      "No records in a given period.\n"
     ]
    },
    {
     "name": "stderr",
     "output_type": "stream",
     "text": [
      "Scraping Stations:   3%|▎         | 61/2082 [10:42<6:20:18, 11.29s/station]"
     ]
    },
    {
     "name": "stdout",
     "output_type": "stream",
     "text": [
      "Saved data for station 230580 to stations/station_230580.csv\n"
     ]
    },
    {
     "name": "stderr",
     "output_type": "stream",
     "text": [
      "Scraping Stations:   3%|▎         | 62/2082 [10:52<6:03:54, 10.81s/station]"
     ]
    },
    {
     "name": "stdout",
     "output_type": "stream",
     "text": [
      "No records in a given period.\n"
     ]
    },
    {
     "name": "stderr",
     "output_type": "stream",
     "text": [
      "Scraping Stations:   3%|▎         | 63/2082 [11:04<6:14:33, 11.13s/station]"
     ]
    },
    {
     "name": "stdout",
     "output_type": "stream",
     "text": [
      "Saved data for station 319810 to stations/station_319810.csv\n"
     ]
    },
    {
     "name": "stderr",
     "output_type": "stream",
     "text": [
      "Scraping Stations:   3%|▎         | 64/2082 [11:14<6:04:29, 10.84s/station]"
     ]
    },
    {
     "name": "stdout",
     "output_type": "stream",
     "text": [
      "No records in a given period.\n"
     ]
    },
    {
     "name": "stderr",
     "output_type": "stream",
     "text": [
      "Scraping Stations:   3%|▎         | 65/2082 [11:27<6:29:38, 11.59s/station]"
     ]
    },
    {
     "name": "stdout",
     "output_type": "stream",
     "text": [
      "Saved data for station 222130 to stations/station_222130.csv\n"
     ]
    },
    {
     "name": "stderr",
     "output_type": "stream",
     "text": [
      "Scraping Stations:   3%|▎         | 66/2082 [11:37<6:11:32, 11.06s/station]"
     ]
    },
    {
     "name": "stdout",
     "output_type": "stream",
     "text": [
      "No records in a given period.\n"
     ]
    },
    {
     "name": "stderr",
     "output_type": "stream",
     "text": [
      "Scraping Stations:   3%|▎         | 67/2082 [11:46<5:53:14, 10.52s/station]"
     ]
    },
    {
     "name": "stdout",
     "output_type": "stream",
     "text": [
      "No records in a given period.\n"
     ]
    },
    {
     "name": "stderr",
     "output_type": "stream",
     "text": [
      "Scraping Stations:   3%|▎         | 68/2082 [11:58<6:01:51, 10.78s/station]"
     ]
    },
    {
     "name": "stdout",
     "output_type": "stream",
     "text": [
      "Saved data for station 259560 to stations/station_259560.csv\n"
     ]
    },
    {
     "name": "stderr",
     "output_type": "stream",
     "text": [
      "Scraping Stations:   3%|▎         | 69/2082 [12:08<5:56:03, 10.61s/station]"
     ]
    },
    {
     "name": "stdout",
     "output_type": "stream",
     "text": [
      "No records in a given period.\n"
     ]
    },
    {
     "name": "stderr",
     "output_type": "stream",
     "text": [
      "Scraping Stations:   3%|▎         | 70/2082 [12:18<5:47:34, 10.37s/station]"
     ]
    },
    {
     "name": "stdout",
     "output_type": "stream",
     "text": [
      "No records in a given period.\n"
     ]
    },
    {
     "name": "stderr",
     "output_type": "stream",
     "text": [
      "Scraping Stations:   3%|▎         | 71/2082 [12:29<5:50:34, 10.46s/station]"
     ]
    },
    {
     "name": "stdout",
     "output_type": "stream",
     "text": [
      "No records in a given period.\n"
     ]
    },
    {
     "name": "stderr",
     "output_type": "stream",
     "text": [
      "Scraping Stations:   3%|▎         | 72/2082 [12:42<6:16:06, 11.23s/station]"
     ]
    },
    {
     "name": "stdout",
     "output_type": "stream",
     "text": [
      "Saved data for station 276530 to stations/station_276530.csv\n"
     ]
    },
    {
     "name": "stderr",
     "output_type": "stream",
     "text": [
      "Scraping Stations:   4%|▎         | 73/2082 [12:51<6:01:37, 10.80s/station]"
     ]
    },
    {
     "name": "stdout",
     "output_type": "stream",
     "text": [
      "Saved data for station 349640 to stations/station_349640.csv\n"
     ]
    },
    {
     "name": "stderr",
     "output_type": "stream",
     "text": [
      "Scraping Stations:   4%|▎         | 74/2082 [13:05<6:25:03, 11.51s/station]"
     ]
    },
    {
     "name": "stdout",
     "output_type": "stream",
     "text": [
      "Saved data for station 249880 to stations/station_249880.csv\n"
     ]
    },
    {
     "name": "stderr",
     "output_type": "stream",
     "text": [
      "Scraping Stations:   4%|▎         | 75/2082 [13:14<6:02:14, 10.83s/station]"
     ]
    },
    {
     "name": "stdout",
     "output_type": "stream",
     "text": [
      "No records in a given period.\n"
     ]
    },
    {
     "name": "stderr",
     "output_type": "stream",
     "text": [
      "Scraping Stations:   4%|▎         | 76/2082 [13:25<6:06:46, 10.97s/station]"
     ]
    },
    {
     "name": "stdout",
     "output_type": "stream",
     "text": [
      "Saved data for station 370310 to stations/station_370310.csv\n"
     ]
    },
    {
     "name": "stderr",
     "output_type": "stream",
     "text": [
      "Scraping Stations:   4%|▎         | 77/2082 [13:35<5:52:26, 10.55s/station]"
     ]
    },
    {
     "name": "stdout",
     "output_type": "stream",
     "text": [
      "No records in a given period.\n"
     ]
    },
    {
     "name": "stderr",
     "output_type": "stream",
     "text": [
      "Scraping Stations:   4%|▎         | 78/2082 [13:44<5:45:12, 10.34s/station]"
     ]
    },
    {
     "name": "stdout",
     "output_type": "stream",
     "text": [
      "Saved data for station 275930 to stations/station_275930.csv\n"
     ]
    },
    {
     "name": "stderr",
     "output_type": "stream",
     "text": [
      "Scraping Stations:   4%|▍         | 79/2082 [13:53<5:31:11,  9.92s/station]"
     ]
    },
    {
     "name": "stdout",
     "output_type": "stream",
     "text": [
      "No records in a given period.\n"
     ]
    },
    {
     "name": "stderr",
     "output_type": "stream",
     "text": [
      "Scraping Stations:   4%|▍         | 80/2082 [14:05<5:48:51, 10.46s/station]"
     ]
    },
    {
     "name": "stdout",
     "output_type": "stream",
     "text": [
      "Saved data for station 297720 to stations/station_297720.csv\n"
     ]
    },
    {
     "name": "stderr",
     "output_type": "stream",
     "text": [
      "Scraping Stations:   4%|▍         | 81/2082 [14:16<5:54:26, 10.63s/station]"
     ]
    },
    {
     "name": "stdout",
     "output_type": "stream",
     "text": [
      "No records in a given period.\n"
     ]
    },
    {
     "name": "stderr",
     "output_type": "stream",
     "text": [
      "Scraping Stations:   4%|▍         | 82/2082 [14:25<5:39:49, 10.19s/station]"
     ]
    },
    {
     "name": "stdout",
     "output_type": "stream",
     "text": [
      "No records in a given period.\n"
     ]
    },
    {
     "name": "stderr",
     "output_type": "stream",
     "text": [
      "Scraping Stations:   4%|▍         | 83/2082 [14:36<5:43:07, 10.30s/station]"
     ]
    },
    {
     "name": "stdout",
     "output_type": "stream",
     "text": [
      "No records in a given period.\n"
     ]
    },
    {
     "name": "stderr",
     "output_type": "stream",
     "text": [
      "Scraping Stations:   4%|▍         | 84/2082 [14:46<5:37:49, 10.15s/station]"
     ]
    },
    {
     "name": "stdout",
     "output_type": "stream",
     "text": [
      "No records in a given period.\n"
     ]
    },
    {
     "name": "stderr",
     "output_type": "stream",
     "text": [
      "Scraping Stations:   4%|▍         | 85/2082 [14:58<5:54:35, 10.65s/station]"
     ]
    },
    {
     "name": "stdout",
     "output_type": "stream",
     "text": [
      "No records in a given period.\n"
     ]
    },
    {
     "name": "stderr",
     "output_type": "stream",
     "text": [
      "Scraping Stations:   4%|▍         | 86/2082 [15:09<6:02:59, 10.91s/station]"
     ]
    },
    {
     "name": "stdout",
     "output_type": "stream",
     "text": [
      "Saved data for station 225500 to stations/station_225500.csv\n"
     ]
    },
    {
     "name": "stderr",
     "output_type": "stream",
     "text": [
      "Scraping Stations:   4%|▍         | 87/2082 [15:22<6:21:35, 11.48s/station]"
     ]
    },
    {
     "name": "stdout",
     "output_type": "stream",
     "text": [
      "Saved data for station 315940 to stations/station_315940.csv\n"
     ]
    },
    {
     "name": "stderr",
     "output_type": "stream",
     "text": [
      "Scraping Stations:   4%|▍         | 88/2082 [15:34<6:29:27, 11.72s/station]"
     ]
    },
    {
     "name": "stdout",
     "output_type": "stream",
     "text": [
      "Saved data for station 339150 to stations/station_339150.csv\n"
     ]
    },
    {
     "name": "stderr",
     "output_type": "stream",
     "text": [
      "Scraping Stations:   4%|▍         | 89/2082 [15:46<6:27:26, 11.66s/station]"
     ]
    },
    {
     "name": "stdout",
     "output_type": "stream",
     "text": [
      "Saved data for station 285220 to stations/station_285220.csv\n"
     ]
    },
    {
     "name": "stderr",
     "output_type": "stream",
     "text": [
      "Scraping Stations:   4%|▍         | 90/2082 [15:55<6:00:40, 10.86s/station]"
     ]
    },
    {
     "name": "stdout",
     "output_type": "stream",
     "text": [
      "No records in a given period.\n"
     ]
    },
    {
     "name": "stderr",
     "output_type": "stream",
     "text": [
      "Scraping Stations:   4%|▍         | 91/2082 [16:07<6:17:25, 11.37s/station]"
     ]
    },
    {
     "name": "stdout",
     "output_type": "stream",
     "text": [
      "Saved data for station 319210 to stations/station_319210.csv\n"
     ]
    },
    {
     "name": "stderr",
     "output_type": "stream",
     "text": [
      "Scraping Stations:   4%|▍         | 92/2082 [16:19<6:24:05, 11.58s/station]"
     ]
    },
    {
     "name": "stdout",
     "output_type": "stream",
     "text": [
      "Saved data for station 348800 to stations/station_348800.csv\n"
     ]
    },
    {
     "name": "stderr",
     "output_type": "stream",
     "text": [
      "Scraping Stations:   4%|▍         | 93/2082 [16:30<6:15:39, 11.33s/station]"
     ]
    },
    {
     "name": "stdout",
     "output_type": "stream",
     "text": [
      "Saved data for station 353942 to stations/station_353942.csv\n"
     ]
    },
    {
     "name": "stderr",
     "output_type": "stream",
     "text": [
      "Scraping Stations:   5%|▍         | 94/2082 [16:41<6:08:32, 11.12s/station]"
     ]
    },
    {
     "name": "stdout",
     "output_type": "stream",
     "text": [
      "No records in a given period.\n"
     ]
    },
    {
     "name": "stderr",
     "output_type": "stream",
     "text": [
      "Scraping Stations:   5%|▍         | 95/2082 [16:50<5:54:03, 10.69s/station]"
     ]
    },
    {
     "name": "stdout",
     "output_type": "stream",
     "text": [
      "Saved data for station 340690 to stations/station_340690.csv\n"
     ]
    },
    {
     "name": "stderr",
     "output_type": "stream",
     "text": [
      "Scraping Stations:   5%|▍         | 96/2082 [17:00<5:43:21, 10.37s/station]"
     ]
    },
    {
     "name": "stdout",
     "output_type": "stream",
     "text": [
      "No records in a given period.\n"
     ]
    },
    {
     "name": "stderr",
     "output_type": "stream",
     "text": [
      "Scraping Stations:   5%|▍         | 97/2082 [17:11<5:51:22, 10.62s/station]"
     ]
    },
    {
     "name": "stdout",
     "output_type": "stream",
     "text": [
      "Saved data for station 376630 to stations/station_376630.csv\n"
     ]
    },
    {
     "name": "stderr",
     "output_type": "stream",
     "text": [
      "Scraping Stations:   5%|▍         | 98/2082 [17:23<5:58:24, 10.84s/station]"
     ]
    },
    {
     "name": "stdout",
     "output_type": "stream",
     "text": [
      "No records in a given period.\n"
     ]
    },
    {
     "name": "stderr",
     "output_type": "stream",
     "text": [
      "Scraping Stations:   5%|▍         | 99/2082 [17:35<6:10:25, 11.21s/station]"
     ]
    },
    {
     "name": "stdout",
     "output_type": "stream",
     "text": [
      "Saved data for station 294670 to stations/station_294670.csv\n"
     ]
    },
    {
     "name": "stderr",
     "output_type": "stream",
     "text": [
      "Scraping Stations:   5%|▍         | 100/2082 [17:46<6:14:58, 11.35s/station]"
     ]
    },
    {
     "name": "stdout",
     "output_type": "stream",
     "text": [
      "Saved data for station 272255 to stations/station_272255.csv\n"
     ]
    },
    {
     "name": "stderr",
     "output_type": "stream",
     "text": [
      "Scraping Stations:   5%|▍         | 101/2082 [17:55<5:50:43, 10.62s/station]"
     ]
    },
    {
     "name": "stdout",
     "output_type": "stream",
     "text": [
      "No records in a given period.\n"
     ]
    },
    {
     "name": "stderr",
     "output_type": "stream",
     "text": [
      "Scraping Stations:   5%|▍         | 102/2082 [18:06<5:54:44, 10.75s/station]"
     ]
    },
    {
     "name": "stdout",
     "output_type": "stream",
     "text": [
      "Saved data for station 311680 to stations/station_311680.csv\n"
     ]
    },
    {
     "name": "stderr",
     "output_type": "stream",
     "text": [
      "Scraping Stations:   5%|▍         | 103/2082 [18:18<6:00:05, 10.92s/station]"
     ]
    },
    {
     "name": "stdout",
     "output_type": "stream",
     "text": [
      "Saved data for station 270080 to stations/station_270080.csv\n"
     ]
    },
    {
     "name": "stderr",
     "output_type": "stream",
     "text": [
      "Scraping Stations:   5%|▍         | 104/2082 [18:28<5:52:26, 10.69s/station]"
     ]
    },
    {
     "name": "stdout",
     "output_type": "stream",
     "text": [
      "No records in a given period.\n"
     ]
    },
    {
     "name": "stderr",
     "output_type": "stream",
     "text": [
      "Scraping Stations:   5%|▌         | 105/2082 [18:39<5:59:41, 10.92s/station]"
     ]
    },
    {
     "name": "stdout",
     "output_type": "stream",
     "text": [
      "Saved data for station 308220 to stations/station_308220.csv\n"
     ]
    },
    {
     "name": "stderr",
     "output_type": "stream",
     "text": [
      "Scraping Stations:   5%|▌         | 106/2082 [18:51<6:07:51, 11.17s/station]"
     ]
    },
    {
     "name": "stdout",
     "output_type": "stream",
     "text": [
      "Saved data for station 305540 to stations/station_305540.csv\n"
     ]
    },
    {
     "name": "stderr",
     "output_type": "stream",
     "text": [
      "Scraping Stations:   5%|▌         | 107/2082 [19:01<5:52:33, 10.71s/station]"
     ]
    },
    {
     "name": "stdout",
     "output_type": "stream",
     "text": [
      "No records in a given period.\n"
     ]
    },
    {
     "name": "stderr",
     "output_type": "stream",
     "text": [
      "Scraping Stations:   5%|▌         | 108/2082 [19:13<6:09:11, 11.22s/station]"
     ]
    },
    {
     "name": "stdout",
     "output_type": "stream",
     "text": [
      "No records in a given period.\n"
     ]
    },
    {
     "name": "stderr",
     "output_type": "stream",
     "text": [
      "Scraping Stations:   5%|▌         | 109/2082 [19:26<6:30:08, 11.86s/station]"
     ]
    },
    {
     "name": "stdout",
     "output_type": "stream",
     "text": [
      "Saved data for station 298270 to stations/station_298270.csv\n"
     ]
    },
    {
     "name": "stderr",
     "output_type": "stream",
     "text": [
      "Scraping Stations:   5%|▌         | 110/2082 [19:38<6:30:27, 11.88s/station]"
     ]
    },
    {
     "name": "stdout",
     "output_type": "stream",
     "text": [
      "Saved data for station 253350 to stations/station_253350.csv\n"
     ]
    },
    {
     "name": "stderr",
     "output_type": "stream",
     "text": [
      "Scraping Stations:   5%|▌         | 111/2082 [19:51<6:36:39, 12.07s/station]"
     ]
    },
    {
     "name": "stdout",
     "output_type": "stream",
     "text": [
      "Saved data for station 238910 to stations/station_238910.csv\n"
     ]
    },
    {
     "name": "stderr",
     "output_type": "stream",
     "text": [
      "Scraping Stations:   5%|▌         | 112/2082 [20:02<6:31:06, 11.91s/station]"
     ]
    },
    {
     "name": "stdout",
     "output_type": "stream",
     "text": [
      "No records in a given period.\n"
     ]
    },
    {
     "name": "stderr",
     "output_type": "stream",
     "text": [
      "Scraping Stations:   5%|▌         | 113/2082 [20:14<6:32:32, 11.96s/station]"
     ]
    },
    {
     "name": "stdout",
     "output_type": "stream",
     "text": [
      "No records in a given period.\n"
     ]
    },
    {
     "name": "stderr",
     "output_type": "stream",
     "text": [
      "Scraping Stations:   5%|▌         | 114/2082 [20:27<6:37:28, 12.12s/station]"
     ]
    },
    {
     "name": "stdout",
     "output_type": "stream",
     "text": [
      "Saved data for station 293280 to stations/station_293280.csv\n"
     ]
    },
    {
     "name": "stderr",
     "output_type": "stream",
     "text": [
      "Scraping Stations:   6%|▌         | 115/2082 [20:40<6:51:11, 12.54s/station]"
     ]
    },
    {
     "name": "stdout",
     "output_type": "stream",
     "text": [
      "Saved data for station 306120 to stations/station_306120.csv\n"
     ]
    },
    {
     "name": "stderr",
     "output_type": "stream",
     "text": [
      "Scraping Stations:   6%|▌         | 116/2082 [20:50<6:20:22, 11.61s/station]"
     ]
    },
    {
     "name": "stdout",
     "output_type": "stream",
     "text": [
      "No records in a given period.\n"
     ]
    },
    {
     "name": "stderr",
     "output_type": "stream",
     "text": [
      "Scraping Stations:   6%|▌         | 117/2082 [21:01<6:11:49, 11.35s/station]"
     ]
    },
    {
     "name": "stdout",
     "output_type": "stream",
     "text": [
      "Saved data for station 296620 to stations/station_296620.csv\n"
     ]
    },
    {
     "name": "stderr",
     "output_type": "stream",
     "text": [
      "Scraping Stations:   6%|▌         | 118/2082 [21:12<6:11:14, 11.34s/station]"
     ]
    },
    {
     "name": "stdout",
     "output_type": "stream",
     "text": [
      "Saved data for station 341520 to stations/station_341520.csv\n"
     ]
    },
    {
     "name": "stderr",
     "output_type": "stream",
     "text": [
      "Scraping Stations:   6%|▌         | 119/2082 [21:23<6:04:38, 11.15s/station]"
     ]
    },
    {
     "name": "stdout",
     "output_type": "stream",
     "text": [
      "No records in a given period.\n"
     ]
    },
    {
     "name": "stderr",
     "output_type": "stream",
     "text": [
      "Scraping Stations:   6%|▌         | 120/2082 [21:31<5:38:11, 10.34s/station]"
     ]
    },
    {
     "name": "stdout",
     "output_type": "stream",
     "text": [
      "No records in a given period.\n"
     ]
    },
    {
     "name": "stderr",
     "output_type": "stream",
     "text": [
      "Scraping Stations:   6%|▌         | 121/2082 [21:41<5:35:30, 10.27s/station]"
     ]
    },
    {
     "name": "stdout",
     "output_type": "stream",
     "text": [
      "No records in a given period.\n"
     ]
    },
    {
     "name": "stderr",
     "output_type": "stream",
     "text": [
      "Scraping Stations:   6%|▌         | 122/2082 [21:54<6:02:23, 11.09s/station]"
     ]
    },
    {
     "name": "stdout",
     "output_type": "stream",
     "text": [
      "Saved data for station 296120 to stations/station_296120.csv\n"
     ]
    },
    {
     "name": "stderr",
     "output_type": "stream",
     "text": [
      "Scraping Stations:   6%|▌         | 123/2082 [22:06<6:08:51, 11.30s/station]"
     ]
    },
    {
     "name": "stdout",
     "output_type": "stream",
     "text": [
      "Saved data for station 306360 to stations/station_306360.csv\n"
     ]
    },
    {
     "name": "stderr",
     "output_type": "stream",
     "text": [
      "Scraping Stations:   6%|▌         | 124/2082 [22:16<5:57:54, 10.97s/station]"
     ]
    },
    {
     "name": "stdout",
     "output_type": "stream",
     "text": [
      "No records in a given period.\n"
     ]
    },
    {
     "name": "stderr",
     "output_type": "stream",
     "text": [
      "Scraping Stations:   6%|▌         | 125/2082 [22:26<5:46:37, 10.63s/station]"
     ]
    },
    {
     "name": "stdout",
     "output_type": "stream",
     "text": [
      "No records in a given period.\n"
     ]
    },
    {
     "name": "stderr",
     "output_type": "stream",
     "text": [
      "Scraping Stations:   6%|▌         | 126/2082 [22:38<6:02:33, 11.12s/station]"
     ]
    },
    {
     "name": "stdout",
     "output_type": "stream",
     "text": [
      "Saved data for station 201070 to stations/station_201070.csv\n"
     ]
    },
    {
     "name": "stderr",
     "output_type": "stream",
     "text": [
      "Scraping Stations:   6%|▌         | 127/2082 [22:48<5:53:26, 10.85s/station]"
     ]
    },
    {
     "name": "stdout",
     "output_type": "stream",
     "text": [
      "No records in a given period.\n"
     ]
    },
    {
     "name": "stderr",
     "output_type": "stream",
     "text": [
      "Scraping Stations:   6%|▌         | 128/2082 [22:59<5:52:33, 10.83s/station]"
     ]
    },
    {
     "name": "stdout",
     "output_type": "stream",
     "text": [
      "No records in a given period.\n"
     ]
    },
    {
     "name": "stderr",
     "output_type": "stream",
     "text": [
      "Scraping Stations:   6%|▌         | 129/2082 [23:12<6:08:46, 11.33s/station]"
     ]
    },
    {
     "name": "stdout",
     "output_type": "stream",
     "text": [
      "Saved data for station 298380 to stations/station_298380.csv\n"
     ]
    },
    {
     "name": "stderr",
     "output_type": "stream",
     "text": [
      "Scraping Stations:   6%|▌         | 130/2082 [23:25<6:25:51, 11.86s/station]"
     ]
    },
    {
     "name": "stdout",
     "output_type": "stream",
     "text": [
      "Saved data for station 242630 to stations/station_242630.csv\n"
     ]
    },
    {
     "name": "stderr",
     "output_type": "stream",
     "text": [
      "Scraping Stations:   6%|▋         | 131/2082 [23:38<6:38:02, 12.24s/station]"
     ]
    },
    {
     "name": "stdout",
     "output_type": "stream",
     "text": [
      "Saved data for station 242610 to stations/station_242610.csv\n"
     ]
    },
    {
     "name": "stderr",
     "output_type": "stream",
     "text": [
      "Scraping Stations:   6%|▋         | 132/2082 [23:50<6:33:45, 12.12s/station]"
     ]
    },
    {
     "name": "stdout",
     "output_type": "stream",
     "text": [
      "Saved data for station 246560 to stations/station_246560.csv\n"
     ]
    },
    {
     "name": "stderr",
     "output_type": "stream",
     "text": [
      "Scraping Stations:   6%|▋         | 133/2082 [23:59<6:09:06, 11.36s/station]"
     ]
    },
    {
     "name": "stdout",
     "output_type": "stream",
     "text": [
      "No records in a given period.\n"
     ]
    },
    {
     "name": "stderr",
     "output_type": "stream",
     "text": [
      "Scraping Stations:   6%|▋         | 134/2082 [24:10<6:02:39, 11.17s/station]"
     ]
    },
    {
     "name": "stdout",
     "output_type": "stream",
     "text": [
      "No records in a given period.\n"
     ]
    },
    {
     "name": "stderr",
     "output_type": "stream",
     "text": [
      "Scraping Stations:   6%|▋         | 135/2082 [24:21<5:57:01, 11.00s/station]"
     ]
    },
    {
     "name": "stdout",
     "output_type": "stream",
     "text": [
      "No records in a given period.\n"
     ]
    },
    {
     "name": "stderr",
     "output_type": "stream",
     "text": [
      "Scraping Stations:   7%|▋         | 136/2082 [24:30<5:42:14, 10.55s/station]"
     ]
    },
    {
     "name": "stdout",
     "output_type": "stream",
     "text": [
      "Saved data for station 345100 to stations/station_345100.csv\n"
     ]
    },
    {
     "name": "stderr",
     "output_type": "stream",
     "text": [
      "Scraping Stations:   7%|▋         | 137/2082 [24:40<5:30:52, 10.21s/station]"
     ]
    },
    {
     "name": "stdout",
     "output_type": "stream",
     "text": [
      "No records in a given period.\n"
     ]
    },
    {
     "name": "stderr",
     "output_type": "stream",
     "text": [
      "Scraping Stations:   7%|▋         | 138/2082 [24:53<6:04:58, 11.26s/station]"
     ]
    },
    {
     "name": "stdout",
     "output_type": "stream",
     "text": [
      "Saved data for station 237760 to stations/station_237760.csv\n"
     ]
    },
    {
     "name": "stderr",
     "output_type": "stream",
     "text": [
      "Scraping Stations:   7%|▋         | 139/2082 [25:06<6:19:14, 11.71s/station]"
     ]
    },
    {
     "name": "stdout",
     "output_type": "stream",
     "text": [
      "Saved data for station 306270 to stations/station_306270.csv\n"
     ]
    },
    {
     "name": "stderr",
     "output_type": "stream",
     "text": [
      "Scraping Stations:   7%|▋         | 140/2082 [25:16<5:57:04, 11.03s/station]"
     ]
    },
    {
     "name": "stdout",
     "output_type": "stream",
     "text": [
      "No records in a given period.\n"
     ]
    },
    {
     "name": "stderr",
     "output_type": "stream",
     "text": [
      "Scraping Stations:   7%|▋         | 141/2082 [25:26<5:50:42, 10.84s/station]"
     ]
    },
    {
     "name": "stdout",
     "output_type": "stream",
     "text": [
      "No records in a given period.\n"
     ]
    },
    {
     "name": "stderr",
     "output_type": "stream",
     "text": [
      "Scraping Stations:   7%|▋         | 142/2082 [25:37<5:54:09, 10.95s/station]"
     ]
    },
    {
     "name": "stdout",
     "output_type": "stream",
     "text": [
      "No records in a given period.\n"
     ]
    },
    {
     "name": "stderr",
     "output_type": "stream",
     "text": [
      "Scraping Stations:   7%|▋         | 143/2082 [25:51<6:17:55, 11.69s/station]"
     ]
    },
    {
     "name": "stdout",
     "output_type": "stream",
     "text": [
      "Saved data for station 279950 to stations/station_279950.csv\n"
     ]
    },
    {
     "name": "stderr",
     "output_type": "stream",
     "text": [
      "Scraping Stations:   7%|▋         | 144/2082 [26:02<6:14:49, 11.60s/station]"
     ]
    },
    {
     "name": "stdout",
     "output_type": "stream",
     "text": [
      "No records in a given period.\n"
     ]
    },
    {
     "name": "stderr",
     "output_type": "stream",
     "text": [
      "Scraping Stations:   7%|▋         | 145/2082 [26:13<6:06:54, 11.37s/station]"
     ]
    },
    {
     "name": "stdout",
     "output_type": "stream",
     "text": [
      "Saved data for station 345390 to stations/station_345390.csv\n"
     ]
    },
    {
     "name": "stderr",
     "output_type": "stream",
     "text": [
      "Scraping Stations:   7%|▋         | 146/2082 [26:27<6:34:50, 12.24s/station]"
     ]
    },
    {
     "name": "stdout",
     "output_type": "stream",
     "text": [
      "Saved data for station 241940 to stations/station_241940.csv\n"
     ]
    },
    {
     "name": "stderr",
     "output_type": "stream",
     "text": [
      "Scraping Stations:   7%|▋         | 147/2082 [26:37<6:14:15, 11.60s/station]"
     ]
    },
    {
     "name": "stdout",
     "output_type": "stream",
     "text": [
      "No records in a given period.\n"
     ]
    },
    {
     "name": "stderr",
     "output_type": "stream",
     "text": [
      "Scraping Stations:   7%|▋         | 148/2082 [26:48<6:06:18, 11.36s/station]"
     ]
    },
    {
     "name": "stdout",
     "output_type": "stream",
     "text": [
      "No records in a given period.\n"
     ]
    },
    {
     "name": "stderr",
     "output_type": "stream",
     "text": [
      "Scraping Stations:   7%|▋         | 149/2082 [27:01<6:20:07, 11.80s/station]"
     ]
    },
    {
     "name": "stdout",
     "output_type": "stream",
     "text": [
      "No records in a given period.\n"
     ]
    },
    {
     "name": "stderr",
     "output_type": "stream",
     "text": [
      "Scraping Stations:   7%|▋         | 150/2082 [27:12<6:12:13, 11.56s/station]"
     ]
    },
    {
     "name": "stdout",
     "output_type": "stream",
     "text": [
      "Saved data for station 279550 to stations/station_279550.csv\n"
     ]
    },
    {
     "name": "stderr",
     "output_type": "stream",
     "text": [
      "Scraping Stations:   7%|▋         | 151/2082 [27:22<5:59:52, 11.18s/station]"
     ]
    },
    {
     "name": "stdout",
     "output_type": "stream",
     "text": [
      "No records in a given period.\n"
     ]
    },
    {
     "name": "stderr",
     "output_type": "stream",
     "text": [
      "Scraping Stations:   7%|▋         | 152/2082 [27:32<5:47:23, 10.80s/station]"
     ]
    },
    {
     "name": "stdout",
     "output_type": "stream",
     "text": [
      "No records in a given period.\n"
     ]
    },
    {
     "name": "stderr",
     "output_type": "stream",
     "text": [
      "Scraping Stations:   7%|▋         | 153/2082 [27:43<5:45:11, 10.74s/station]"
     ]
    },
    {
     "name": "stdout",
     "output_type": "stream",
     "text": [
      "No records in a given period.\n"
     ]
    },
    {
     "name": "stderr",
     "output_type": "stream",
     "text": [
      "Scraping Stations:   7%|▋         | 154/2082 [27:52<5:31:01, 10.30s/station]"
     ]
    },
    {
     "name": "stdout",
     "output_type": "stream",
     "text": [
      "Saved data for station 344340 to stations/station_344340.csv\n"
     ]
    },
    {
     "name": "stderr",
     "output_type": "stream",
     "text": [
      "Scraping Stations:   7%|▋         | 155/2082 [28:03<5:42:51, 10.68s/station]"
     ]
    },
    {
     "name": "stdout",
     "output_type": "stream",
     "text": [
      "Saved data for station 260690 to stations/station_260690.csv\n"
     ]
    },
    {
     "name": "stderr",
     "output_type": "stream",
     "text": [
      "Scraping Stations:   7%|▋         | 156/2082 [28:14<5:42:29, 10.67s/station]"
     ]
    },
    {
     "name": "stdout",
     "output_type": "stream",
     "text": [
      "Saved data for station 315130 to stations/station_315130.csv\n"
     ]
    },
    {
     "name": "stderr",
     "output_type": "stream",
     "text": [
      "Scraping Stations:   8%|▊         | 157/2082 [28:26<5:57:55, 11.16s/station]"
     ]
    },
    {
     "name": "stdout",
     "output_type": "stream",
     "text": [
      "Saved data for station 229390 to stations/station_229390.csv\n"
     ]
    },
    {
     "name": "stderr",
     "output_type": "stream",
     "text": [
      "Scraping Stations:   8%|▊         | 158/2082 [28:37<5:49:14, 10.89s/station]"
     ]
    },
    {
     "name": "stdout",
     "output_type": "stream",
     "text": [
      "No records in a given period.\n"
     ]
    },
    {
     "name": "stderr",
     "output_type": "stream",
     "text": [
      "Scraping Stations:   8%|▊         | 159/2082 [28:46<5:29:06, 10.27s/station]"
     ]
    },
    {
     "name": "stdout",
     "output_type": "stream",
     "text": [
      "No records in a given period.\n"
     ]
    },
    {
     "name": "stderr",
     "output_type": "stream",
     "text": [
      "Scraping Stations:   8%|▊         | 160/2082 [28:56<5:35:01, 10.46s/station]"
     ]
    },
    {
     "name": "stdout",
     "output_type": "stream",
     "text": [
      "No records in a given period.\n"
     ]
    },
    {
     "name": "stderr",
     "output_type": "stream",
     "text": [
      "Scraping Stations:   8%|▊         | 161/2082 [29:09<5:52:20, 11.00s/station]"
     ]
    },
    {
     "name": "stdout",
     "output_type": "stream",
     "text": [
      "Saved data for station 265850 to stations/station_265850.csv\n"
     ]
    },
    {
     "name": "stderr",
     "output_type": "stream",
     "text": [
      "Scraping Stations:   8%|▊         | 162/2082 [29:19<5:42:41, 10.71s/station]"
     ]
    },
    {
     "name": "stdout",
     "output_type": "stream",
     "text": [
      "No records in a given period.\n"
     ]
    },
    {
     "name": "stderr",
     "output_type": "stream",
     "text": [
      "Scraping Stations:   8%|▊         | 163/2082 [29:31<5:54:53, 11.10s/station]"
     ]
    },
    {
     "name": "stdout",
     "output_type": "stream",
     "text": [
      "Saved data for station 247580 to stations/station_247580.csv\n"
     ]
    },
    {
     "name": "stderr",
     "output_type": "stream",
     "text": [
      "Scraping Stations:   8%|▊         | 164/2082 [29:41<5:51:38, 11.00s/station]"
     ]
    },
    {
     "name": "stdout",
     "output_type": "stream",
     "text": [
      "No records in a given period.\n"
     ]
    },
    {
     "name": "stderr",
     "output_type": "stream",
     "text": [
      "Scraping Stations:   8%|▊         | 165/2082 [29:52<5:43:06, 10.74s/station]"
     ]
    },
    {
     "name": "stdout",
     "output_type": "stream",
     "text": [
      "No records in a given period.\n"
     ]
    },
    {
     "name": "stderr",
     "output_type": "stream",
     "text": [
      "Scraping Stations:   8%|▊         | 166/2082 [30:01<5:30:22, 10.35s/station]"
     ]
    },
    {
     "name": "stdout",
     "output_type": "stream",
     "text": [
      "No records in a given period.\n"
     ]
    },
    {
     "name": "stderr",
     "output_type": "stream",
     "text": [
      "Scraping Stations:   8%|▊         | 167/2082 [30:13<5:44:51, 10.81s/station]"
     ]
    },
    {
     "name": "stdout",
     "output_type": "stream",
     "text": [
      "Saved data for station 227620 to stations/station_227620.csv\n"
     ]
    },
    {
     "name": "stderr",
     "output_type": "stream",
     "text": [
      "Scraping Stations:   8%|▊         | 168/2082 [30:22<5:25:21, 10.20s/station]"
     ]
    },
    {
     "name": "stdout",
     "output_type": "stream",
     "text": [
      "No records in a given period.\n"
     ]
    },
    {
     "name": "stderr",
     "output_type": "stream",
     "text": [
      "Scraping Stations:   8%|▊         | 169/2082 [30:31<5:18:05,  9.98s/station]"
     ]
    },
    {
     "name": "stdout",
     "output_type": "stream",
     "text": [
      "No records in a given period.\n"
     ]
    },
    {
     "name": "stderr",
     "output_type": "stream",
     "text": [
      "Scraping Stations:   8%|▊         | 170/2082 [30:41<5:20:10, 10.05s/station]"
     ]
    },
    {
     "name": "stdout",
     "output_type": "stream",
     "text": [
      "No records in a given period.\n"
     ]
    },
    {
     "name": "stderr",
     "output_type": "stream",
     "text": [
      "Scraping Stations:   8%|▊         | 171/2082 [30:54<5:45:49, 10.86s/station]"
     ]
    },
    {
     "name": "stdout",
     "output_type": "stream",
     "text": [
      "Saved data for station 236310 to stations/station_236310.csv\n"
     ]
    },
    {
     "name": "stderr",
     "output_type": "stream",
     "text": [
      "Scraping Stations:   8%|▊         | 172/2082 [31:04<5:34:50, 10.52s/station]"
     ]
    },
    {
     "name": "stdout",
     "output_type": "stream",
     "text": [
      "No records in a given period.\n"
     ]
    },
    {
     "name": "stderr",
     "output_type": "stream",
     "text": [
      "Scraping Stations:   8%|▊         | 173/2082 [31:14<5:35:06, 10.53s/station]"
     ]
    },
    {
     "name": "stdout",
     "output_type": "stream",
     "text": [
      "No records in a given period.\n"
     ]
    },
    {
     "name": "stderr",
     "output_type": "stream",
     "text": [
      "Scraping Stations:   8%|▊         | 174/2082 [31:24<5:27:13, 10.29s/station]"
     ]
    },
    {
     "name": "stdout",
     "output_type": "stream",
     "text": [
      "No records in a given period.\n"
     ]
    },
    {
     "name": "stderr",
     "output_type": "stream",
     "text": [
      "Scraping Stations:   8%|▊         | 175/2082 [31:34<5:22:39, 10.15s/station]"
     ]
    },
    {
     "name": "stdout",
     "output_type": "stream",
     "text": [
      "No records in a given period.\n"
     ]
    },
    {
     "name": "stderr",
     "output_type": "stream",
     "text": [
      "Scraping Stations:   8%|▊         | 176/2082 [31:45<5:29:34, 10.38s/station]"
     ]
    },
    {
     "name": "stdout",
     "output_type": "stream",
     "text": [
      "Saved data for station 244490 to stations/station_244490.csv\n"
     ]
    },
    {
     "name": "stderr",
     "output_type": "stream",
     "text": [
      "Scraping Stations:   9%|▊         | 177/2082 [31:55<5:23:29, 10.19s/station]"
     ]
    },
    {
     "name": "stdout",
     "output_type": "stream",
     "text": [
      "Saved data for station 339070 to stations/station_339070.csv\n"
     ]
    },
    {
     "name": "stderr",
     "output_type": "stream",
     "text": [
      "Scraping Stations:   9%|▊         | 178/2082 [32:05<5:27:01, 10.31s/station]"
     ]
    },
    {
     "name": "stdout",
     "output_type": "stream",
     "text": [
      "No records in a given period.\n"
     ]
    },
    {
     "name": "stderr",
     "output_type": "stream",
     "text": [
      "Scraping Stations:   9%|▊         | 179/2082 [32:18<5:53:19, 11.14s/station]"
     ]
    },
    {
     "name": "stdout",
     "output_type": "stream",
     "text": [
      "Saved data for station 299390 to stations/station_299390.csv\n"
     ]
    },
    {
     "name": "stderr",
     "output_type": "stream",
     "text": [
      "Scraping Stations:   9%|▊         | 180/2082 [32:30<5:55:27, 11.21s/station]"
     ]
    },
    {
     "name": "stdout",
     "output_type": "stream",
     "text": [
      "Saved data for station 318320 to stations/station_318320.csv\n"
     ]
    },
    {
     "name": "stderr",
     "output_type": "stream",
     "text": [
      "Scraping Stations:   9%|▊         | 181/2082 [32:42<6:02:12, 11.43s/station]"
     ]
    },
    {
     "name": "stdout",
     "output_type": "stream",
     "text": [
      "Saved data for station 251470 to stations/station_251470.csv\n"
     ]
    },
    {
     "name": "stderr",
     "output_type": "stream",
     "text": [
      "Scraping Stations:   9%|▊         | 182/2082 [32:53<6:03:30, 11.48s/station]"
     ]
    },
    {
     "name": "stdout",
     "output_type": "stream",
     "text": [
      "No records in a given period.\n"
     ]
    },
    {
     "name": "stderr",
     "output_type": "stream",
     "text": [
      "Scraping Stations:   9%|▉         | 183/2082 [33:03<5:48:01, 11.00s/station]"
     ]
    },
    {
     "name": "stdout",
     "output_type": "stream",
     "text": [
      "No records in a given period.\n"
     ]
    },
    {
     "name": "stderr",
     "output_type": "stream",
     "text": [
      "Scraping Stations:   9%|▉         | 184/2082 [33:13<5:34:25, 10.57s/station]"
     ]
    },
    {
     "name": "stdout",
     "output_type": "stream",
     "text": [
      "No records in a given period.\n"
     ]
    },
    {
     "name": "stderr",
     "output_type": "stream",
     "text": [
      "Scraping Stations:   9%|▉         | 185/2082 [33:26<6:00:36, 11.41s/station]"
     ]
    },
    {
     "name": "stdout",
     "output_type": "stream",
     "text": [
      "Saved data for station 317130 to stations/station_317130.csv\n"
     ]
    },
    {
     "name": "stderr",
     "output_type": "stream",
     "text": [
      "Scraping Stations:   9%|▉         | 186/2082 [33:39<6:11:25, 11.75s/station]"
     ]
    },
    {
     "name": "stdout",
     "output_type": "stream",
     "text": [
      "Saved data for station 286210 to stations/station_286210.csv\n"
     ]
    },
    {
     "name": "stderr",
     "output_type": "stream",
     "text": [
      "Scraping Stations:   9%|▉         | 187/2082 [33:49<5:59:30, 11.38s/station]"
     ]
    },
    {
     "name": "stdout",
     "output_type": "stream",
     "text": [
      "Saved data for station 281380 to stations/station_281380.csv\n"
     ]
    },
    {
     "name": "stderr",
     "output_type": "stream",
     "text": [
      "Scraping Stations:   9%|▉         | 188/2082 [33:59<5:48:50, 11.05s/station]"
     ]
    },
    {
     "name": "stdout",
     "output_type": "stream",
     "text": [
      "No records in a given period.\n"
     ]
    },
    {
     "name": "stderr",
     "output_type": "stream",
     "text": [
      "Scraping Stations:   9%|▉         | 189/2082 [34:09<5:37:35, 10.70s/station]"
     ]
    },
    {
     "name": "stdout",
     "output_type": "stream",
     "text": [
      "No records in a given period.\n"
     ]
    },
    {
     "name": "stderr",
     "output_type": "stream",
     "text": [
      "Scraping Stations:   9%|▉         | 190/2082 [34:18<5:23:24, 10.26s/station]"
     ]
    },
    {
     "name": "stdout",
     "output_type": "stream",
     "text": [
      "No records in a given period.\n"
     ]
    },
    {
     "name": "stderr",
     "output_type": "stream",
     "text": [
      "Scraping Stations:   9%|▉         | 191/2082 [34:28<5:18:24, 10.10s/station]"
     ]
    },
    {
     "name": "stdout",
     "output_type": "stream",
     "text": [
      "No records in a given period.\n"
     ]
    },
    {
     "name": "stderr",
     "output_type": "stream",
     "text": [
      "Scraping Stations:   9%|▉         | 192/2082 [34:38<5:16:57, 10.06s/station]"
     ]
    },
    {
     "name": "stdout",
     "output_type": "stream",
     "text": [
      "No records in a given period.\n"
     ]
    },
    {
     "name": "stderr",
     "output_type": "stream",
     "text": [
      "Scraping Stations:   9%|▉         | 193/2082 [34:53<5:58:26, 11.39s/station]"
     ]
    },
    {
     "name": "stdout",
     "output_type": "stream",
     "text": [
      "Saved data for station 315100 to stations/station_315100.csv\n"
     ]
    },
    {
     "name": "stderr",
     "output_type": "stream",
     "text": [
      "Scraping Stations:   9%|▉         | 194/2082 [35:04<5:53:50, 11.24s/station]"
     ]
    },
    {
     "name": "stdout",
     "output_type": "stream",
     "text": [
      "Saved data for station 315120 to stations/station_315120.csv\n"
     ]
    },
    {
     "name": "stderr",
     "output_type": "stream",
     "text": [
      "Scraping Stations:   9%|▉         | 195/2082 [35:15<5:52:21, 11.20s/station]"
     ]
    },
    {
     "name": "stdout",
     "output_type": "stream",
     "text": [
      "Saved data for station 349580 to stations/station_349580.csv\n"
     ]
    },
    {
     "name": "stderr",
     "output_type": "stream",
     "text": [
      "Scraping Stations:   9%|▉         | 196/2082 [35:24<5:35:24, 10.67s/station]"
     ]
    },
    {
     "name": "stdout",
     "output_type": "stream",
     "text": [
      "No records in a given period.\n"
     ]
    },
    {
     "name": "stderr",
     "output_type": "stream",
     "text": [
      "Scraping Stations:   9%|▉         | 197/2082 [35:33<5:21:49, 10.24s/station]"
     ]
    },
    {
     "name": "stdout",
     "output_type": "stream",
     "text": [
      "No records in a given period.\n"
     ]
    },
    {
     "name": "stderr",
     "output_type": "stream",
     "text": [
      "Scraping Stations:  10%|▉         | 198/2082 [35:44<5:28:15, 10.45s/station]"
     ]
    },
    {
     "name": "stdout",
     "output_type": "stream",
     "text": [
      "Saved data for station 341100 to stations/station_341100.csv\n"
     ]
    },
    {
     "name": "stderr",
     "output_type": "stream",
     "text": [
      "Scraping Stations:  10%|▉         | 199/2082 [35:57<5:53:16, 11.26s/station]"
     ]
    },
    {
     "name": "stdout",
     "output_type": "stream",
     "text": [
      "Saved data for station 314390 to stations/station_314390.csv\n"
     ]
    },
    {
     "name": "stderr",
     "output_type": "stream",
     "text": [
      "Scraping Stations:  10%|▉         | 200/2082 [36:10<6:04:57, 11.64s/station]"
     ]
    },
    {
     "name": "stdout",
     "output_type": "stream",
     "text": [
      "Saved data for station 295530 to stations/station_295530.csv\n"
     ]
    },
    {
     "name": "stderr",
     "output_type": "stream",
     "text": [
      "Scraping Stations:  10%|▉         | 201/2082 [36:22<6:06:40, 11.70s/station]"
     ]
    },
    {
     "name": "stdout",
     "output_type": "stream",
     "text": [
      "Saved data for station 292820 to stations/station_292820.csv\n"
     ]
    },
    {
     "name": "stderr",
     "output_type": "stream",
     "text": [
      "Scraping Stations:  10%|▉         | 202/2082 [36:34<6:09:16, 11.79s/station]"
     ]
    },
    {
     "name": "stdout",
     "output_type": "stream",
     "text": [
      "Saved data for station 343360 to stations/station_343360.csv\n"
     ]
    },
    {
     "name": "stderr",
     "output_type": "stream",
     "text": [
      "Scraping Stations:  10%|▉         | 203/2082 [36:45<6:00:20, 11.51s/station]"
     ]
    },
    {
     "name": "stdout",
     "output_type": "stream",
     "text": [
      "No records in a given period.\n"
     ]
    },
    {
     "name": "stderr",
     "output_type": "stream",
     "text": [
      "Scraping Stations:  10%|▉         | 204/2082 [36:57<6:04:07, 11.63s/station]"
     ]
    },
    {
     "name": "stdout",
     "output_type": "stream",
     "text": [
      "Saved data for station 344450 to stations/station_344450.csv\n"
     ]
    },
    {
     "name": "stderr",
     "output_type": "stream",
     "text": [
      "Scraping Stations:  10%|▉         | 205/2082 [37:08<6:02:29, 11.59s/station]"
     ]
    },
    {
     "name": "stdout",
     "output_type": "stream",
     "text": [
      "No records in a given period.\n"
     ]
    },
    {
     "name": "stderr",
     "output_type": "stream",
     "text": [
      "Scraping Stations:  10%|▉         | 206/2082 [37:20<6:01:38, 11.57s/station]"
     ]
    },
    {
     "name": "stdout",
     "output_type": "stream",
     "text": [
      "Saved data for station 262980 to stations/station_262980.csv\n"
     ]
    },
    {
     "name": "stderr",
     "output_type": "stream",
     "text": [
      "Scraping Stations:  10%|▉         | 207/2082 [37:29<5:45:02, 11.04s/station]"
     ]
    },
    {
     "name": "stdout",
     "output_type": "stream",
     "text": [
      "No records in a given period.\n"
     ]
    },
    {
     "name": "stderr",
     "output_type": "stream",
     "text": [
      "Scraping Stations:  10%|▉         | 208/2082 [37:40<5:44:58, 11.04s/station]"
     ]
    },
    {
     "name": "stdout",
     "output_type": "stream",
     "text": [
      "No records in a given period.\n"
     ]
    },
    {
     "name": "stderr",
     "output_type": "stream",
     "text": [
      "Scraping Stations:  10%|█         | 209/2082 [37:51<5:39:36, 10.88s/station]"
     ]
    },
    {
     "name": "stdout",
     "output_type": "stream",
     "text": [
      "No records in a given period.\n"
     ]
    },
    {
     "name": "stderr",
     "output_type": "stream",
     "text": [
      "Scraping Stations:  10%|█         | 210/2082 [38:01<5:33:33, 10.69s/station]"
     ]
    },
    {
     "name": "stdout",
     "output_type": "stream",
     "text": [
      "No records in a given period.\n"
     ]
    },
    {
     "name": "stderr",
     "output_type": "stream",
     "text": [
      "Scraping Stations:  10%|█         | 211/2082 [38:11<5:22:26, 10.34s/station]"
     ]
    },
    {
     "name": "stdout",
     "output_type": "stream",
     "text": [
      "No records in a given period.\n"
     ]
    },
    {
     "name": "stderr",
     "output_type": "stream",
     "text": [
      "Scraping Stations:  10%|█         | 212/2082 [38:22<5:30:42, 10.61s/station]"
     ]
    },
    {
     "name": "stdout",
     "output_type": "stream",
     "text": [
      "Saved data for station 350010 to stations/station_350010.csv\n"
     ]
    },
    {
     "name": "stderr",
     "output_type": "stream",
     "text": [
      "Scraping Stations:  10%|█         | 213/2082 [38:35<5:50:31, 11.25s/station]"
     ]
    },
    {
     "name": "stdout",
     "output_type": "stream",
     "text": [
      "Saved data for station 294710 to stations/station_294710.csv\n"
     ]
    },
    {
     "name": "stderr",
     "output_type": "stream",
     "text": [
      "Scraping Stations:  10%|█         | 214/2082 [38:47<5:58:30, 11.52s/station]"
     ]
    },
    {
     "name": "stdout",
     "output_type": "stream",
     "text": [
      "Saved data for station 325620 to stations/station_325620.csv\n"
     ]
    },
    {
     "name": "stderr",
     "output_type": "stream",
     "text": [
      "Scraping Stations:  10%|█         | 215/2082 [38:59<6:04:08, 11.70s/station]"
     ]
    },
    {
     "name": "stdout",
     "output_type": "stream",
     "text": [
      "Saved data for station 285930 to stations/station_285930.csv\n"
     ]
    },
    {
     "name": "stderr",
     "output_type": "stream",
     "text": [
      "Scraping Stations:  10%|█         | 216/2082 [39:11<6:04:12, 11.71s/station]"
     ]
    },
    {
     "name": "stdout",
     "output_type": "stream",
     "text": [
      "Saved data for station 284910 to stations/station_284910.csv\n"
     ]
    },
    {
     "name": "stderr",
     "output_type": "stream",
     "text": [
      "Scraping Stations:  10%|█         | 217/2082 [39:21<5:55:37, 11.44s/station]"
     ]
    },
    {
     "name": "stdout",
     "output_type": "stream",
     "text": [
      "No records in a given period.\n"
     ]
    },
    {
     "name": "stderr",
     "output_type": "stream",
     "text": [
      "Scraping Stations:  10%|█         | 218/2082 [39:32<5:46:39, 11.16s/station]"
     ]
    },
    {
     "name": "stdout",
     "output_type": "stream",
     "text": [
      "No records in a given period.\n"
     ]
    },
    {
     "name": "stderr",
     "output_type": "stream",
     "text": [
      "Scraping Stations:  11%|█         | 219/2082 [39:44<5:56:40, 11.49s/station]"
     ]
    },
    {
     "name": "stdout",
     "output_type": "stream",
     "text": [
      "Saved data for station 311740 to stations/station_311740.csv\n"
     ]
    },
    {
     "name": "stderr",
     "output_type": "stream",
     "text": [
      "Scraping Stations:  11%|█         | 220/2082 [39:57<6:07:12, 11.83s/station]"
     ]
    },
    {
     "name": "stdout",
     "output_type": "stream",
     "text": [
      "Saved data for station 294640 to stations/station_294640.csv\n"
     ]
    },
    {
     "name": "stderr",
     "output_type": "stream",
     "text": [
      "Scraping Stations:  11%|█         | 221/2082 [40:12<6:35:06, 12.74s/station]"
     ]
    },
    {
     "name": "stdout",
     "output_type": "stream",
     "text": [
      "Saved data for station 312530 to stations/station_312530.csv\n"
     ]
    },
    {
     "name": "stderr",
     "output_type": "stream",
     "text": [
      "Scraping Stations:  11%|█         | 222/2082 [40:25<6:35:53, 12.77s/station]"
     ]
    },
    {
     "name": "stdout",
     "output_type": "stream",
     "text": [
      "Saved data for station 238840 to stations/station_238840.csv\n"
     ]
    },
    {
     "name": "stderr",
     "output_type": "stream",
     "text": [
      "Scraping Stations:  11%|█         | 223/2082 [40:39<6:49:46, 13.23s/station]"
     ]
    },
    {
     "name": "stdout",
     "output_type": "stream",
     "text": [
      "Saved data for station 309650 to stations/station_309650.csv\n"
     ]
    },
    {
     "name": "stderr",
     "output_type": "stream",
     "text": [
      "Scraping Stations:  11%|█         | 224/2082 [40:48<6:14:28, 12.09s/station]"
     ]
    },
    {
     "name": "stdout",
     "output_type": "stream",
     "text": [
      "No records in a given period.\n"
     ]
    },
    {
     "name": "stderr",
     "output_type": "stream",
     "text": [
      "Scraping Stations:  11%|█         | 225/2082 [41:01<6:21:07, 12.31s/station]"
     ]
    },
    {
     "name": "stdout",
     "output_type": "stream",
     "text": [
      "Saved data for station 341460 to stations/station_341460.csv\n"
     ]
    },
    {
     "name": "stderr",
     "output_type": "stream",
     "text": [
      "Scraping Stations:  11%|█         | 226/2082 [41:12<6:09:07, 11.93s/station]"
     ]
    },
    {
     "name": "stdout",
     "output_type": "stream",
     "text": [
      "No records in a given period.\n"
     ]
    },
    {
     "name": "stderr",
     "output_type": "stream",
     "text": [
      "Scraping Stations:  11%|█         | 227/2082 [41:27<6:33:56, 12.74s/station]"
     ]
    },
    {
     "name": "stdout",
     "output_type": "stream",
     "text": [
      "Saved data for station 262910 to stations/station_262910.csv\n"
     ]
    },
    {
     "name": "stderr",
     "output_type": "stream",
     "text": [
      "Scraping Stations:  11%|█         | 228/2082 [41:37<6:08:53, 11.94s/station]"
     ]
    },
    {
     "name": "stdout",
     "output_type": "stream",
     "text": [
      "No records in a given period.\n"
     ]
    },
    {
     "name": "stderr",
     "output_type": "stream",
     "text": [
      "Scraping Stations:  11%|█         | 229/2082 [41:46<5:44:59, 11.17s/station]"
     ]
    },
    {
     "name": "stdout",
     "output_type": "stream",
     "text": [
      "No records in a given period.\n"
     ]
    },
    {
     "name": "stderr",
     "output_type": "stream",
     "text": [
      "Scraping Stations:  11%|█         | 230/2082 [41:57<5:37:49, 10.94s/station]"
     ]
    },
    {
     "name": "stdout",
     "output_type": "stream",
     "text": [
      "Saved data for station 347080 to stations/station_347080.csv\n"
     ]
    },
    {
     "name": "stderr",
     "output_type": "stream",
     "text": [
      "Scraping Stations:  11%|█         | 231/2082 [42:07<5:33:28, 10.81s/station]"
     ]
    },
    {
     "name": "stdout",
     "output_type": "stream",
     "text": [
      "No records in a given period.\n"
     ]
    },
    {
     "name": "stderr",
     "output_type": "stream",
     "text": [
      "Scraping Stations:  11%|█         | 232/2082 [42:17<5:27:28, 10.62s/station]"
     ]
    },
    {
     "name": "stdout",
     "output_type": "stream",
     "text": [
      "No records in a given period.\n"
     ]
    },
    {
     "name": "stderr",
     "output_type": "stream",
     "text": [
      "Scraping Stations:  11%|█         | 233/2082 [42:28<5:29:44, 10.70s/station]"
     ]
    },
    {
     "name": "stdout",
     "output_type": "stream",
     "text": [
      "Saved data for station 257070 to stations/station_257070.csv\n"
     ]
    },
    {
     "name": "stderr",
     "output_type": "stream",
     "text": [
      "Scraping Stations:  11%|█         | 234/2082 [42:40<5:42:37, 11.12s/station]"
     ]
    },
    {
     "name": "stdout",
     "output_type": "stream",
     "text": [
      "Saved data for station 315210 to stations/station_315210.csv\n"
     ]
    },
    {
     "name": "stderr",
     "output_type": "stream",
     "text": [
      "Scraping Stations:  11%|█▏        | 235/2082 [42:54<6:01:11, 11.73s/station]"
     ]
    },
    {
     "name": "stdout",
     "output_type": "stream",
     "text": [
      "Saved data for station 303090 to stations/station_303090.csv\n"
     ]
    },
    {
     "name": "stderr",
     "output_type": "stream",
     "text": [
      "Scraping Stations:  11%|█▏        | 236/2082 [43:04<5:53:14, 11.48s/station]"
     ]
    },
    {
     "name": "stdout",
     "output_type": "stream",
     "text": [
      "No records in a given period.\n"
     ]
    },
    {
     "name": "stderr",
     "output_type": "stream",
     "text": [
      "Scraping Stations:  11%|█▏        | 237/2082 [43:14<5:34:16, 10.87s/station]"
     ]
    },
    {
     "name": "stdout",
     "output_type": "stream",
     "text": [
      "No records in a given period.\n"
     ]
    },
    {
     "name": "stderr",
     "output_type": "stream",
     "text": [
      "Scraping Stations:  11%|█▏        | 238/2082 [43:25<5:33:06, 10.84s/station]"
     ]
    },
    {
     "name": "stdout",
     "output_type": "stream",
     "text": [
      "No records in a given period.\n"
     ]
    },
    {
     "name": "stderr",
     "output_type": "stream",
     "text": [
      "Scraping Stations:  11%|█▏        | 239/2082 [43:35<5:27:23, 10.66s/station]"
     ]
    },
    {
     "name": "stdout",
     "output_type": "stream",
     "text": [
      "No records in a given period.\n"
     ]
    },
    {
     "name": "stderr",
     "output_type": "stream",
     "text": [
      "Scraping Stations:  12%|█▏        | 240/2082 [43:46<5:29:34, 10.74s/station]"
     ]
    },
    {
     "name": "stdout",
     "output_type": "stream",
     "text": [
      "Saved data for station 259270 to stations/station_259270.csv\n"
     ]
    },
    {
     "name": "stderr",
     "output_type": "stream",
     "text": [
      "Scraping Stations:  12%|█▏        | 241/2082 [43:59<5:56:32, 11.62s/station]"
     ]
    },
    {
     "name": "stdout",
     "output_type": "stream",
     "text": [
      "Saved data for station 268980 to stations/station_268980.csv\n"
     ]
    },
    {
     "name": "stderr",
     "output_type": "stream",
     "text": [
      "Scraping Stations:  12%|█▏        | 242/2082 [44:12<6:04:31, 11.89s/station]"
     ]
    },
    {
     "name": "stdout",
     "output_type": "stream",
     "text": [
      "Saved data for station 221930 to stations/station_221930.csv\n"
     ]
    },
    {
     "name": "stderr",
     "output_type": "stream",
     "text": [
      "Scraping Stations:  12%|█▏        | 243/2082 [44:25<6:12:28, 12.15s/station]"
     ]
    },
    {
     "name": "stdout",
     "output_type": "stream",
     "text": [
      "Saved data for station 287110 to stations/station_287110.csv\n"
     ]
    },
    {
     "name": "stderr",
     "output_type": "stream",
     "text": [
      "Scraping Stations:  12%|█▏        | 244/2082 [44:36<6:08:38, 12.03s/station]"
     ]
    },
    {
     "name": "stdout",
     "output_type": "stream",
     "text": [
      "Saved data for station 288060 to stations/station_288060.csv\n"
     ]
    },
    {
     "name": "stderr",
     "output_type": "stream",
     "text": [
      "Scraping Stations:  12%|█▏        | 245/2082 [44:49<6:10:31, 12.10s/station]"
     ]
    },
    {
     "name": "stdout",
     "output_type": "stream",
     "text": [
      "Saved data for station 370610 to stations/station_370610.csv\n"
     ]
    },
    {
     "name": "stderr",
     "output_type": "stream",
     "text": [
      "Scraping Stations:  12%|█▏        | 246/2082 [44:58<5:48:02, 11.37s/station]"
     ]
    },
    {
     "name": "stdout",
     "output_type": "stream",
     "text": [
      "No records in a given period.\n"
     ]
    },
    {
     "name": "stderr",
     "output_type": "stream",
     "text": [
      "Scraping Stations:  12%|█▏        | 247/2082 [45:09<5:38:45, 11.08s/station]"
     ]
    },
    {
     "name": "stdout",
     "output_type": "stream",
     "text": [
      "Saved data for station 289090 to stations/station_289090.csv\n"
     ]
    },
    {
     "name": "stderr",
     "output_type": "stream",
     "text": [
      "Scraping Stations:  12%|█▏        | 248/2082 [45:20<5:42:22, 11.20s/station]"
     ]
    },
    {
     "name": "stdout",
     "output_type": "stream",
     "text": [
      "Saved data for station 272420 to stations/station_272420.csv\n"
     ]
    },
    {
     "name": "stderr",
     "output_type": "stream",
     "text": [
      "Scraping Stations:  12%|█▏        | 249/2082 [45:30<5:28:38, 10.76s/station]"
     ]
    },
    {
     "name": "stdout",
     "output_type": "stream",
     "text": [
      "No records in a given period.\n"
     ]
    },
    {
     "name": "stderr",
     "output_type": "stream",
     "text": [
      "Scraping Stations:  12%|█▏        | 250/2082 [45:40<5:20:30, 10.50s/station]"
     ]
    },
    {
     "name": "stdout",
     "output_type": "stream",
     "text": [
      "No records in a given period.\n"
     ]
    },
    {
     "name": "stderr",
     "output_type": "stream",
     "text": [
      "Scraping Stations:  12%|█▏        | 251/2082 [45:51<5:24:01, 10.62s/station]"
     ]
    },
    {
     "name": "stdout",
     "output_type": "stream",
     "text": [
      "No records in a given period.\n"
     ]
    },
    {
     "name": "stderr",
     "output_type": "stream",
     "text": [
      "Scraping Stations:  12%|█▏        | 252/2082 [46:04<5:45:04, 11.31s/station]"
     ]
    },
    {
     "name": "stdout",
     "output_type": "stream",
     "text": [
      "Saved data for station 313480 to stations/station_313480.csv\n"
     ]
    },
    {
     "name": "stderr",
     "output_type": "stream",
     "text": [
      "Scraping Stations:  12%|█▏        | 253/2082 [46:13<5:28:34, 10.78s/station]"
     ]
    },
    {
     "name": "stdout",
     "output_type": "stream",
     "text": [
      "No records in a given period.\n"
     ]
    },
    {
     "name": "stderr",
     "output_type": "stream",
     "text": [
      "Scraping Stations:  12%|█▏        | 254/2082 [46:25<5:33:43, 10.95s/station]"
     ]
    },
    {
     "name": "stdout",
     "output_type": "stream",
     "text": [
      "No records in a given period.\n"
     ]
    },
    {
     "name": "stderr",
     "output_type": "stream",
     "text": [
      "Scraping Stations:  12%|█▏        | 255/2082 [46:37<5:46:28, 11.38s/station]"
     ]
    },
    {
     "name": "stdout",
     "output_type": "stream",
     "text": [
      "Saved data for station 255940 to stations/station_255940.csv\n"
     ]
    },
    {
     "name": "stderr",
     "output_type": "stream",
     "text": [
      "Scraping Stations:  12%|█▏        | 256/2082 [46:48<5:40:09, 11.18s/station]"
     ]
    },
    {
     "name": "stdout",
     "output_type": "stream",
     "text": [
      "No records in a given period.\n"
     ]
    },
    {
     "name": "stderr",
     "output_type": "stream",
     "text": [
      "Scraping Stations:  12%|█▏        | 257/2082 [46:58<5:32:09, 10.92s/station]"
     ]
    },
    {
     "name": "stdout",
     "output_type": "stream",
     "text": [
      "No records in a given period.\n"
     ]
    },
    {
     "name": "stderr",
     "output_type": "stream",
     "text": [
      "Scraping Stations:  12%|█▏        | 258/2082 [47:10<5:43:33, 11.30s/station]"
     ]
    },
    {
     "name": "stdout",
     "output_type": "stream",
     "text": [
      "No records in a given period.\n"
     ]
    },
    {
     "name": "stderr",
     "output_type": "stream",
     "text": [
      "Scraping Stations:  12%|█▏        | 259/2082 [47:23<5:53:33, 11.64s/station]"
     ]
    },
    {
     "name": "stdout",
     "output_type": "stream",
     "text": [
      "Saved data for station 310110 to stations/station_310110.csv\n"
     ]
    },
    {
     "name": "stderr",
     "output_type": "stream",
     "text": [
      "Scraping Stations:  12%|█▏        | 260/2082 [47:34<5:52:06, 11.60s/station]"
     ]
    },
    {
     "name": "stdout",
     "output_type": "stream",
     "text": [
      "Saved data for station 218210 to stations/station_218210.csv\n"
     ]
    },
    {
     "name": "stderr",
     "output_type": "stream",
     "text": [
      "Scraping Stations:  13%|█▎        | 261/2082 [47:44<5:36:59, 11.10s/station]"
     ]
    },
    {
     "name": "stdout",
     "output_type": "stream",
     "text": [
      "No records in a given period.\n"
     ]
    },
    {
     "name": "stderr",
     "output_type": "stream",
     "text": [
      "Scraping Stations:  13%|█▎        | 262/2082 [47:53<5:20:16, 10.56s/station]"
     ]
    },
    {
     "name": "stdout",
     "output_type": "stream",
     "text": [
      "No records in a given period.\n"
     ]
    },
    {
     "name": "stderr",
     "output_type": "stream",
     "text": [
      "Scraping Stations:  13%|█▎        | 263/2082 [48:03<5:13:31, 10.34s/station]"
     ]
    },
    {
     "name": "stdout",
     "output_type": "stream",
     "text": [
      "No records in a given period.\n"
     ]
    },
    {
     "name": "stderr",
     "output_type": "stream",
     "text": [
      "Scraping Stations:  13%|█▎        | 264/2082 [48:14<5:15:35, 10.42s/station]"
     ]
    },
    {
     "name": "stdout",
     "output_type": "stream",
     "text": [
      "No records in a given period.\n"
     ]
    },
    {
     "name": "stderr",
     "output_type": "stream",
     "text": [
      "Scraping Stations:  13%|█▎        | 265/2082 [48:23<5:03:19, 10.02s/station]"
     ]
    },
    {
     "name": "stdout",
     "output_type": "stream",
     "text": [
      "No records in a given period.\n"
     ]
    },
    {
     "name": "stderr",
     "output_type": "stream",
     "text": [
      "Scraping Stations:  13%|█▎        | 266/2082 [48:36<5:30:47, 10.93s/station]"
     ]
    },
    {
     "name": "stdout",
     "output_type": "stream",
     "text": [
      "Saved data for station 220030 to stations/station_220030.csv\n"
     ]
    },
    {
     "name": "stderr",
     "output_type": "stream",
     "text": [
      "Scraping Stations:  13%|█▎        | 267/2082 [48:47<5:35:42, 11.10s/station]"
     ]
    },
    {
     "name": "stdout",
     "output_type": "stream",
     "text": [
      "Saved data for station 228050 to stations/station_228050.csv\n"
     ]
    },
    {
     "name": "stderr",
     "output_type": "stream",
     "text": [
      "Scraping Stations:  13%|█▎        | 268/2082 [48:58<5:26:56, 10.81s/station]"
     ]
    },
    {
     "name": "stdout",
     "output_type": "stream",
     "text": [
      "No records in a given period.\n"
     ]
    },
    {
     "name": "stderr",
     "output_type": "stream",
     "text": [
      "Scraping Stations:  13%|█▎        | 269/2082 [49:08<5:27:17, 10.83s/station]"
     ]
    },
    {
     "name": "stdout",
     "output_type": "stream",
     "text": [
      "Saved data for station 219780 to stations/station_219780.csv\n"
     ]
    },
    {
     "name": "stderr",
     "output_type": "stream",
     "text": [
      "Scraping Stations:  13%|█▎        | 270/2082 [49:19<5:24:23, 10.74s/station]"
     ]
    },
    {
     "name": "stdout",
     "output_type": "stream",
     "text": [
      "Saved data for station 343210 to stations/station_343210.csv\n"
     ]
    },
    {
     "name": "stderr",
     "output_type": "stream",
     "text": [
      "Scraping Stations:  13%|█▎        | 271/2082 [49:32<5:45:24, 11.44s/station]"
     ]
    },
    {
     "name": "stdout",
     "output_type": "stream",
     "text": [
      "Saved data for station 249080 to stations/station_249080.csv\n"
     ]
    },
    {
     "name": "stderr",
     "output_type": "stream",
     "text": [
      "Scraping Stations:  13%|█▎        | 272/2082 [49:46<6:09:16, 12.24s/station]"
     ]
    },
    {
     "name": "stdout",
     "output_type": "stream",
     "text": [
      "Saved data for station 239660 to stations/station_239660.csv\n"
     ]
    },
    {
     "name": "stderr",
     "output_type": "stream",
     "text": [
      "Scraping Stations:  13%|█▎        | 273/2082 [49:57<5:59:39, 11.93s/station]"
     ]
    },
    {
     "name": "stdout",
     "output_type": "stream",
     "text": [
      "No records in a given period.\n"
     ]
    },
    {
     "name": "stderr",
     "output_type": "stream",
     "text": [
      "Scraping Stations:  13%|█▎        | 274/2082 [50:12<6:21:15, 12.65s/station]"
     ]
    },
    {
     "name": "stdout",
     "output_type": "stream",
     "text": [
      "Saved data for station 231120 to stations/station_231120.csv\n"
     ]
    },
    {
     "name": "stderr",
     "output_type": "stream",
     "text": [
      "Scraping Stations:  13%|█▎        | 275/2082 [50:23<6:09:44, 12.28s/station]"
     ]
    },
    {
     "name": "stdout",
     "output_type": "stream",
     "text": [
      "No records in a given period.\n"
     ]
    },
    {
     "name": "stderr",
     "output_type": "stream",
     "text": [
      "Scraping Stations:  13%|█▎        | 276/2082 [50:32<5:42:32, 11.38s/station]"
     ]
    },
    {
     "name": "stdout",
     "output_type": "stream",
     "text": [
      "No records in a given period.\n"
     ]
    },
    {
     "name": "stderr",
     "output_type": "stream",
     "text": [
      "Scraping Stations:  13%|█▎        | 277/2082 [50:43<5:32:20, 11.05s/station]"
     ]
    },
    {
     "name": "stdout",
     "output_type": "stream",
     "text": [
      "No records in a given period.\n"
     ]
    },
    {
     "name": "stderr",
     "output_type": "stream",
     "text": [
      "Scraping Stations:  13%|█▎        | 278/2082 [50:55<5:40:29, 11.32s/station]"
     ]
    },
    {
     "name": "stdout",
     "output_type": "stream",
     "text": [
      "No records in a given period.\n"
     ]
    },
    {
     "name": "stderr",
     "output_type": "stream",
     "text": [
      "Scraping Stations:  13%|█▎        | 279/2082 [51:06<5:37:26, 11.23s/station]"
     ]
    },
    {
     "name": "stdout",
     "output_type": "stream",
     "text": [
      "Saved data for station 265780 to stations/station_265780.csv\n"
     ]
    },
    {
     "name": "stderr",
     "output_type": "stream",
     "text": [
      "Scraping Stations:  13%|█▎        | 280/2082 [51:19<5:53:47, 11.78s/station]"
     ]
    },
    {
     "name": "stdout",
     "output_type": "stream",
     "text": [
      "Saved data for station 264770 to stations/station_264770.csv\n"
     ]
    },
    {
     "name": "stderr",
     "output_type": "stream",
     "text": [
      "Scraping Stations:  13%|█▎        | 281/2082 [51:30<5:53:14, 11.77s/station]"
     ]
    },
    {
     "name": "stdout",
     "output_type": "stream",
     "text": [
      "Saved data for station 261790 to stations/station_261790.csv\n"
     ]
    },
    {
     "name": "stderr",
     "output_type": "stream",
     "text": [
      "Scraping Stations:  14%|█▎        | 282/2082 [51:42<5:55:16, 11.84s/station]"
     ]
    },
    {
     "name": "stdout",
     "output_type": "stream",
     "text": [
      "Saved data for station 229810 to stations/station_229810.csv\n"
     ]
    },
    {
     "name": "stderr",
     "output_type": "stream",
     "text": [
      "Scraping Stations:  14%|█▎        | 283/2082 [51:53<5:40:33, 11.36s/station]"
     ]
    },
    {
     "name": "stdout",
     "output_type": "stream",
     "text": [
      "No records in a given period.\n"
     ]
    },
    {
     "name": "stderr",
     "output_type": "stream",
     "text": [
      "Scraping Stations:  14%|█▎        | 284/2082 [52:04<5:40:21, 11.36s/station]"
     ]
    },
    {
     "name": "stdout",
     "output_type": "stream",
     "text": [
      "Saved data for station 239820 to stations/station_239820.csv\n"
     ]
    },
    {
     "name": "stderr",
     "output_type": "stream",
     "text": [
      "Scraping Stations:  14%|█▎        | 285/2082 [52:17<5:55:55, 11.88s/station]"
     ]
    },
    {
     "name": "stdout",
     "output_type": "stream",
     "text": [
      "Saved data for station 228670 to stations/station_228670.csv\n"
     ]
    },
    {
     "name": "stderr",
     "output_type": "stream",
     "text": [
      "Scraping Stations:  14%|█▎        | 286/2082 [52:28<5:46:02, 11.56s/station]"
     ]
    },
    {
     "name": "stdout",
     "output_type": "stream",
     "text": [
      "Saved data for station 226860 to stations/station_226860.csv\n"
     ]
    },
    {
     "name": "stderr",
     "output_type": "stream",
     "text": [
      "Scraping Stations:  14%|█▍        | 287/2082 [52:38<5:33:23, 11.14s/station]"
     ]
    },
    {
     "name": "stdout",
     "output_type": "stream",
     "text": [
      "No records in a given period.\n"
     ]
    },
    {
     "name": "stderr",
     "output_type": "stream",
     "text": [
      "Scraping Stations:  14%|█▍        | 288/2082 [52:50<5:40:44, 11.40s/station]"
     ]
    },
    {
     "name": "stdout",
     "output_type": "stream",
     "text": [
      "Saved data for station 235780 to stations/station_235780.csv\n"
     ]
    },
    {
     "name": "stderr",
     "output_type": "stream",
     "text": [
      "Scraping Stations:  14%|█▍        | 289/2082 [53:02<5:47:36, 11.63s/station]"
     ]
    },
    {
     "name": "stdout",
     "output_type": "stream",
     "text": [
      "Saved data for station 282160 to stations/station_282160.csv\n"
     ]
    },
    {
     "name": "stderr",
     "output_type": "stream",
     "text": [
      "Scraping Stations:  14%|█▍        | 290/2082 [53:13<5:37:43, 11.31s/station]"
     ]
    },
    {
     "name": "stdout",
     "output_type": "stream",
     "text": [
      "No records in a given period.\n"
     ]
    },
    {
     "name": "stderr",
     "output_type": "stream",
     "text": [
      "Scraping Stations:  14%|█▍        | 291/2082 [53:22<5:18:13, 10.66s/station]"
     ]
    },
    {
     "name": "stdout",
     "output_type": "stream",
     "text": [
      "No records in a given period.\n"
     ]
    },
    {
     "name": "stderr",
     "output_type": "stream",
     "text": [
      "Scraping Stations:  14%|█▍        | 292/2082 [53:31<5:03:50, 10.18s/station]"
     ]
    },
    {
     "name": "stdout",
     "output_type": "stream",
     "text": [
      "No records in a given period.\n"
     ]
    },
    {
     "name": "stderr",
     "output_type": "stream",
     "text": [
      "Scraping Stations:  14%|█▍        | 293/2082 [53:42<5:07:47, 10.32s/station]"
     ]
    },
    {
     "name": "stdout",
     "output_type": "stream",
     "text": [
      "No records in a given period.\n"
     ]
    },
    {
     "name": "stderr",
     "output_type": "stream",
     "text": [
      "Scraping Stations:  14%|█▍        | 294/2082 [53:52<5:05:26, 10.25s/station]"
     ]
    },
    {
     "name": "stdout",
     "output_type": "stream",
     "text": [
      "No records in a given period.\n"
     ]
    },
    {
     "name": "stderr",
     "output_type": "stream",
     "text": [
      "Scraping Stations:  14%|█▍        | 295/2082 [54:02<5:07:04, 10.31s/station]"
     ]
    },
    {
     "name": "stdout",
     "output_type": "stream",
     "text": [
      "Saved data for station 255380 to stations/station_255380.csv\n"
     ]
    },
    {
     "name": "stderr",
     "output_type": "stream",
     "text": [
      "Scraping Stations:  14%|█▍        | 296/2082 [54:13<5:12:07, 10.49s/station]"
     ]
    },
    {
     "name": "stdout",
     "output_type": "stream",
     "text": [
      "Saved data for station 246440 to stations/station_246440.csv\n"
     ]
    },
    {
     "name": "stderr",
     "output_type": "stream",
     "text": [
      "Scraping Stations:  14%|█▍        | 297/2082 [54:24<5:14:27, 10.57s/station]"
     ]
    },
    {
     "name": "stdout",
     "output_type": "stream",
     "text": [
      "No records in a given period.\n"
     ]
    },
    {
     "name": "stderr",
     "output_type": "stream",
     "text": [
      "Scraping Stations:  14%|█▍        | 298/2082 [54:34<5:11:55, 10.49s/station]"
     ]
    },
    {
     "name": "stdout",
     "output_type": "stream",
     "text": [
      "No records in a given period.\n"
     ]
    },
    {
     "name": "stderr",
     "output_type": "stream",
     "text": [
      "Scraping Stations:  14%|█▍        | 299/2082 [54:46<5:21:29, 10.82s/station]"
     ]
    },
    {
     "name": "stdout",
     "output_type": "stream",
     "text": [
      "Saved data for station 236780 to stations/station_236780.csv\n"
     ]
    },
    {
     "name": "stderr",
     "output_type": "stream",
     "text": [
      "Scraping Stations:  14%|█▍        | 300/2082 [54:57<5:24:54, 10.94s/station]"
     ]
    },
    {
     "name": "stdout",
     "output_type": "stream",
     "text": [
      "No records in a given period.\n"
     ]
    },
    {
     "name": "stderr",
     "output_type": "stream",
     "text": [
      "Scraping Stations:  14%|█▍        | 301/2082 [55:08<5:20:29, 10.80s/station]"
     ]
    },
    {
     "name": "stdout",
     "output_type": "stream",
     "text": [
      "No records in a given period.\n"
     ]
    },
    {
     "name": "stderr",
     "output_type": "stream",
     "text": [
      "Scraping Stations:  15%|█▍        | 302/2082 [55:17<5:06:12, 10.32s/station]"
     ]
    },
    {
     "name": "stdout",
     "output_type": "stream",
     "text": [
      "No records in a given period.\n"
     ]
    },
    {
     "name": "stderr",
     "output_type": "stream",
     "text": [
      "Scraping Stations:  15%|█▍        | 303/2082 [55:29<5:18:52, 10.75s/station]"
     ]
    },
    {
     "name": "stdout",
     "output_type": "stream",
     "text": [
      "Saved data for station 345790 to stations/station_345790.csv\n"
     ]
    },
    {
     "name": "stderr",
     "output_type": "stream",
     "text": [
      "Scraping Stations:  15%|█▍        | 304/2082 [55:42<5:46:51, 11.71s/station]"
     ]
    },
    {
     "name": "stdout",
     "output_type": "stream",
     "text": [
      "Saved data for station 285410 to stations/station_285410.csv\n"
     ]
    },
    {
     "name": "stderr",
     "output_type": "stream",
     "text": [
      "Scraping Stations:  15%|█▍        | 305/2082 [55:54<5:41:45, 11.54s/station]"
     ]
    },
    {
     "name": "stdout",
     "output_type": "stream",
     "text": [
      "Saved data for station 297890 to stations/station_297890.csv\n"
     ]
    },
    {
     "name": "stderr",
     "output_type": "stream",
     "text": [
      "Scraping Stations:  15%|█▍        | 306/2082 [56:06<5:50:23, 11.84s/station]"
     ]
    },
    {
     "name": "stdout",
     "output_type": "stream",
     "text": [
      "Saved data for station 227780 to stations/station_227780.csv\n"
     ]
    },
    {
     "name": "stderr",
     "output_type": "stream",
     "text": [
      "Scraping Stations:  15%|█▍        | 307/2082 [56:16<5:36:37, 11.38s/station]"
     ]
    },
    {
     "name": "stdout",
     "output_type": "stream",
     "text": [
      "No records in a given period.\n"
     ]
    },
    {
     "name": "stderr",
     "output_type": "stream",
     "text": [
      "Scraping Stations:  15%|█▍        | 308/2082 [56:26<5:18:28, 10.77s/station]"
     ]
    },
    {
     "name": "stdout",
     "output_type": "stream",
     "text": [
      "No records in a given period.\n"
     ]
    },
    {
     "name": "stderr",
     "output_type": "stream",
     "text": [
      "Scraping Stations:  15%|█▍        | 309/2082 [56:39<5:35:57, 11.37s/station]"
     ]
    },
    {
     "name": "stdout",
     "output_type": "stream",
     "text": [
      "Saved data for station 281440 to stations/station_281440.csv\n"
     ]
    },
    {
     "name": "stderr",
     "output_type": "stream",
     "text": [
      "Scraping Stations:  15%|█▍        | 310/2082 [56:51<5:49:19, 11.83s/station]"
     ]
    },
    {
     "name": "stdout",
     "output_type": "stream",
     "text": [
      "Saved data for station 242660 to stations/station_242660.csv\n"
     ]
    },
    {
     "name": "stderr",
     "output_type": "stream",
     "text": [
      "Scraping Stations:  15%|█▍        | 311/2082 [57:04<5:54:47, 12.02s/station]"
     ]
    },
    {
     "name": "stdout",
     "output_type": "stream",
     "text": [
      "Saved data for station 246680 to stations/station_246680.csv\n"
     ]
    },
    {
     "name": "stderr",
     "output_type": "stream",
     "text": [
      "Scraping Stations:  15%|█▍        | 312/2082 [57:16<5:53:50, 11.99s/station]"
     ]
    },
    {
     "name": "stdout",
     "output_type": "stream",
     "text": [
      "Saved data for station 314180 to stations/station_314180.csv\n"
     ]
    },
    {
     "name": "stderr",
     "output_type": "stream",
     "text": [
      "Scraping Stations:  15%|█▌        | 313/2082 [57:26<5:39:23, 11.51s/station]"
     ]
    },
    {
     "name": "stdout",
     "output_type": "stream",
     "text": [
      "No records in a given period.\n"
     ]
    },
    {
     "name": "stderr",
     "output_type": "stream",
     "text": [
      "Scraping Stations:  15%|█▌        | 314/2082 [57:36<5:22:02, 10.93s/station]"
     ]
    },
    {
     "name": "stdout",
     "output_type": "stream",
     "text": [
      "No records in a given period.\n"
     ]
    },
    {
     "name": "stderr",
     "output_type": "stream",
     "text": [
      "Scraping Stations:  15%|█▌        | 315/2082 [57:49<5:46:07, 11.75s/station]"
     ]
    },
    {
     "name": "stdout",
     "output_type": "stream",
     "text": [
      "Saved data for station 237010 to stations/station_237010.csv\n"
     ]
    },
    {
     "name": "stderr",
     "output_type": "stream",
     "text": [
      "Scraping Stations:  15%|█▌        | 316/2082 [58:01<5:46:45, 11.78s/station]"
     ]
    },
    {
     "name": "stdout",
     "output_type": "stream",
     "text": [
      "Saved data for station 272770 to stations/station_272770.csv\n"
     ]
    },
    {
     "name": "stderr",
     "output_type": "stream",
     "text": [
      "Scraping Stations:  15%|█▌        | 317/2082 [58:13<5:44:33, 11.71s/station]"
     ]
    },
    {
     "name": "stdout",
     "output_type": "stream",
     "text": [
      "No records in a given period.\n"
     ]
    },
    {
     "name": "stderr",
     "output_type": "stream",
     "text": [
      "Scraping Stations:  15%|█▌        | 318/2082 [58:23<5:31:48, 11.29s/station]"
     ]
    },
    {
     "name": "stdout",
     "output_type": "stream",
     "text": [
      "No records in a given period.\n"
     ]
    },
    {
     "name": "stderr",
     "output_type": "stream",
     "text": [
      "Scraping Stations:  15%|█▌        | 319/2082 [58:34<5:26:12, 11.10s/station]"
     ]
    },
    {
     "name": "stdout",
     "output_type": "stream",
     "text": [
      "No records in a given period.\n"
     ]
    },
    {
     "name": "stderr",
     "output_type": "stream",
     "text": [
      "Scraping Stations:  15%|█▌        | 320/2082 [58:44<5:20:03, 10.90s/station]"
     ]
    },
    {
     "name": "stdout",
     "output_type": "stream",
     "text": [
      "No records in a given period.\n"
     ]
    },
    {
     "name": "stderr",
     "output_type": "stream",
     "text": [
      "Scraping Stations:  15%|█▌        | 321/2082 [58:54<5:12:41, 10.65s/station]"
     ]
    },
    {
     "name": "stdout",
     "output_type": "stream",
     "text": [
      "No records in a given period.\n"
     ]
    },
    {
     "name": "stderr",
     "output_type": "stream",
     "text": [
      "Scraping Stations:  15%|█▌        | 322/2082 [59:06<5:18:02, 10.84s/station]"
     ]
    },
    {
     "name": "stdout",
     "output_type": "stream",
     "text": [
      "No records in a given period.\n"
     ]
    },
    {
     "name": "stderr",
     "output_type": "stream",
     "text": [
      "Scraping Stations:  16%|█▌        | 323/2082 [59:16<5:17:31, 10.83s/station]"
     ]
    },
    {
     "name": "stdout",
     "output_type": "stream",
     "text": [
      "Saved data for station 284810 to stations/station_284810.csv\n"
     ]
    },
    {
     "name": "stderr",
     "output_type": "stream",
     "text": [
      "Scraping Stations:  16%|█▌        | 324/2082 [59:28<5:25:15, 11.10s/station]"
     ]
    },
    {
     "name": "stdout",
     "output_type": "stream",
     "text": [
      "Saved data for station 246410 to stations/station_246410.csv\n"
     ]
    },
    {
     "name": "stderr",
     "output_type": "stream",
     "text": [
      "Scraping Stations:  16%|█▌        | 325/2082 [59:40<5:28:24, 11.21s/station]"
     ]
    },
    {
     "name": "stdout",
     "output_type": "stream",
     "text": [
      "Saved data for station 229250 to stations/station_229250.csv\n"
     ]
    },
    {
     "name": "stderr",
     "output_type": "stream",
     "text": [
      "Scraping Stations:  16%|█▌        | 326/2082 [59:49<5:14:43, 10.75s/station]"
     ]
    },
    {
     "name": "stdout",
     "output_type": "stream",
     "text": [
      "No records in a given period.\n"
     ]
    },
    {
     "name": "stderr",
     "output_type": "stream",
     "text": [
      "Scraping Stations:  16%|█▌        | 327/2082 [1:00:01<5:20:19, 10.95s/station]"
     ]
    },
    {
     "name": "stdout",
     "output_type": "stream",
     "text": [
      "Saved data for station 300540 to stations/station_300540.csv\n"
     ]
    },
    {
     "name": "stderr",
     "output_type": "stream",
     "text": [
      "Scraping Stations:  16%|█▌        | 328/2082 [1:00:12<5:20:24, 10.96s/station]"
     ]
    },
    {
     "name": "stdout",
     "output_type": "stream",
     "text": [
      "No records in a given period.\n"
     ]
    },
    {
     "name": "stderr",
     "output_type": "stream",
     "text": [
      "Scraping Stations:  16%|█▌        | 329/2082 [1:00:24<5:32:43, 11.39s/station]"
     ]
    },
    {
     "name": "stdout",
     "output_type": "stream",
     "text": [
      "Saved data for station 319600 to stations/station_319600.csv\n"
     ]
    },
    {
     "name": "stderr",
     "output_type": "stream",
     "text": [
      "Scraping Stations:  16%|█▌        | 330/2082 [1:00:33<5:07:11, 10.52s/station]"
     ]
    },
    {
     "name": "stdout",
     "output_type": "stream",
     "text": [
      "No records in a given period.\n"
     ]
    },
    {
     "name": "stderr",
     "output_type": "stream",
     "text": [
      "Scraping Stations:  16%|█▌        | 331/2082 [1:00:45<5:19:35, 10.95s/station]"
     ]
    },
    {
     "name": "stdout",
     "output_type": "stream",
     "text": [
      "Saved data for station 372280 to stations/station_372280.csv\n"
     ]
    },
    {
     "name": "stderr",
     "output_type": "stream",
     "text": [
      "Scraping Stations:  16%|█▌        | 332/2082 [1:00:56<5:22:24, 11.05s/station]"
     ]
    },
    {
     "name": "stdout",
     "output_type": "stream",
     "text": [
      "Saved data for station 275320 to stations/station_275320.csv\n"
     ]
    },
    {
     "name": "stderr",
     "output_type": "stream",
     "text": [
      "Scraping Stations:  16%|█▌        | 333/2082 [1:01:05<5:05:13, 10.47s/station]"
     ]
    },
    {
     "name": "stdout",
     "output_type": "stream",
     "text": [
      "No records in a given period.\n"
     ]
    },
    {
     "name": "stderr",
     "output_type": "stream",
     "text": [
      "Scraping Stations:  16%|█▌        | 334/2082 [1:01:18<5:28:47, 11.29s/station]"
     ]
    },
    {
     "name": "stdout",
     "output_type": "stream",
     "text": [
      "Saved data for station 229540 to stations/station_229540.csv\n"
     ]
    },
    {
     "name": "stderr",
     "output_type": "stream",
     "text": [
      "Scraping Stations:  16%|█▌        | 335/2082 [1:01:28<5:18:00, 10.92s/station]"
     ]
    },
    {
     "name": "stdout",
     "output_type": "stream",
     "text": [
      "Saved data for station 228290 to stations/station_228290.csv\n"
     ]
    },
    {
     "name": "stderr",
     "output_type": "stream",
     "text": [
      "Scraping Stations:  16%|█▌        | 336/2082 [1:01:41<5:37:06, 11.58s/station]"
     ]
    },
    {
     "name": "stdout",
     "output_type": "stream",
     "text": [
      "Saved data for station 345600 to stations/station_345600.csv\n"
     ]
    },
    {
     "name": "stderr",
     "output_type": "stream",
     "text": [
      "Scraping Stations:  16%|█▌        | 337/2082 [1:01:50<5:14:44, 10.82s/station]"
     ]
    },
    {
     "name": "stdout",
     "output_type": "stream",
     "text": [
      "Saved data for station 346150 to stations/station_346150.csv\n"
     ]
    },
    {
     "name": "stderr",
     "output_type": "stream",
     "text": [
      "Scraping Stations:  16%|█▌        | 338/2082 [1:02:03<5:34:08, 11.50s/station]"
     ]
    },
    {
     "name": "stdout",
     "output_type": "stream",
     "text": [
      "Saved data for station 270370 to stations/station_270370.csv\n"
     ]
    },
    {
     "name": "stderr",
     "output_type": "stream",
     "text": [
      "Scraping Stations:  16%|█▋        | 339/2082 [1:02:13<5:20:39, 11.04s/station]"
     ]
    },
    {
     "name": "stdout",
     "output_type": "stream",
     "text": [
      "No records in a given period.\n"
     ]
    },
    {
     "name": "stderr",
     "output_type": "stream",
     "text": [
      "Scraping Stations:  16%|█▋        | 340/2082 [1:02:24<5:12:13, 10.75s/station]"
     ]
    },
    {
     "name": "stdout",
     "output_type": "stream",
     "text": [
      "Saved data for station 260670 to stations/station_260670.csv\n"
     ]
    },
    {
     "name": "stderr",
     "output_type": "stream",
     "text": [
      "Scraping Stations:  16%|█▋        | 341/2082 [1:02:34<5:07:41, 10.60s/station]"
     ]
    },
    {
     "name": "stdout",
     "output_type": "stream",
     "text": [
      "Saved data for station 209820 to stations/station_209820.csv\n"
     ]
    },
    {
     "name": "stderr",
     "output_type": "stream",
     "text": [
      "Scraping Stations:  16%|█▋        | 342/2082 [1:02:45<5:14:21, 10.84s/station]"
     ]
    },
    {
     "name": "stdout",
     "output_type": "stream",
     "text": [
      "No records in a given period.\n"
     ]
    },
    {
     "name": "stderr",
     "output_type": "stream",
     "text": [
      "Scraping Stations:  16%|█▋        | 343/2082 [1:02:58<5:28:13, 11.32s/station]"
     ]
    },
    {
     "name": "stdout",
     "output_type": "stream",
     "text": [
      "Saved data for station 360220 to stations/station_360220.csv\n"
     ]
    },
    {
     "name": "stderr",
     "output_type": "stream",
     "text": [
      "Scraping Stations:  17%|█▋        | 344/2082 [1:03:07<5:12:51, 10.80s/station]"
     ]
    },
    {
     "name": "stdout",
     "output_type": "stream",
     "text": [
      "No records in a given period.\n"
     ]
    },
    {
     "name": "stderr",
     "output_type": "stream",
     "text": [
      "Scraping Stations:  17%|█▋        | 345/2082 [1:03:18<5:12:34, 10.80s/station]"
     ]
    },
    {
     "name": "stdout",
     "output_type": "stream",
     "text": [
      "Saved data for station 238230 to stations/station_238230.csv\n"
     ]
    },
    {
     "name": "stderr",
     "output_type": "stream",
     "text": [
      "Scraping Stations:  17%|█▋        | 346/2082 [1:03:28<5:02:17, 10.45s/station]"
     ]
    },
    {
     "name": "stdout",
     "output_type": "stream",
     "text": [
      "No records in a given period.\n"
     ]
    },
    {
     "name": "stderr",
     "output_type": "stream",
     "text": [
      "Scraping Stations:  17%|█▋        | 347/2082 [1:03:41<5:28:44, 11.37s/station]"
     ]
    },
    {
     "name": "stdout",
     "output_type": "stream",
     "text": [
      "Saved data for station 232260 to stations/station_232260.csv\n"
     ]
    },
    {
     "name": "stderr",
     "output_type": "stream",
     "text": [
      "Scraping Stations:  17%|█▋        | 348/2082 [1:03:52<5:25:15, 11.25s/station]"
     ]
    },
    {
     "name": "stdout",
     "output_type": "stream",
     "text": [
      "Saved data for station 239730 to stations/station_239730.csv\n"
     ]
    },
    {
     "name": "stderr",
     "output_type": "stream",
     "text": [
      "Scraping Stations:  17%|█▋        | 349/2082 [1:04:05<5:36:33, 11.65s/station]"
     ]
    },
    {
     "name": "stdout",
     "output_type": "stream",
     "text": [
      "Saved data for station 341230 to stations/station_341230.csv\n"
     ]
    },
    {
     "name": "stderr",
     "output_type": "stream",
     "text": [
      "Scraping Stations:  17%|█▋        | 350/2082 [1:04:18<5:48:31, 12.07s/station]"
     ]
    },
    {
     "name": "stdout",
     "output_type": "stream",
     "text": [
      "Saved data for station 341220 to stations/station_341220.csv\n"
     ]
    },
    {
     "name": "stderr",
     "output_type": "stream",
     "text": [
      "Scraping Stations:  17%|█▋        | 351/2082 [1:04:27<5:23:09, 11.20s/station]"
     ]
    },
    {
     "name": "stdout",
     "output_type": "stream",
     "text": [
      "No records in a given period.\n"
     ]
    },
    {
     "name": "stderr",
     "output_type": "stream",
     "text": [
      "Scraping Stations:  17%|█▋        | 352/2082 [1:04:37<5:17:29, 11.01s/station]"
     ]
    },
    {
     "name": "stdout",
     "output_type": "stream",
     "text": [
      "No records in a given period.\n"
     ]
    },
    {
     "name": "stderr",
     "output_type": "stream",
     "text": [
      "Scraping Stations:  17%|█▋        | 353/2082 [1:04:51<5:42:16, 11.88s/station]"
     ]
    },
    {
     "name": "stdout",
     "output_type": "stream",
     "text": [
      "No records in a given period.\n"
     ]
    },
    {
     "name": "stderr",
     "output_type": "stream",
     "text": [
      "Scraping Stations:  17%|█▋        | 354/2082 [1:05:03<5:38:44, 11.76s/station]"
     ]
    },
    {
     "name": "stdout",
     "output_type": "stream",
     "text": [
      "No records in a given period.\n"
     ]
    },
    {
     "name": "stderr",
     "output_type": "stream",
     "text": [
      "Scraping Stations:  17%|█▋        | 355/2082 [1:05:13<5:23:41, 11.25s/station]"
     ]
    },
    {
     "name": "stdout",
     "output_type": "stream",
     "text": [
      "No records in a given period.\n"
     ]
    },
    {
     "name": "stderr",
     "output_type": "stream",
     "text": [
      "Scraping Stations:  17%|█▋        | 356/2082 [1:05:26<5:36:06, 11.68s/station]"
     ]
    },
    {
     "name": "stdout",
     "output_type": "stream",
     "text": [
      "No records in a given period.\n"
     ]
    },
    {
     "name": "stderr",
     "output_type": "stream",
     "text": [
      "Scraping Stations:  17%|█▋        | 357/2082 [1:05:37<5:32:13, 11.56s/station]"
     ]
    },
    {
     "name": "stdout",
     "output_type": "stream",
     "text": [
      "Saved data for station 246790 to stations/station_246790.csv\n"
     ]
    },
    {
     "name": "stderr",
     "output_type": "stream",
     "text": [
      "Scraping Stations:  17%|█▋        | 358/2082 [1:05:47<5:18:42, 11.09s/station]"
     ]
    },
    {
     "name": "stdout",
     "output_type": "stream",
     "text": [
      "No records in a given period.\n"
     ]
    },
    {
     "name": "stderr",
     "output_type": "stream",
     "text": [
      "Scraping Stations:  17%|█▋        | 359/2082 [1:05:56<5:03:27, 10.57s/station]"
     ]
    },
    {
     "name": "stdout",
     "output_type": "stream",
     "text": [
      "No records in a given period.\n"
     ]
    },
    {
     "name": "stderr",
     "output_type": "stream",
     "text": [
      "Scraping Stations:  17%|█▋        | 360/2082 [1:06:05<4:51:35, 10.16s/station]"
     ]
    },
    {
     "name": "stdout",
     "output_type": "stream",
     "text": [
      "No records in a given period.\n"
     ]
    },
    {
     "name": "stderr",
     "output_type": "stream",
     "text": [
      "Scraping Stations:  17%|█▋        | 361/2082 [1:06:17<5:03:27, 10.58s/station]"
     ]
    },
    {
     "name": "stdout",
     "output_type": "stream",
     "text": [
      "Saved data for station 228920 to stations/station_228920.csv\n"
     ]
    },
    {
     "name": "stderr",
     "output_type": "stream",
     "text": [
      "Scraping Stations:  17%|█▋        | 362/2082 [1:06:28<5:08:32, 10.76s/station]"
     ]
    },
    {
     "name": "stdout",
     "output_type": "stream",
     "text": [
      "Saved data for station 276430 to stations/station_276430.csv\n"
     ]
    },
    {
     "name": "stderr",
     "output_type": "stream",
     "text": [
      "Scraping Stations:  17%|█▋        | 363/2082 [1:06:40<5:18:51, 11.13s/station]"
     ]
    },
    {
     "name": "stdout",
     "output_type": "stream",
     "text": [
      "Saved data for station 228370 to stations/station_228370.csv\n"
     ]
    },
    {
     "name": "stderr",
     "output_type": "stream",
     "text": [
      "Scraping Stations:  17%|█▋        | 364/2082 [1:06:52<5:21:05, 11.21s/station]"
     ]
    },
    {
     "name": "stdout",
     "output_type": "stream",
     "text": [
      "Saved data for station 271760 to stations/station_271760.csv\n"
     ]
    },
    {
     "name": "stderr",
     "output_type": "stream",
     "text": [
      "Scraping Stations:  18%|█▊        | 365/2082 [1:07:03<5:21:10, 11.22s/station]"
     ]
    },
    {
     "name": "stdout",
     "output_type": "stream",
     "text": [
      "Saved data for station 263930 to stations/station_263930.csv\n"
     ]
    },
    {
     "name": "stderr",
     "output_type": "stream",
     "text": [
      "Scraping Stations:  18%|█▊        | 366/2082 [1:07:13<5:14:54, 11.01s/station]"
     ]
    },
    {
     "name": "stdout",
     "output_type": "stream",
     "text": [
      "No records in a given period.\n"
     ]
    },
    {
     "name": "stderr",
     "output_type": "stream",
     "text": [
      "Scraping Stations:  18%|█▊        | 367/2082 [1:07:25<5:16:37, 11.08s/station]"
     ]
    },
    {
     "name": "stdout",
     "output_type": "stream",
     "text": [
      "Saved data for station 266950 to stations/station_266950.csv\n"
     ]
    },
    {
     "name": "stderr",
     "output_type": "stream",
     "text": [
      "Scraping Stations:  18%|█▊        | 368/2082 [1:07:36<5:16:48, 11.09s/station]"
     ]
    },
    {
     "name": "stdout",
     "output_type": "stream",
     "text": [
      "No records in a given period.\n"
     ]
    },
    {
     "name": "stderr",
     "output_type": "stream",
     "text": [
      "Scraping Stations:  18%|█▊        | 369/2082 [1:07:48<5:23:05, 11.32s/station]"
     ]
    },
    {
     "name": "stdout",
     "output_type": "stream",
     "text": [
      "Saved data for station 285020 to stations/station_285020.csv\n"
     ]
    },
    {
     "name": "stderr",
     "output_type": "stream",
     "text": [
      "Scraping Stations:  18%|█▊        | 370/2082 [1:07:58<5:13:39, 10.99s/station]"
     ]
    },
    {
     "name": "stdout",
     "output_type": "stream",
     "text": [
      "No records in a given period.\n"
     ]
    },
    {
     "name": "stderr",
     "output_type": "stream",
     "text": [
      "Scraping Stations:  18%|█▊        | 371/2082 [1:08:08<5:05:44, 10.72s/station]"
     ]
    },
    {
     "name": "stdout",
     "output_type": "stream",
     "text": [
      "Saved data for station 275070 to stations/station_275070.csv\n"
     ]
    },
    {
     "name": "stderr",
     "output_type": "stream",
     "text": [
      "Scraping Stations:  18%|█▊        | 372/2082 [1:08:20<5:19:54, 11.22s/station]"
     ]
    },
    {
     "name": "stdout",
     "output_type": "stream",
     "text": [
      "Saved data for station 239090 to stations/station_239090.csv\n"
     ]
    },
    {
     "name": "stderr",
     "output_type": "stream",
     "text": [
      "Scraping Stations:  18%|█▊        | 373/2082 [1:08:31<5:12:34, 10.97s/station]"
     ]
    },
    {
     "name": "stdout",
     "output_type": "stream",
     "text": [
      "No records in a given period.\n"
     ]
    },
    {
     "name": "stderr",
     "output_type": "stream",
     "text": [
      "Scraping Stations:  18%|█▊        | 374/2082 [1:08:41<5:04:35, 10.70s/station]"
     ]
    },
    {
     "name": "stdout",
     "output_type": "stream",
     "text": [
      "No records in a given period.\n"
     ]
    },
    {
     "name": "stderr",
     "output_type": "stream",
     "text": [
      "Scraping Stations:  18%|█▊        | 375/2082 [1:08:51<4:58:56, 10.51s/station]"
     ]
    },
    {
     "name": "stdout",
     "output_type": "stream",
     "text": [
      "No records in a given period.\n"
     ]
    },
    {
     "name": "stderr",
     "output_type": "stream",
     "text": [
      "Scraping Stations:  18%|█▊        | 376/2082 [1:09:03<5:13:29, 11.03s/station]"
     ]
    },
    {
     "name": "stdout",
     "output_type": "stream",
     "text": [
      "Saved data for station 280490 to stations/station_280490.csv\n"
     ]
    },
    {
     "name": "stderr",
     "output_type": "stream",
     "text": [
      "Scraping Stations:  18%|█▊        | 377/2082 [1:09:14<5:16:53, 11.15s/station]"
     ]
    },
    {
     "name": "stdout",
     "output_type": "stream",
     "text": [
      "Saved data for station 318010 to stations/station_318010.csv\n"
     ]
    },
    {
     "name": "stderr",
     "output_type": "stream",
     "text": [
      "Scraping Stations:  18%|█▊        | 378/2082 [1:09:26<5:16:33, 11.15s/station]"
     ]
    },
    {
     "name": "stdout",
     "output_type": "stream",
     "text": [
      "Saved data for station 295580 to stations/station_295580.csv\n"
     ]
    },
    {
     "name": "stderr",
     "output_type": "stream",
     "text": [
      "Scraping Stations:  18%|█▊        | 379/2082 [1:09:39<5:34:37, 11.79s/station]"
     ]
    },
    {
     "name": "stdout",
     "output_type": "stream",
     "text": [
      "Saved data for station 261570 to stations/station_261570.csv\n"
     ]
    },
    {
     "name": "stderr",
     "output_type": "stream",
     "text": [
      "Scraping Stations:  18%|█▊        | 380/2082 [1:09:50<5:27:10, 11.53s/station]"
     ]
    },
    {
     "name": "stdout",
     "output_type": "stream",
     "text": [
      "Saved data for station 370040 to stations/station_370040.csv\n"
     ]
    },
    {
     "name": "stderr",
     "output_type": "stream",
     "text": [
      "Scraping Stations:  18%|█▊        | 381/2082 [1:10:02<5:36:23, 11.87s/station]"
     ]
    },
    {
     "name": "stdout",
     "output_type": "stream",
     "text": [
      "Saved data for station 339100 to stations/station_339100.csv\n"
     ]
    },
    {
     "name": "stderr",
     "output_type": "stream",
     "text": [
      "Scraping Stations:  18%|█▊        | 382/2082 [1:10:14<5:30:53, 11.68s/station]"
     ]
    },
    {
     "name": "stdout",
     "output_type": "stream",
     "text": [
      "Saved data for station 370580 to stations/station_370580.csv\n"
     ]
    },
    {
     "name": "stderr",
     "output_type": "stream",
     "text": [
      "Scraping Stations:  18%|█▊        | 383/2082 [1:10:25<5:29:02, 11.62s/station]"
     ]
    },
    {
     "name": "stdout",
     "output_type": "stream",
     "text": [
      "Saved data for station 347400 to stations/station_347400.csv\n"
     ]
    },
    {
     "name": "stderr",
     "output_type": "stream",
     "text": [
      "Scraping Stations:  18%|█▊        | 384/2082 [1:10:35<5:17:03, 11.20s/station]"
     ]
    },
    {
     "name": "stdout",
     "output_type": "stream",
     "text": [
      "No records in a given period.\n"
     ]
    },
    {
     "name": "stderr",
     "output_type": "stream",
     "text": [
      "Scraping Stations:  18%|█▊        | 385/2082 [1:10:48<5:27:38, 11.58s/station]"
     ]
    },
    {
     "name": "stdout",
     "output_type": "stream",
     "text": [
      "Saved data for station 282140 to stations/station_282140.csv\n"
     ]
    },
    {
     "name": "stderr",
     "output_type": "stream",
     "text": [
      "Scraping Stations:  19%|█▊        | 386/2082 [1:10:59<5:21:03, 11.36s/station]"
     ]
    },
    {
     "name": "stdout",
     "output_type": "stream",
     "text": [
      "No records in a given period.\n"
     ]
    },
    {
     "name": "stderr",
     "output_type": "stream",
     "text": [
      "Scraping Stations:  19%|█▊        | 387/2082 [1:11:08<5:04:50, 10.79s/station]"
     ]
    },
    {
     "name": "stdout",
     "output_type": "stream",
     "text": [
      "No records in a given period.\n"
     ]
    },
    {
     "name": "stderr",
     "output_type": "stream",
     "text": [
      "Scraping Stations:  19%|█▊        | 388/2082 [1:11:18<4:59:39, 10.61s/station]"
     ]
    },
    {
     "name": "stdout",
     "output_type": "stream",
     "text": [
      "No records in a given period.\n"
     ]
    },
    {
     "name": "stderr",
     "output_type": "stream",
     "text": [
      "Scraping Stations:  19%|█▊        | 389/2082 [1:11:28<4:54:47, 10.45s/station]"
     ]
    },
    {
     "name": "stdout",
     "output_type": "stream",
     "text": [
      "No records in a given period.\n"
     ]
    },
    {
     "name": "stderr",
     "output_type": "stream",
     "text": [
      "Scraping Stations:  19%|█▊        | 390/2082 [1:11:37<4:42:01, 10.00s/station]"
     ]
    },
    {
     "name": "stdout",
     "output_type": "stream",
     "text": [
      "No records in a given period.\n"
     ]
    },
    {
     "name": "stderr",
     "output_type": "stream",
     "text": [
      "Scraping Stations:  19%|█▉        | 391/2082 [1:11:49<4:51:35, 10.35s/station]"
     ]
    },
    {
     "name": "stdout",
     "output_type": "stream",
     "text": [
      "No records in a given period.\n"
     ]
    },
    {
     "name": "stderr",
     "output_type": "stream",
     "text": [
      "Scraping Stations:  19%|█▉        | 392/2082 [1:12:01<5:10:43, 11.03s/station]"
     ]
    },
    {
     "name": "stdout",
     "output_type": "stream",
     "text": [
      "Saved data for station 200870 to stations/station_200870.csv\n"
     ]
    },
    {
     "name": "stderr",
     "output_type": "stream",
     "text": [
      "Scraping Stations:  19%|█▉        | 393/2082 [1:12:12<5:12:16, 11.09s/station]"
     ]
    },
    {
     "name": "stdout",
     "output_type": "stream",
     "text": [
      "No records in a given period.\n"
     ]
    },
    {
     "name": "stderr",
     "output_type": "stream",
     "text": [
      "Scraping Stations:  19%|█▉        | 394/2082 [1:12:23<5:08:05, 10.95s/station]"
     ]
    },
    {
     "name": "stdout",
     "output_type": "stream",
     "text": [
      "No records in a given period.\n"
     ]
    },
    {
     "name": "stderr",
     "output_type": "stream",
     "text": [
      "Scraping Stations:  19%|█▉        | 395/2082 [1:12:33<5:03:39, 10.80s/station]"
     ]
    },
    {
     "name": "stdout",
     "output_type": "stream",
     "text": [
      "No records in a given period.\n"
     ]
    },
    {
     "name": "stderr",
     "output_type": "stream",
     "text": [
      "Scraping Stations:  19%|█▉        | 396/2082 [1:12:44<5:03:02, 10.78s/station]"
     ]
    },
    {
     "name": "stdout",
     "output_type": "stream",
     "text": [
      "No records in a given period.\n"
     ]
    },
    {
     "name": "stderr",
     "output_type": "stream",
     "text": [
      "Scraping Stations:  19%|█▉        | 397/2082 [1:12:55<5:01:53, 10.75s/station]"
     ]
    },
    {
     "name": "stdout",
     "output_type": "stream",
     "text": [
      "No records in a given period.\n"
     ]
    },
    {
     "name": "stderr",
     "output_type": "stream",
     "text": [
      "Scraping Stations:  19%|█▉        | 398/2082 [1:13:08<5:22:38, 11.50s/station]"
     ]
    },
    {
     "name": "stdout",
     "output_type": "stream",
     "text": [
      "Saved data for station 314890 to stations/station_314890.csv\n"
     ]
    },
    {
     "name": "stderr",
     "output_type": "stream",
     "text": [
      "Scraping Stations:  19%|█▉        | 399/2082 [1:13:20<5:22:47, 11.51s/station]"
     ]
    },
    {
     "name": "stdout",
     "output_type": "stream",
     "text": [
      "No records in a given period.\n"
     ]
    },
    {
     "name": "stderr",
     "output_type": "stream",
     "text": [
      "Scraping Stations:  19%|█▉        | 400/2082 [1:13:29<5:05:52, 10.91s/station]"
     ]
    },
    {
     "name": "stdout",
     "output_type": "stream",
     "text": [
      "No records in a given period.\n"
     ]
    },
    {
     "name": "stderr",
     "output_type": "stream",
     "text": [
      "Scraping Stations:  19%|█▉        | 401/2082 [1:13:45<5:45:34, 12.33s/station]"
     ]
    },
    {
     "name": "stdout",
     "output_type": "stream",
     "text": [
      "No records in a given period.\n"
     ]
    },
    {
     "name": "stderr",
     "output_type": "stream",
     "text": [
      "Scraping Stations:  19%|█▉        | 402/2082 [1:14:07<7:07:58, 15.28s/station]"
     ]
    },
    {
     "name": "stdout",
     "output_type": "stream",
     "text": [
      "Saved data for station 274530 to stations/station_274530.csv\n"
     ]
    },
    {
     "name": "stderr",
     "output_type": "stream",
     "text": [
      "Scraping Stations:  19%|█▉        | 403/2082 [1:14:20<6:51:06, 14.69s/station]"
     ]
    },
    {
     "name": "stdout",
     "output_type": "stream",
     "text": [
      "Saved data for station 348450 to stations/station_348450.csv\n"
     ]
    },
    {
     "name": "stderr",
     "output_type": "stream",
     "text": [
      "Scraping Stations:  19%|█▉        | 404/2082 [1:14:32<6:23:49, 13.72s/station]"
     ]
    },
    {
     "name": "stdout",
     "output_type": "stream",
     "text": [
      "No records in a given period.\n"
     ]
    },
    {
     "name": "stderr",
     "output_type": "stream",
     "text": [
      "Scraping Stations:  19%|█▉        | 405/2082 [1:14:42<5:56:17, 12.75s/station]"
     ]
    },
    {
     "name": "stdout",
     "output_type": "stream",
     "text": [
      "No records in a given period.\n"
     ]
    },
    {
     "name": "stderr",
     "output_type": "stream",
     "text": [
      "Scraping Stations:  20%|█▉        | 406/2082 [1:14:57<6:14:05, 13.39s/station]"
     ]
    },
    {
     "name": "stdout",
     "output_type": "stream",
     "text": [
      "Saved data for station 307310 to stations/station_307310.csv\n"
     ]
    },
    {
     "name": "stderr",
     "output_type": "stream",
     "text": [
      "Scraping Stations:  20%|█▉        | 407/2082 [1:15:14<6:44:45, 14.50s/station]"
     ]
    },
    {
     "name": "stdout",
     "output_type": "stream",
     "text": [
      "Saved data for station 342020 to stations/station_342020.csv\n"
     ]
    },
    {
     "name": "stderr",
     "output_type": "stream",
     "text": [
      "Scraping Stations:  20%|█▉        | 408/2082 [1:16:02<11:24:48, 24.55s/station]"
     ]
    },
    {
     "name": "stdout",
     "output_type": "stream",
     "text": [
      "No records in a given period.\n"
     ]
    },
    {
     "name": "stderr",
     "output_type": "stream",
     "text": [
      "Scraping Stations:  20%|█▉        | 409/2082 [1:16:12<9:24:10, 20.23s/station] "
     ]
    },
    {
     "name": "stdout",
     "output_type": "stream",
     "text": [
      "No records in a given period.\n"
     ]
    },
    {
     "name": "stderr",
     "output_type": "stream",
     "text": [
      "Scraping Stations:  20%|█▉        | 410/2082 [1:16:27<8:33:13, 18.42s/station]"
     ]
    },
    {
     "name": "stdout",
     "output_type": "stream",
     "text": [
      "Saved data for station 346090 to stations/station_346090.csv\n"
     ]
    },
    {
     "name": "stderr",
     "output_type": "stream",
     "text": [
      "Scraping Stations:  20%|█▉        | 411/2082 [1:16:39<7:40:51, 16.55s/station]"
     ]
    },
    {
     "name": "stdout",
     "output_type": "stream",
     "text": [
      "No records in a given period.\n"
     ]
    },
    {
     "name": "stderr",
     "output_type": "stream",
     "text": [
      "Scraping Stations:  20%|█▉        | 412/2082 [1:16:53<7:21:55, 15.88s/station]"
     ]
    },
    {
     "name": "stdout",
     "output_type": "stream",
     "text": [
      "Saved data for station 372350 to stations/station_372350.csv\n"
     ]
    },
    {
     "name": "stderr",
     "output_type": "stream",
     "text": [
      "Scraping Stations:  20%|█▉        | 413/2082 [1:17:03<6:34:54, 14.20s/station]"
     ]
    },
    {
     "name": "stdout",
     "output_type": "stream",
     "text": [
      "No records in a given period.\n"
     ]
    },
    {
     "name": "stderr",
     "output_type": "stream",
     "text": [
      "Scraping Stations:  20%|█▉        | 414/2082 [1:17:19<6:43:24, 14.51s/station]"
     ]
    },
    {
     "name": "stdout",
     "output_type": "stream",
     "text": [
      "No records in a given period.\n"
     ]
    },
    {
     "name": "stderr",
     "output_type": "stream",
     "text": [
      "Scraping Stations:  20%|█▉        | 415/2082 [1:17:32<6:31:28, 14.09s/station]"
     ]
    },
    {
     "name": "stdout",
     "output_type": "stream",
     "text": [
      "No records in a given period.\n"
     ]
    },
    {
     "name": "stderr",
     "output_type": "stream",
     "text": [
      "Scraping Stations:  20%|█▉        | 416/2082 [1:17:43<6:11:57, 13.40s/station]"
     ]
    },
    {
     "name": "stdout",
     "output_type": "stream",
     "text": [
      "No records in a given period.\n"
     ]
    },
    {
     "name": "stderr",
     "output_type": "stream",
     "text": [
      "Scraping Stations:  20%|██        | 417/2082 [1:17:53<5:43:29, 12.38s/station]"
     ]
    },
    {
     "name": "stdout",
     "output_type": "stream",
     "text": [
      "No records in a given period.\n"
     ]
    },
    {
     "name": "stderr",
     "output_type": "stream",
     "text": [
      "Scraping Stations:  20%|██        | 418/2082 [1:18:03<5:22:35, 11.63s/station]"
     ]
    },
    {
     "name": "stdout",
     "output_type": "stream",
     "text": [
      "Saved data for station 372440 to stations/station_372440.csv\n"
     ]
    },
    {
     "name": "stderr",
     "output_type": "stream",
     "text": [
      "Scraping Stations:  20%|██        | 419/2082 [1:18:15<5:20:20, 11.56s/station]"
     ]
    },
    {
     "name": "stdout",
     "output_type": "stream",
     "text": [
      "Saved data for station 374630 to stations/station_374630.csv\n"
     ]
    },
    {
     "name": "stderr",
     "output_type": "stream",
     "text": [
      "Scraping Stations:  20%|██        | 420/2082 [1:18:26<5:18:07, 11.48s/station]"
     ]
    },
    {
     "name": "stdout",
     "output_type": "stream",
     "text": [
      "No records in a given period.\n"
     ]
    },
    {
     "name": "stderr",
     "output_type": "stream",
     "text": [
      "Scraping Stations:  20%|██        | 421/2082 [1:18:37<5:15:40, 11.40s/station]"
     ]
    },
    {
     "name": "stdout",
     "output_type": "stream",
     "text": [
      "Saved data for station 275390 to stations/station_275390.csv\n"
     ]
    },
    {
     "name": "stderr",
     "output_type": "stream",
     "text": [
      "Scraping Stations:  20%|██        | 422/2082 [1:18:48<5:05:45, 11.05s/station]"
     ]
    },
    {
     "name": "stdout",
     "output_type": "stream",
     "text": [
      "No records in a given period.\n"
     ]
    },
    {
     "name": "stderr",
     "output_type": "stream",
     "text": [
      "Scraping Stations:  20%|██        | 423/2082 [1:18:59<5:11:59, 11.28s/station]"
     ]
    },
    {
     "name": "stdout",
     "output_type": "stream",
     "text": [
      "Saved data for station 307140 to stations/station_307140.csv\n"
     ]
    },
    {
     "name": "stderr",
     "output_type": "stream",
     "text": [
      "Scraping Stations:  20%|██        | 424/2082 [1:19:13<5:31:05, 11.98s/station]"
     ]
    },
    {
     "name": "stdout",
     "output_type": "stream",
     "text": [
      "Saved data for station 318730 to stations/station_318730.csv\n"
     ]
    },
    {
     "name": "stderr",
     "output_type": "stream",
     "text": [
      "Scraping Stations:  20%|██        | 425/2082 [1:19:25<5:34:57, 12.13s/station]"
     ]
    },
    {
     "name": "stdout",
     "output_type": "stream",
     "text": [
      "No records in a given period.\n"
     ]
    },
    {
     "name": "stderr",
     "output_type": "stream",
     "text": [
      "Scraping Stations:  20%|██        | 426/2082 [1:19:35<5:17:38, 11.51s/station]"
     ]
    },
    {
     "name": "stdout",
     "output_type": "stream",
     "text": [
      "No records in a given period.\n"
     ]
    },
    {
     "name": "stderr",
     "output_type": "stream",
     "text": [
      "Scraping Stations:  21%|██        | 427/2082 [1:19:47<5:15:03, 11.42s/station]"
     ]
    },
    {
     "name": "stdout",
     "output_type": "stream",
     "text": [
      "Saved data for station 342670 to stations/station_342670.csv\n"
     ]
    },
    {
     "name": "stderr",
     "output_type": "stream",
     "text": [
      "Scraping Stations:  21%|██        | 428/2082 [1:19:57<5:06:27, 11.12s/station]"
     ]
    },
    {
     "name": "stdout",
     "output_type": "stream",
     "text": [
      "No records in a given period.\n"
     ]
    },
    {
     "name": "stderr",
     "output_type": "stream",
     "text": [
      "Scraping Stations:  21%|██        | 429/2082 [1:20:09<5:10:00, 11.25s/station]"
     ]
    },
    {
     "name": "stdout",
     "output_type": "stream",
     "text": [
      "No records in a given period.\n"
     ]
    },
    {
     "name": "stderr",
     "output_type": "stream",
     "text": [
      "Scraping Stations:  21%|██        | 430/2082 [1:20:20<5:12:53, 11.36s/station]"
     ]
    },
    {
     "name": "stdout",
     "output_type": "stream",
     "text": [
      "No records in a given period.\n"
     ]
    },
    {
     "name": "stderr",
     "output_type": "stream",
     "text": [
      "Scraping Stations:  21%|██        | 431/2082 [1:20:30<4:57:10, 10.80s/station]"
     ]
    },
    {
     "name": "stdout",
     "output_type": "stream",
     "text": [
      "No records in a given period.\n"
     ]
    },
    {
     "name": "stderr",
     "output_type": "stream",
     "text": [
      "Scraping Stations:  21%|██        | 432/2082 [1:20:44<5:25:30, 11.84s/station]"
     ]
    },
    {
     "name": "stdout",
     "output_type": "stream",
     "text": [
      "Saved data for station 345240 to stations/station_345240.csv\n"
     ]
    },
    {
     "name": "stderr",
     "output_type": "stream",
     "text": [
      "Scraping Stations:  21%|██        | 433/2082 [1:20:54<5:07:05, 11.17s/station]"
     ]
    },
    {
     "name": "stdout",
     "output_type": "stream",
     "text": [
      "No records in a given period.\n"
     ]
    },
    {
     "name": "stderr",
     "output_type": "stream",
     "text": [
      "Scraping Stations:  21%|██        | 434/2082 [1:21:08<5:31:01, 12.05s/station]"
     ]
    },
    {
     "name": "stdout",
     "output_type": "stream",
     "text": [
      "Saved data for station 246910 to stations/station_246910.csv\n"
     ]
    },
    {
     "name": "stderr",
     "output_type": "stream",
     "text": [
      "Scraping Stations:  21%|██        | 435/2082 [1:21:19<5:23:56, 11.80s/station]"
     ]
    },
    {
     "name": "stdout",
     "output_type": "stream",
     "text": [
      "No records in a given period.\n"
     ]
    },
    {
     "name": "stderr",
     "output_type": "stream",
     "text": [
      "Scraping Stations:  21%|██        | 436/2082 [1:21:31<5:28:17, 11.97s/station]"
     ]
    },
    {
     "name": "stdout",
     "output_type": "stream",
     "text": [
      "Saved data for station 280760 to stations/station_280760.csv\n"
     ]
    },
    {
     "name": "stderr",
     "output_type": "stream",
     "text": [
      "Scraping Stations:  21%|██        | 437/2082 [1:21:43<5:26:15, 11.90s/station]"
     ]
    },
    {
     "name": "stdout",
     "output_type": "stream",
     "text": [
      "Saved data for station 263810 to stations/station_263810.csv\n"
     ]
    },
    {
     "name": "stderr",
     "output_type": "stream",
     "text": [
      "Scraping Stations:  21%|██        | 438/2082 [1:21:54<5:20:42, 11.70s/station]"
     ]
    },
    {
     "name": "stdout",
     "output_type": "stream",
     "text": [
      "No records in a given period.\n"
     ]
    },
    {
     "name": "stderr",
     "output_type": "stream",
     "text": [
      "Scraping Stations:  21%|██        | 439/2082 [1:22:06<5:21:22, 11.74s/station]"
     ]
    },
    {
     "name": "stdout",
     "output_type": "stream",
     "text": [
      "Saved data for station 240760 to stations/station_240760.csv\n"
     ]
    },
    {
     "name": "stderr",
     "output_type": "stream",
     "text": [
      "Scraping Stations:  21%|██        | 440/2082 [1:22:18<5:22:39, 11.79s/station]"
     ]
    },
    {
     "name": "stdout",
     "output_type": "stream",
     "text": [
      "Saved data for station 374700 to stations/station_374700.csv\n"
     ]
    },
    {
     "name": "stderr",
     "output_type": "stream",
     "text": [
      "Scraping Stations:  21%|██        | 441/2082 [1:22:32<5:39:03, 12.40s/station]"
     ]
    },
    {
     "name": "stdout",
     "output_type": "stream",
     "text": [
      "No records in a given period.\n"
     ]
    },
    {
     "name": "stderr",
     "output_type": "stream",
     "text": [
      "Scraping Stations:  21%|██        | 442/2082 [1:22:45<5:41:10, 12.48s/station]"
     ]
    },
    {
     "name": "stdout",
     "output_type": "stream",
     "text": [
      "Saved data for station 306950 to stations/station_306950.csv\n"
     ]
    },
    {
     "name": "stderr",
     "output_type": "stream",
     "text": [
      "Scraping Stations:  21%|██▏       | 443/2082 [1:22:56<5:30:55, 12.11s/station]"
     ]
    },
    {
     "name": "stdout",
     "output_type": "stream",
     "text": [
      "No records in a given period.\n"
     ]
    },
    {
     "name": "stderr",
     "output_type": "stream",
     "text": [
      "Scraping Stations:  21%|██▏       | 444/2082 [1:23:06<5:17:09, 11.62s/station]"
     ]
    },
    {
     "name": "stdout",
     "output_type": "stream",
     "text": [
      "No records in a given period.\n"
     ]
    },
    {
     "name": "stderr",
     "output_type": "stream",
     "text": [
      "Scraping Stations:  21%|██▏       | 445/2082 [1:23:19<5:28:52, 12.05s/station]"
     ]
    },
    {
     "name": "stdout",
     "output_type": "stream",
     "text": [
      "Saved data for station 241430 to stations/station_241430.csv\n"
     ]
    },
    {
     "name": "stderr",
     "output_type": "stream",
     "text": [
      "Scraping Stations:  21%|██▏       | 446/2082 [1:23:31<5:25:15, 11.93s/station]"
     ]
    },
    {
     "name": "stdout",
     "output_type": "stream",
     "text": [
      "No records in a given period.\n"
     ]
    },
    {
     "name": "stderr",
     "output_type": "stream",
     "text": [
      "Scraping Stations:  21%|██▏       | 447/2082 [1:23:41<5:11:34, 11.43s/station]"
     ]
    },
    {
     "name": "stdout",
     "output_type": "stream",
     "text": [
      "No records in a given period.\n"
     ]
    },
    {
     "name": "stderr",
     "output_type": "stream",
     "text": [
      "Scraping Stations:  22%|██▏       | 448/2082 [1:23:51<4:56:08, 10.87s/station]"
     ]
    },
    {
     "name": "stdout",
     "output_type": "stream",
     "text": [
      "No records in a given period.\n"
     ]
    },
    {
     "name": "stderr",
     "output_type": "stream",
     "text": [
      "Scraping Stations:  22%|██▏       | 449/2082 [1:24:04<5:14:29, 11.56s/station]"
     ]
    },
    {
     "name": "stdout",
     "output_type": "stream",
     "text": [
      "Saved data for station 300890 to stations/station_300890.csv\n"
     ]
    },
    {
     "name": "stderr",
     "output_type": "stream",
     "text": [
      "Scraping Stations:  22%|██▏       | 450/2082 [1:24:17<5:25:50, 11.98s/station]"
     ]
    },
    {
     "name": "stdout",
     "output_type": "stream",
     "text": [
      "No records in a given period.\n"
     ]
    },
    {
     "name": "stderr",
     "output_type": "stream",
     "text": [
      "Scraping Stations:  22%|██▏       | 451/2082 [1:24:32<5:53:26, 13.00s/station]"
     ]
    },
    {
     "name": "stdout",
     "output_type": "stream",
     "text": [
      "No records in a given period.\n"
     ]
    },
    {
     "name": "stderr",
     "output_type": "stream",
     "text": [
      "Scraping Stations:  22%|██▏       | 452/2082 [1:24:43<5:33:44, 12.28s/station]"
     ]
    },
    {
     "name": "stdout",
     "output_type": "stream",
     "text": [
      "No records in a given period.\n"
     ]
    },
    {
     "name": "stderr",
     "output_type": "stream",
     "text": [
      "Scraping Stations:  22%|██▏       | 453/2082 [1:24:53<5:14:34, 11.59s/station]"
     ]
    },
    {
     "name": "stdout",
     "output_type": "stream",
     "text": [
      "No records in a given period.\n"
     ]
    },
    {
     "name": "stderr",
     "output_type": "stream",
     "text": [
      "Scraping Stations:  22%|██▏       | 454/2082 [1:25:05<5:22:19, 11.88s/station]"
     ]
    },
    {
     "name": "stdout",
     "output_type": "stream",
     "text": [
      "Saved data for station 294810 to stations/station_294810.csv\n"
     ]
    },
    {
     "name": "stderr",
     "output_type": "stream",
     "text": [
      "Scraping Stations:  22%|██▏       | 455/2082 [1:25:23<6:10:02, 13.65s/station]"
     ]
    },
    {
     "name": "stdout",
     "output_type": "stream",
     "text": [
      "Saved data for station 348580 to stations/station_348580.csv\n"
     ]
    },
    {
     "name": "stderr",
     "output_type": "stream",
     "text": [
      "Scraping Stations:  22%|██▏       | 456/2082 [1:25:40<6:34:32, 14.56s/station]"
     ]
    },
    {
     "name": "stdout",
     "output_type": "stream",
     "text": [
      "Saved data for station 206740 to stations/station_206740.csv\n"
     ]
    },
    {
     "name": "stderr",
     "output_type": "stream",
     "text": [
      "Scraping Stations:  22%|██▏       | 457/2082 [1:25:54<6:34:11, 14.55s/station]"
     ]
    },
    {
     "name": "stdout",
     "output_type": "stream",
     "text": [
      "Saved data for station 277990 to stations/station_277990.csv\n"
     ]
    },
    {
     "name": "stderr",
     "output_type": "stream",
     "text": [
      "Scraping Stations:  22%|██▏       | 458/2082 [1:26:12<6:55:56, 15.37s/station]"
     ]
    },
    {
     "name": "stdout",
     "output_type": "stream",
     "text": [
      "No records in a given period.\n"
     ]
    },
    {
     "name": "stderr",
     "output_type": "stream",
     "text": [
      "Scraping Stations:  22%|██▏       | 459/2082 [1:26:24<6:30:16, 14.43s/station]"
     ]
    },
    {
     "name": "stdout",
     "output_type": "stream",
     "text": [
      "Saved data for station 262680 to stations/station_262680.csv\n"
     ]
    },
    {
     "name": "stderr",
     "output_type": "stream",
     "text": [
      "Scraping Stations:  22%|██▏       | 460/2082 [1:26:35<6:00:18, 13.33s/station]"
     ]
    },
    {
     "name": "stdout",
     "output_type": "stream",
     "text": [
      "No records in a given period.\n"
     ]
    },
    {
     "name": "stderr",
     "output_type": "stream",
     "text": [
      "Scraping Stations:  22%|██▏       | 461/2082 [1:26:44<5:29:21, 12.19s/station]"
     ]
    },
    {
     "name": "stdout",
     "output_type": "stream",
     "text": [
      "No records in a given period.\n"
     ]
    },
    {
     "name": "stderr",
     "output_type": "stream",
     "text": [
      "Scraping Stations:  22%|██▏       | 462/2082 [1:26:53<5:01:49, 11.18s/station]"
     ]
    },
    {
     "name": "stdout",
     "output_type": "stream",
     "text": [
      "No records in a given period.\n"
     ]
    },
    {
     "name": "stderr",
     "output_type": "stream",
     "text": [
      "Scraping Stations:  22%|██▏       | 463/2082 [1:27:04<5:01:53, 11.19s/station]"
     ]
    },
    {
     "name": "stdout",
     "output_type": "stream",
     "text": [
      "No records in a given period.\n"
     ]
    },
    {
     "name": "stderr",
     "output_type": "stream",
     "text": [
      "Scraping Stations:  22%|██▏       | 464/2082 [1:27:16<5:02:23, 11.21s/station]"
     ]
    },
    {
     "name": "stdout",
     "output_type": "stream",
     "text": [
      "No records in a given period.\n"
     ]
    },
    {
     "name": "stderr",
     "output_type": "stream",
     "text": [
      "Scraping Stations:  22%|██▏       | 465/2082 [1:27:25<4:49:01, 10.72s/station]"
     ]
    },
    {
     "name": "stdout",
     "output_type": "stream",
     "text": [
      "No records in a given period.\n"
     ]
    },
    {
     "name": "stderr",
     "output_type": "stream",
     "text": [
      "Scraping Stations:  22%|██▏       | 466/2082 [1:27:35<4:39:58, 10.39s/station]"
     ]
    },
    {
     "name": "stdout",
     "output_type": "stream",
     "text": [
      "Saved data for station 345190 to stations/station_345190.csv\n"
     ]
    },
    {
     "name": "stderr",
     "output_type": "stream",
     "text": [
      "Scraping Stations:  22%|██▏       | 467/2082 [1:27:45<4:34:45, 10.21s/station]"
     ]
    },
    {
     "name": "stdout",
     "output_type": "stream",
     "text": [
      "Saved data for station 330002 to stations/station_330002.csv\n"
     ]
    },
    {
     "name": "stderr",
     "output_type": "stream",
     "text": [
      "Scraping Stations:  22%|██▏       | 468/2082 [1:27:55<4:33:00, 10.15s/station]"
     ]
    },
    {
     "name": "stdout",
     "output_type": "stream",
     "text": [
      "No records in a given period.\n"
     ]
    },
    {
     "name": "stderr",
     "output_type": "stream",
     "text": [
      "Scraping Stations:  23%|██▎       | 469/2082 [1:28:08<5:01:01, 11.20s/station]"
     ]
    },
    {
     "name": "stdout",
     "output_type": "stream",
     "text": [
      "Saved data for station 248260 to stations/station_248260.csv\n"
     ]
    },
    {
     "name": "stderr",
     "output_type": "stream",
     "text": [
      "Scraping Stations:  23%|██▎       | 470/2082 [1:28:21<5:17:04, 11.80s/station]"
     ]
    },
    {
     "name": "stdout",
     "output_type": "stream",
     "text": [
      "Saved data for station 347850 to stations/station_347850.csv\n"
     ]
    },
    {
     "name": "stderr",
     "output_type": "stream",
     "text": [
      "Scraping Stations:  23%|██▎       | 471/2082 [1:28:34<5:24:42, 12.09s/station]"
     ]
    },
    {
     "name": "stdout",
     "output_type": "stream",
     "text": [
      "No records in a given period.\n"
     ]
    },
    {
     "name": "stderr",
     "output_type": "stream",
     "text": [
      "Scraping Stations:  23%|██▎       | 472/2082 [1:28:47<5:27:45, 12.21s/station]"
     ]
    },
    {
     "name": "stdout",
     "output_type": "stream",
     "text": [
      "No records in a given period.\n"
     ]
    },
    {
     "name": "stderr",
     "output_type": "stream",
     "text": [
      "Scraping Stations:  23%|██▎       | 473/2082 [1:28:59<5:29:07, 12.27s/station]"
     ]
    },
    {
     "name": "stdout",
     "output_type": "stream",
     "text": [
      "No records in a given period.\n"
     ]
    },
    {
     "name": "stderr",
     "output_type": "stream",
     "text": [
      "Scraping Stations:  23%|██▎       | 474/2082 [1:29:10<5:21:16, 11.99s/station]"
     ]
    },
    {
     "name": "stdout",
     "output_type": "stream",
     "text": [
      "No records in a given period.\n"
     ]
    },
    {
     "name": "stderr",
     "output_type": "stream",
     "text": [
      "Scraping Stations:  23%|██▎       | 475/2082 [1:29:20<5:04:19, 11.36s/station]"
     ]
    },
    {
     "name": "stdout",
     "output_type": "stream",
     "text": [
      "No records in a given period.\n"
     ]
    },
    {
     "name": "stderr",
     "output_type": "stream",
     "text": [
      "Scraping Stations:  23%|██▎       | 476/2082 [1:29:31<4:58:20, 11.15s/station]"
     ]
    },
    {
     "name": "stdout",
     "output_type": "stream",
     "text": [
      "Saved data for station 230740 to stations/station_230740.csv\n"
     ]
    },
    {
     "name": "stderr",
     "output_type": "stream",
     "text": [
      "Scraping Stations:  23%|██▎       | 477/2082 [1:29:41<4:48:02, 10.77s/station]"
     ]
    },
    {
     "name": "stdout",
     "output_type": "stream",
     "text": [
      "No records in a given period.\n"
     ]
    },
    {
     "name": "stderr",
     "output_type": "stream",
     "text": [
      "Scraping Stations:  23%|██▎       | 478/2082 [1:29:51<4:42:10, 10.55s/station]"
     ]
    },
    {
     "name": "stdout",
     "output_type": "stream",
     "text": [
      "No records in a given period.\n"
     ]
    },
    {
     "name": "stderr",
     "output_type": "stream",
     "text": [
      "Scraping Stations:  23%|██▎       | 479/2082 [1:30:02<4:48:10, 10.79s/station]"
     ]
    },
    {
     "name": "stdout",
     "output_type": "stream",
     "text": [
      "No records in a given period.\n"
     ]
    },
    {
     "name": "stderr",
     "output_type": "stream",
     "text": [
      "Scraping Stations:  23%|██▎       | 480/2082 [1:30:12<4:36:02, 10.34s/station]"
     ]
    },
    {
     "name": "stdout",
     "output_type": "stream",
     "text": [
      "No records in a given period.\n"
     ]
    },
    {
     "name": "stderr",
     "output_type": "stream",
     "text": [
      "Scraping Stations:  23%|██▎       | 481/2082 [1:30:23<4:45:52, 10.71s/station]"
     ]
    },
    {
     "name": "stdout",
     "output_type": "stream",
     "text": [
      "No records in a given period.\n"
     ]
    },
    {
     "name": "stderr",
     "output_type": "stream",
     "text": [
      "Scraping Stations:  23%|██▎       | 482/2082 [1:30:32<4:30:16, 10.14s/station]"
     ]
    },
    {
     "name": "stdout",
     "output_type": "stream",
     "text": [
      "No records in a given period.\n"
     ]
    },
    {
     "name": "stderr",
     "output_type": "stream",
     "text": [
      "Scraping Stations:  23%|██▎       | 483/2082 [1:30:45<4:53:22, 11.01s/station]"
     ]
    },
    {
     "name": "stdout",
     "output_type": "stream",
     "text": [
      "Saved data for station 243380 to stations/station_243380.csv\n"
     ]
    },
    {
     "name": "stderr",
     "output_type": "stream",
     "text": [
      "Scraping Stations:  23%|██▎       | 484/2082 [1:30:57<4:58:49, 11.22s/station]"
     ]
    },
    {
     "name": "stdout",
     "output_type": "stream",
     "text": [
      "Saved data for station 347270 to stations/station_347270.csv\n"
     ]
    },
    {
     "name": "stderr",
     "output_type": "stream",
     "text": [
      "Scraping Stations:  23%|██▎       | 485/2082 [1:31:11<5:22:04, 12.10s/station]"
     ]
    },
    {
     "name": "stdout",
     "output_type": "stream",
     "text": [
      "Saved data for station 284400 to stations/station_284400.csv\n"
     ]
    },
    {
     "name": "stderr",
     "output_type": "stream",
     "text": [
      "Scraping Stations:  23%|██▎       | 486/2082 [1:31:24<5:26:42, 12.28s/station]"
     ]
    },
    {
     "name": "stdout",
     "output_type": "stream",
     "text": [
      "Saved data for station 317070 to stations/station_317070.csv\n"
     ]
    },
    {
     "name": "stderr",
     "output_type": "stream",
     "text": [
      "Scraping Stations:  23%|██▎       | 487/2082 [1:31:35<5:20:58, 12.07s/station]"
     ]
    },
    {
     "name": "stdout",
     "output_type": "stream",
     "text": [
      "Saved data for station 243610 to stations/station_243610.csv\n"
     ]
    },
    {
     "name": "stderr",
     "output_type": "stream",
     "text": [
      "Scraping Stations:  23%|██▎       | 488/2082 [1:31:48<5:30:10, 12.43s/station]"
     ]
    },
    {
     "name": "stdout",
     "output_type": "stream",
     "text": [
      "Saved data for station 257000 to stations/station_257000.csv\n"
     ]
    },
    {
     "name": "stderr",
     "output_type": "stream",
     "text": [
      "Scraping Stations:  23%|██▎       | 489/2082 [1:32:00<5:26:53, 12.31s/station]"
     ]
    },
    {
     "name": "stdout",
     "output_type": "stream",
     "text": [
      "Saved data for station 285060 to stations/station_285060.csv\n"
     ]
    },
    {
     "name": "stderr",
     "output_type": "stream",
     "text": [
      "Scraping Stations:  24%|██▎       | 490/2082 [1:32:15<5:43:55, 12.96s/station]"
     ]
    },
    {
     "name": "stdout",
     "output_type": "stream",
     "text": [
      "Saved data for station 317330 to stations/station_317330.csv\n"
     ]
    },
    {
     "name": "stderr",
     "output_type": "stream",
     "text": [
      "Scraping Stations:  24%|██▎       | 491/2082 [1:32:35<6:41:33, 15.14s/station]"
     ]
    },
    {
     "name": "stdout",
     "output_type": "stream",
     "text": [
      "Saved data for station 342530 to stations/station_342530.csv\n"
     ]
    },
    {
     "name": "stderr",
     "output_type": "stream",
     "text": [
      "Scraping Stations:  24%|██▎       | 492/2082 [1:32:53<6:59:17, 15.82s/station]"
     ]
    },
    {
     "name": "stdout",
     "output_type": "stream",
     "text": [
      "Saved data for station 276480 to stations/station_276480.csv\n"
     ]
    },
    {
     "name": "stderr",
     "output_type": "stream",
     "text": [
      "Scraping Stations:  24%|██▎       | 493/2082 [1:33:09<7:04:48, 16.04s/station]"
     ]
    },
    {
     "name": "stdout",
     "output_type": "stream",
     "text": [
      "Saved data for station 279280 to stations/station_279280.csv\n"
     ]
    },
    {
     "name": "stderr",
     "output_type": "stream",
     "text": [
      "Scraping Stations:  24%|██▎       | 494/2082 [1:33:22<6:41:11, 15.16s/station]"
     ]
    },
    {
     "name": "stdout",
     "output_type": "stream",
     "text": [
      "No records in a given period.\n"
     ]
    },
    {
     "name": "stderr",
     "output_type": "stream",
     "text": [
      "Scraping Stations:  24%|██▍       | 495/2082 [1:33:32<6:02:23, 13.70s/station]"
     ]
    },
    {
     "name": "stdout",
     "output_type": "stream",
     "text": [
      "No records in a given period.\n"
     ]
    },
    {
     "name": "stderr",
     "output_type": "stream",
     "text": [
      "Scraping Stations:  24%|██▍       | 496/2082 [1:33:46<6:01:26, 13.67s/station]"
     ]
    },
    {
     "name": "stdout",
     "output_type": "stream",
     "text": [
      "Saved data for station 226560 to stations/station_226560.csv\n"
     ]
    },
    {
     "name": "stderr",
     "output_type": "stream",
     "text": [
      "Scraping Stations:  24%|██▍       | 497/2082 [1:34:00<6:02:27, 13.72s/station]"
     ]
    },
    {
     "name": "stdout",
     "output_type": "stream",
     "text": [
      "Saved data for station 292630 to stations/station_292630.csv\n"
     ]
    },
    {
     "name": "stderr",
     "output_type": "stream",
     "text": [
      "Scraping Stations:  24%|██▍       | 498/2082 [1:34:11<5:39:21, 12.85s/station]"
     ]
    },
    {
     "name": "stdout",
     "output_type": "stream",
     "text": [
      "No records in a given period.\n"
     ]
    },
    {
     "name": "stderr",
     "output_type": "stream",
     "text": [
      "Scraping Stations:  24%|██▍       | 499/2082 [1:34:22<5:28:08, 12.44s/station]"
     ]
    },
    {
     "name": "stdout",
     "output_type": "stream",
     "text": [
      "Saved data for station 248170 to stations/station_248170.csv\n"
     ]
    },
    {
     "name": "stderr",
     "output_type": "stream",
     "text": [
      "Scraping Stations:  24%|██▍       | 500/2082 [1:34:32<5:04:33, 11.55s/station]"
     ]
    },
    {
     "name": "stdout",
     "output_type": "stream",
     "text": [
      "No records in a given period.\n"
     ]
    },
    {
     "name": "stderr",
     "output_type": "stream",
     "text": [
      "Scraping Stations:  24%|██▍       | 501/2082 [1:34:44<5:08:53, 11.72s/station]"
     ]
    },
    {
     "name": "stdout",
     "output_type": "stream",
     "text": [
      "No records in a given period.\n"
     ]
    },
    {
     "name": "stderr",
     "output_type": "stream",
     "text": [
      "Scraping Stations:  24%|██▍       | 502/2082 [1:34:56<5:15:09, 11.97s/station]"
     ]
    },
    {
     "name": "stdout",
     "output_type": "stream",
     "text": [
      "No records in a given period.\n"
     ]
    },
    {
     "name": "stderr",
     "output_type": "stream",
     "text": [
      "Scraping Stations:  24%|██▍       | 503/2082 [1:35:09<5:23:37, 12.30s/station]"
     ]
    },
    {
     "name": "stdout",
     "output_type": "stream",
     "text": [
      "Saved data for station 298690 to stations/station_298690.csv\n"
     ]
    },
    {
     "name": "stderr",
     "output_type": "stream",
     "text": [
      "Scraping Stations:  24%|██▍       | 504/2082 [1:35:24<5:39:04, 12.89s/station]"
     ]
    },
    {
     "name": "stdout",
     "output_type": "stream",
     "text": [
      "Saved data for station 306830 to stations/station_306830.csv\n"
     ]
    },
    {
     "name": "stderr",
     "output_type": "stream",
     "text": [
      "Scraping Stations:  24%|██▍       | 505/2082 [1:35:38<5:51:04, 13.36s/station]"
     ]
    },
    {
     "name": "stdout",
     "output_type": "stream",
     "text": [
      "Saved data for station 341860 to stations/station_341860.csv\n"
     ]
    },
    {
     "name": "stderr",
     "output_type": "stream",
     "text": [
      "Scraping Stations:  24%|██▍       | 506/2082 [1:35:50<5:42:29, 13.04s/station]"
     ]
    },
    {
     "name": "stdout",
     "output_type": "stream",
     "text": [
      "No records in a given period.\n"
     ]
    },
    {
     "name": "stderr",
     "output_type": "stream",
     "text": [
      "Scraping Stations:  24%|██▍       | 507/2082 [1:36:06<6:05:54, 13.94s/station]"
     ]
    },
    {
     "name": "stdout",
     "output_type": "stream",
     "text": [
      "Saved data for station 260990 to stations/station_260990.csv\n"
     ]
    },
    {
     "name": "stderr",
     "output_type": "stream",
     "text": [
      "Scraping Stations:  24%|██▍       | 508/2082 [1:36:20<6:03:10, 13.84s/station]"
     ]
    },
    {
     "name": "stdout",
     "output_type": "stream",
     "text": [
      "Saved data for station 279210 to stations/station_279210.csv\n"
     ]
    },
    {
     "name": "stderr",
     "output_type": "stream",
     "text": [
      "Scraping Stations:  24%|██▍       | 509/2082 [1:36:31<5:39:32, 12.95s/station]"
     ]
    },
    {
     "name": "stdout",
     "output_type": "stream",
     "text": [
      "No records in a given period.\n"
     ]
    },
    {
     "name": "stderr",
     "output_type": "stream",
     "text": [
      "Scraping Stations:  24%|██▍       | 510/2082 [1:36:42<5:23:22, 12.34s/station]"
     ]
    },
    {
     "name": "stdout",
     "output_type": "stream",
     "text": [
      "No records in a given period.\n"
     ]
    },
    {
     "name": "stderr",
     "output_type": "stream",
     "text": [
      "Scraping Stations:  25%|██▍       | 511/2082 [1:36:59<5:57:14, 13.64s/station]"
     ]
    },
    {
     "name": "stdout",
     "output_type": "stream",
     "text": [
      "Saved data for station 340470 to stations/station_340470.csv\n"
     ]
    },
    {
     "name": "stderr",
     "output_type": "stream",
     "text": [
      "Scraping Stations:  25%|██▍       | 512/2082 [1:37:12<5:58:44, 13.71s/station]"
     ]
    },
    {
     "name": "stdout",
     "output_type": "stream",
     "text": [
      "Saved data for station 305210 to stations/station_305210.csv\n"
     ]
    },
    {
     "name": "stderr",
     "output_type": "stream",
     "text": [
      "Scraping Stations:  25%|██▍       | 513/2082 [1:37:26<6:00:18, 13.78s/station]"
     ]
    },
    {
     "name": "stdout",
     "output_type": "stream",
     "text": [
      "Saved data for station 243430 to stations/station_243430.csv\n"
     ]
    },
    {
     "name": "stderr",
     "output_type": "stream",
     "text": [
      "Scraping Stations:  25%|██▍       | 514/2082 [1:37:45<6:37:21, 15.21s/station]"
     ]
    },
    {
     "name": "stdout",
     "output_type": "stream",
     "text": [
      "Saved data for station 219080 to stations/station_219080.csv\n"
     ]
    },
    {
     "name": "stderr",
     "output_type": "stream",
     "text": [
      "Scraping Stations:  25%|██▍       | 515/2082 [1:37:57<6:15:41, 14.38s/station]"
     ]
    },
    {
     "name": "stdout",
     "output_type": "stream",
     "text": [
      "No records in a given period.\n"
     ]
    },
    {
     "name": "stderr",
     "output_type": "stream",
     "text": [
      "Scraping Stations:  25%|██▍       | 516/2082 [1:38:15<6:44:09, 15.49s/station]"
     ]
    },
    {
     "name": "stdout",
     "output_type": "stream",
     "text": [
      "Saved data for station 268940 to stations/station_268940.csv\n"
     ]
    },
    {
     "name": "stderr",
     "output_type": "stream",
     "text": [
      "Scraping Stations:  25%|██▍       | 517/2082 [1:38:26<6:07:32, 14.09s/station]"
     ]
    },
    {
     "name": "stdout",
     "output_type": "stream",
     "text": [
      "No records in a given period.\n"
     ]
    },
    {
     "name": "stderr",
     "output_type": "stream",
     "text": [
      "Scraping Stations:  25%|██▍       | 518/2082 [1:38:38<5:47:22, 13.33s/station]"
     ]
    },
    {
     "name": "stdout",
     "output_type": "stream",
     "text": [
      "No records in a given period.\n"
     ]
    },
    {
     "name": "stderr",
     "output_type": "stream",
     "text": [
      "Scraping Stations:  25%|██▍       | 519/2082 [1:38:50<5:35:34, 12.88s/station]"
     ]
    },
    {
     "name": "stdout",
     "output_type": "stream",
     "text": [
      "No records in a given period.\n"
     ]
    },
    {
     "name": "stderr",
     "output_type": "stream",
     "text": [
      "Scraping Stations:  25%|██▍       | 520/2082 [1:39:07<6:10:42, 14.24s/station]"
     ]
    },
    {
     "name": "stdout",
     "output_type": "stream",
     "text": [
      "Saved data for station 315270 to stations/station_315270.csv\n"
     ]
    },
    {
     "name": "stderr",
     "output_type": "stream",
     "text": [
      "Scraping Stations:  25%|██▌       | 521/2082 [1:39:17<5:37:14, 12.96s/station]"
     ]
    },
    {
     "name": "stdout",
     "output_type": "stream",
     "text": [
      "No records in a given period.\n"
     ]
    },
    {
     "name": "stderr",
     "output_type": "stream",
     "text": [
      "Scraping Stations:  25%|██▌       | 522/2082 [1:39:38<6:42:39, 15.49s/station]"
     ]
    },
    {
     "name": "stdout",
     "output_type": "stream",
     "text": [
      "No records in a given period.\n"
     ]
    },
    {
     "name": "stderr",
     "output_type": "stream",
     "text": [
      "Scraping Stations:  25%|██▌       | 523/2082 [1:39:48<5:54:53, 13.66s/station]"
     ]
    },
    {
     "name": "stdout",
     "output_type": "stream",
     "text": [
      "No records in a given period.\n"
     ]
    },
    {
     "name": "stderr",
     "output_type": "stream",
     "text": [
      "Scraping Stations:  25%|██▌       | 524/2082 [1:40:00<5:42:22, 13.18s/station]"
     ]
    },
    {
     "name": "stdout",
     "output_type": "stream",
     "text": [
      "No records in a given period.\n"
     ]
    },
    {
     "name": "stderr",
     "output_type": "stream",
     "text": [
      "Scraping Stations:  25%|██▌       | 525/2082 [1:40:09<5:11:58, 12.02s/station]"
     ]
    },
    {
     "name": "stdout",
     "output_type": "stream",
     "text": [
      "No records in a given period.\n"
     ]
    },
    {
     "name": "stderr",
     "output_type": "stream",
     "text": [
      "Scraping Stations:  25%|██▌       | 526/2082 [1:40:29<6:13:31, 14.40s/station]"
     ]
    },
    {
     "name": "stdout",
     "output_type": "stream",
     "text": [
      "Saved data for station 307410 to stations/station_307410.csv\n"
     ]
    },
    {
     "name": "stderr",
     "output_type": "stream",
     "text": [
      "Scraping Stations:  25%|██▌       | 527/2082 [1:40:55<7:45:03, 17.94s/station]"
     ]
    },
    {
     "name": "stdout",
     "output_type": "stream",
     "text": [
      "No records in a given period.\n"
     ]
    },
    {
     "name": "stderr",
     "output_type": "stream",
     "text": [
      "Scraping Stations:  25%|██▌       | 528/2082 [1:41:17<8:12:17, 19.01s/station]"
     ]
    },
    {
     "name": "stdout",
     "output_type": "stream",
     "text": [
      "No records in a given period.\n"
     ]
    },
    {
     "name": "stderr",
     "output_type": "stream",
     "text": [
      "Scraping Stations:  25%|██▌       | 529/2082 [1:41:39<8:38:29, 20.03s/station]"
     ]
    },
    {
     "name": "stdout",
     "output_type": "stream",
     "text": [
      "No records in a given period.\n"
     ]
    },
    {
     "name": "stderr",
     "output_type": "stream",
     "text": [
      "Scraping Stations:  25%|██▌       | 530/2082 [1:41:51<7:35:21, 17.60s/station]"
     ]
    },
    {
     "name": "stdout",
     "output_type": "stream",
     "text": [
      "No records in a given period.\n"
     ]
    },
    {
     "name": "stderr",
     "output_type": "stream",
     "text": [
      "Scraping Stations:  26%|██▌       | 531/2082 [1:42:00<6:28:23, 15.02s/station]"
     ]
    },
    {
     "name": "stdout",
     "output_type": "stream",
     "text": [
      "No records in a given period.\n"
     ]
    },
    {
     "name": "stderr",
     "output_type": "stream",
     "text": [
      "Scraping Stations:  26%|██▌       | 532/2082 [1:42:14<6:19:15, 14.68s/station]"
     ]
    },
    {
     "name": "stdout",
     "output_type": "stream",
     "text": [
      "Saved data for station 223050 to stations/station_223050.csv\n"
     ]
    },
    {
     "name": "stderr",
     "output_type": "stream",
     "text": [
      "Scraping Stations:  26%|██▌       | 533/2082 [1:42:25<5:50:45, 13.59s/station]"
     ]
    },
    {
     "name": "stdout",
     "output_type": "stream",
     "text": [
      "No records in a given period.\n"
     ]
    },
    {
     "name": "stderr",
     "output_type": "stream",
     "text": [
      "Scraping Stations:  26%|██▌       | 534/2082 [1:42:39<5:55:33, 13.78s/station]"
     ]
    },
    {
     "name": "stdout",
     "output_type": "stream",
     "text": [
      "No records in a given period.\n"
     ]
    },
    {
     "name": "stderr",
     "output_type": "stream",
     "text": [
      "Scraping Stations:  26%|██▌       | 535/2082 [1:42:53<5:50:39, 13.60s/station]"
     ]
    },
    {
     "name": "stdout",
     "output_type": "stream",
     "text": [
      "Saved data for station 287560 to stations/station_287560.csv\n"
     ]
    },
    {
     "name": "stderr",
     "output_type": "stream",
     "text": [
      "Scraping Stations:  26%|██▌       | 536/2082 [1:43:10<6:18:17, 14.68s/station]"
     ]
    },
    {
     "name": "stdout",
     "output_type": "stream",
     "text": [
      "Saved data for station 297120 to stations/station_297120.csv\n"
     ]
    },
    {
     "name": "stderr",
     "output_type": "stream",
     "text": [
      "Scraping Stations:  26%|██▌       | 537/2082 [1:43:23<6:03:20, 14.11s/station]"
     ]
    },
    {
     "name": "stdout",
     "output_type": "stream",
     "text": [
      "No records in a given period.\n"
     ]
    },
    {
     "name": "stderr",
     "output_type": "stream",
     "text": [
      "Scraping Stations:  26%|██▌       | 538/2082 [1:43:35<5:46:56, 13.48s/station]"
     ]
    },
    {
     "name": "stdout",
     "output_type": "stream",
     "text": [
      "No records in a given period.\n"
     ]
    },
    {
     "name": "stderr",
     "output_type": "stream",
     "text": [
      "Scraping Stations:  26%|██▌       | 539/2082 [1:43:48<5:46:31, 13.47s/station]"
     ]
    },
    {
     "name": "stdout",
     "output_type": "stream",
     "text": [
      "Saved data for station 278570 to stations/station_278570.csv\n"
     ]
    },
    {
     "name": "stderr",
     "output_type": "stream",
     "text": [
      "Scraping Stations:  26%|██▌       | 540/2082 [1:44:03<5:58:39, 13.96s/station]"
     ]
    },
    {
     "name": "stdout",
     "output_type": "stream",
     "text": [
      "No records in a given period.\n"
     ]
    },
    {
     "name": "stderr",
     "output_type": "stream",
     "text": [
      "Scraping Stations:  26%|██▌       | 541/2082 [1:44:15<5:45:57, 13.47s/station]"
     ]
    },
    {
     "name": "stdout",
     "output_type": "stream",
     "text": [
      "Saved data for station 347350 to stations/station_347350.csv\n"
     ]
    },
    {
     "name": "stderr",
     "output_type": "stream",
     "text": [
      "Scraping Stations:  26%|██▌       | 542/2082 [1:44:59<9:40:48, 22.63s/station]"
     ]
    },
    {
     "name": "stdout",
     "output_type": "stream",
     "text": [
      "Saved data for station 313000 to stations/station_313000.csv\n"
     ]
    },
    {
     "name": "stderr",
     "output_type": "stream",
     "text": [
      "Scraping Stations:  26%|██▌       | 543/2082 [1:45:14<8:35:52, 20.11s/station]"
     ]
    },
    {
     "name": "stdout",
     "output_type": "stream",
     "text": [
      "Saved data for station 350260 to stations/station_350260.csv\n"
     ]
    },
    {
     "name": "stderr",
     "output_type": "stream",
     "text": [
      "Scraping Stations:  26%|██▌       | 544/2082 [1:45:26<7:39:30, 17.93s/station]"
     ]
    },
    {
     "name": "stdout",
     "output_type": "stream",
     "text": [
      "Saved data for station 306690 to stations/station_306690.csv\n"
     ]
    },
    {
     "name": "stderr",
     "output_type": "stream",
     "text": [
      "Scraping Stations:  26%|██▌       | 545/2082 [1:45:38<6:53:41, 16.15s/station]"
     ]
    },
    {
     "name": "stdout",
     "output_type": "stream",
     "text": [
      "Saved data for station 306030 to stations/station_306030.csv\n"
     ]
    },
    {
     "name": "stderr",
     "output_type": "stream",
     "text": [
      "Scraping Stations:  26%|██▌       | 546/2082 [1:45:51<6:22:38, 14.95s/station]"
     ]
    },
    {
     "name": "stdout",
     "output_type": "stream",
     "text": [
      "Saved data for station 224460 to stations/station_224460.csv\n"
     ]
    },
    {
     "name": "stderr",
     "output_type": "stream",
     "text": [
      "Scraping Stations:  26%|██▋       | 547/2082 [1:46:01<5:48:39, 13.63s/station]"
     ]
    },
    {
     "name": "stdout",
     "output_type": "stream",
     "text": [
      "Saved data for station 347430 to stations/station_347430.csv\n"
     ]
    },
    {
     "name": "stderr",
     "output_type": "stream",
     "text": [
      "Scraping Stations:  26%|██▋       | 548/2082 [1:46:12<5:24:38, 12.70s/station]"
     ]
    },
    {
     "name": "stdout",
     "output_type": "stream",
     "text": [
      "No records in a given period.\n"
     ]
    },
    {
     "name": "stderr",
     "output_type": "stream",
     "text": [
      "Scraping Stations:  26%|██▋       | 549/2082 [1:46:24<5:18:02, 12.45s/station]"
     ]
    },
    {
     "name": "stdout",
     "output_type": "stream",
     "text": [
      "No records in a given period.\n"
     ]
    },
    {
     "name": "stderr",
     "output_type": "stream",
     "text": [
      "Scraping Stations:  26%|██▋       | 549/2082 [1:46:45<4:58:07, 11.67s/station]\n"
     ]
    },
    {
     "ename": "ConnectionError",
     "evalue": "HTTPConnectionPool(host='pogoda-service.ru', port=80): Max retries exceeded with url: /archive_gsod_res.php?country=RS&station=360380&datepicker_beg=09.01.2024&datepicker_end=31.12.2024 (Caused by NewConnectionError('<urllib3.connection.HTTPConnection object at 0x0000020D390429E0>: Failed to establish a new connection: [WinError 10053] Программа на вашем хост-компьютере разорвала установленное подключение'))",
     "output_type": "error",
     "traceback": [
      "\u001b[1;31m---------------------------------------------------------------------------\u001b[0m",
      "\u001b[1;31mConnectionAbortedError\u001b[0m                    Traceback (most recent call last)",
      "File \u001b[1;32mc:\\Users\\user\\AppData\\Local\\Programs\\Python\\Python310\\lib\\site-packages\\urllib3\\connection.py:199\u001b[0m, in \u001b[0;36mHTTPConnection._new_conn\u001b[1;34m(self)\u001b[0m\n\u001b[0;32m    198\u001b[0m \u001b[38;5;28;01mtry\u001b[39;00m:\n\u001b[1;32m--> 199\u001b[0m     sock \u001b[38;5;241m=\u001b[39m \u001b[43mconnection\u001b[49m\u001b[38;5;241;43m.\u001b[39;49m\u001b[43mcreate_connection\u001b[49m\u001b[43m(\u001b[49m\n\u001b[0;32m    200\u001b[0m \u001b[43m        \u001b[49m\u001b[43m(\u001b[49m\u001b[38;5;28;43mself\u001b[39;49m\u001b[38;5;241;43m.\u001b[39;49m\u001b[43m_dns_host\u001b[49m\u001b[43m,\u001b[49m\u001b[43m \u001b[49m\u001b[38;5;28;43mself\u001b[39;49m\u001b[38;5;241;43m.\u001b[39;49m\u001b[43mport\u001b[49m\u001b[43m)\u001b[49m\u001b[43m,\u001b[49m\n\u001b[0;32m    201\u001b[0m \u001b[43m        \u001b[49m\u001b[38;5;28;43mself\u001b[39;49m\u001b[38;5;241;43m.\u001b[39;49m\u001b[43mtimeout\u001b[49m\u001b[43m,\u001b[49m\n\u001b[0;32m    202\u001b[0m \u001b[43m        \u001b[49m\u001b[43msource_address\u001b[49m\u001b[38;5;241;43m=\u001b[39;49m\u001b[38;5;28;43mself\u001b[39;49m\u001b[38;5;241;43m.\u001b[39;49m\u001b[43msource_address\u001b[49m\u001b[43m,\u001b[49m\n\u001b[0;32m    203\u001b[0m \u001b[43m        \u001b[49m\u001b[43msocket_options\u001b[49m\u001b[38;5;241;43m=\u001b[39;49m\u001b[38;5;28;43mself\u001b[39;49m\u001b[38;5;241;43m.\u001b[39;49m\u001b[43msocket_options\u001b[49m\u001b[43m,\u001b[49m\n\u001b[0;32m    204\u001b[0m \u001b[43m    \u001b[49m\u001b[43m)\u001b[49m\n\u001b[0;32m    205\u001b[0m \u001b[38;5;28;01mexcept\u001b[39;00m socket\u001b[38;5;241m.\u001b[39mgaierror \u001b[38;5;28;01mas\u001b[39;00m e:\n",
      "File \u001b[1;32mc:\\Users\\user\\AppData\\Local\\Programs\\Python\\Python310\\lib\\site-packages\\urllib3\\util\\connection.py:85\u001b[0m, in \u001b[0;36mcreate_connection\u001b[1;34m(address, timeout, source_address, socket_options)\u001b[0m\n\u001b[0;32m     84\u001b[0m \u001b[38;5;28;01mtry\u001b[39;00m:\n\u001b[1;32m---> 85\u001b[0m     \u001b[38;5;28;01mraise\u001b[39;00m err\n\u001b[0;32m     86\u001b[0m \u001b[38;5;28;01mfinally\u001b[39;00m:\n\u001b[0;32m     87\u001b[0m     \u001b[38;5;66;03m# Break explicitly a reference cycle\u001b[39;00m\n",
      "File \u001b[1;32mc:\\Users\\user\\AppData\\Local\\Programs\\Python\\Python310\\lib\\site-packages\\urllib3\\util\\connection.py:73\u001b[0m, in \u001b[0;36mcreate_connection\u001b[1;34m(address, timeout, source_address, socket_options)\u001b[0m\n\u001b[0;32m     72\u001b[0m     sock\u001b[38;5;241m.\u001b[39mbind(source_address)\n\u001b[1;32m---> 73\u001b[0m \u001b[43msock\u001b[49m\u001b[38;5;241;43m.\u001b[39;49m\u001b[43mconnect\u001b[49m\u001b[43m(\u001b[49m\u001b[43msa\u001b[49m\u001b[43m)\u001b[49m\n\u001b[0;32m     74\u001b[0m \u001b[38;5;66;03m# Break explicitly a reference cycle\u001b[39;00m\n",
      "\u001b[1;31mConnectionAbortedError\u001b[0m: [WinError 10053] Программа на вашем хост-компьютере разорвала установленное подключение",
      "\nThe above exception was the direct cause of the following exception:\n",
      "\u001b[1;31mNewConnectionError\u001b[0m                        Traceback (most recent call last)",
      "File \u001b[1;32mc:\\Users\\user\\AppData\\Local\\Programs\\Python\\Python310\\lib\\site-packages\\urllib3\\connectionpool.py:789\u001b[0m, in \u001b[0;36mHTTPConnectionPool.urlopen\u001b[1;34m(self, method, url, body, headers, retries, redirect, assert_same_host, timeout, pool_timeout, release_conn, chunked, body_pos, preload_content, decode_content, **response_kw)\u001b[0m\n\u001b[0;32m    788\u001b[0m \u001b[38;5;66;03m# Make the request on the HTTPConnection object\u001b[39;00m\n\u001b[1;32m--> 789\u001b[0m response \u001b[38;5;241m=\u001b[39m \u001b[38;5;28mself\u001b[39m\u001b[38;5;241m.\u001b[39m_make_request(\n\u001b[0;32m    790\u001b[0m     conn,\n\u001b[0;32m    791\u001b[0m     method,\n\u001b[0;32m    792\u001b[0m     url,\n\u001b[0;32m    793\u001b[0m     timeout\u001b[38;5;241m=\u001b[39mtimeout_obj,\n\u001b[0;32m    794\u001b[0m     body\u001b[38;5;241m=\u001b[39mbody,\n\u001b[0;32m    795\u001b[0m     headers\u001b[38;5;241m=\u001b[39mheaders,\n\u001b[0;32m    796\u001b[0m     chunked\u001b[38;5;241m=\u001b[39mchunked,\n\u001b[0;32m    797\u001b[0m     retries\u001b[38;5;241m=\u001b[39mretries,\n\u001b[0;32m    798\u001b[0m     response_conn\u001b[38;5;241m=\u001b[39mresponse_conn,\n\u001b[0;32m    799\u001b[0m     preload_content\u001b[38;5;241m=\u001b[39mpreload_content,\n\u001b[0;32m    800\u001b[0m     decode_content\u001b[38;5;241m=\u001b[39mdecode_content,\n\u001b[0;32m    801\u001b[0m     \u001b[38;5;241m*\u001b[39m\u001b[38;5;241m*\u001b[39mresponse_kw,\n\u001b[0;32m    802\u001b[0m )\n\u001b[0;32m    804\u001b[0m \u001b[38;5;66;03m# Everything went great!\u001b[39;00m\n",
      "File \u001b[1;32mc:\\Users\\user\\AppData\\Local\\Programs\\Python\\Python310\\lib\\site-packages\\urllib3\\connectionpool.py:495\u001b[0m, in \u001b[0;36mHTTPConnectionPool._make_request\u001b[1;34m(self, conn, method, url, body, headers, retries, timeout, chunked, response_conn, preload_content, decode_content, enforce_content_length)\u001b[0m\n\u001b[0;32m    494\u001b[0m \u001b[38;5;28;01mtry\u001b[39;00m:\n\u001b[1;32m--> 495\u001b[0m     \u001b[43mconn\u001b[49m\u001b[38;5;241;43m.\u001b[39;49m\u001b[43mrequest\u001b[49m\u001b[43m(\u001b[49m\n\u001b[0;32m    496\u001b[0m \u001b[43m        \u001b[49m\u001b[43mmethod\u001b[49m\u001b[43m,\u001b[49m\n\u001b[0;32m    497\u001b[0m \u001b[43m        \u001b[49m\u001b[43murl\u001b[49m\u001b[43m,\u001b[49m\n\u001b[0;32m    498\u001b[0m \u001b[43m        \u001b[49m\u001b[43mbody\u001b[49m\u001b[38;5;241;43m=\u001b[39;49m\u001b[43mbody\u001b[49m\u001b[43m,\u001b[49m\n\u001b[0;32m    499\u001b[0m \u001b[43m        \u001b[49m\u001b[43mheaders\u001b[49m\u001b[38;5;241;43m=\u001b[39;49m\u001b[43mheaders\u001b[49m\u001b[43m,\u001b[49m\n\u001b[0;32m    500\u001b[0m \u001b[43m        \u001b[49m\u001b[43mchunked\u001b[49m\u001b[38;5;241;43m=\u001b[39;49m\u001b[43mchunked\u001b[49m\u001b[43m,\u001b[49m\n\u001b[0;32m    501\u001b[0m \u001b[43m        \u001b[49m\u001b[43mpreload_content\u001b[49m\u001b[38;5;241;43m=\u001b[39;49m\u001b[43mpreload_content\u001b[49m\u001b[43m,\u001b[49m\n\u001b[0;32m    502\u001b[0m \u001b[43m        \u001b[49m\u001b[43mdecode_content\u001b[49m\u001b[38;5;241;43m=\u001b[39;49m\u001b[43mdecode_content\u001b[49m\u001b[43m,\u001b[49m\n\u001b[0;32m    503\u001b[0m \u001b[43m        \u001b[49m\u001b[43menforce_content_length\u001b[49m\u001b[38;5;241;43m=\u001b[39;49m\u001b[43menforce_content_length\u001b[49m\u001b[43m,\u001b[49m\n\u001b[0;32m    504\u001b[0m \u001b[43m    \u001b[49m\u001b[43m)\u001b[49m\n\u001b[0;32m    506\u001b[0m \u001b[38;5;66;03m# We are swallowing BrokenPipeError (errno.EPIPE) since the server is\u001b[39;00m\n\u001b[0;32m    507\u001b[0m \u001b[38;5;66;03m# legitimately able to close the connection after sending a valid response.\u001b[39;00m\n\u001b[0;32m    508\u001b[0m \u001b[38;5;66;03m# With this behaviour, the received response is still readable.\u001b[39;00m\n",
      "File \u001b[1;32mc:\\Users\\user\\AppData\\Local\\Programs\\Python\\Python310\\lib\\site-packages\\urllib3\\connection.py:441\u001b[0m, in \u001b[0;36mHTTPConnection.request\u001b[1;34m(self, method, url, body, headers, chunked, preload_content, decode_content, enforce_content_length)\u001b[0m\n\u001b[0;32m    440\u001b[0m     \u001b[38;5;28mself\u001b[39m\u001b[38;5;241m.\u001b[39mputheader(header, value)\n\u001b[1;32m--> 441\u001b[0m \u001b[38;5;28;43mself\u001b[39;49m\u001b[38;5;241;43m.\u001b[39;49m\u001b[43mendheaders\u001b[49m\u001b[43m(\u001b[49m\u001b[43m)\u001b[49m\n\u001b[0;32m    443\u001b[0m \u001b[38;5;66;03m# If we're given a body we start sending that in chunks.\u001b[39;00m\n",
      "File \u001b[1;32mc:\\Users\\user\\AppData\\Local\\Programs\\Python\\Python310\\lib\\http\\client.py:1271\u001b[0m, in \u001b[0;36mHTTPConnection.endheaders\u001b[1;34m(self, message_body, encode_chunked)\u001b[0m\n\u001b[0;32m   1270\u001b[0m     \u001b[38;5;28;01mraise\u001b[39;00m CannotSendHeader()\n\u001b[1;32m-> 1271\u001b[0m \u001b[38;5;28;43mself\u001b[39;49m\u001b[38;5;241;43m.\u001b[39;49m\u001b[43m_send_output\u001b[49m\u001b[43m(\u001b[49m\u001b[43mmessage_body\u001b[49m\u001b[43m,\u001b[49m\u001b[43m \u001b[49m\u001b[43mencode_chunked\u001b[49m\u001b[38;5;241;43m=\u001b[39;49m\u001b[43mencode_chunked\u001b[49m\u001b[43m)\u001b[49m\n",
      "File \u001b[1;32mc:\\Users\\user\\AppData\\Local\\Programs\\Python\\Python310\\lib\\http\\client.py:1031\u001b[0m, in \u001b[0;36mHTTPConnection._send_output\u001b[1;34m(self, message_body, encode_chunked)\u001b[0m\n\u001b[0;32m   1030\u001b[0m \u001b[38;5;28;01mdel\u001b[39;00m \u001b[38;5;28mself\u001b[39m\u001b[38;5;241m.\u001b[39m_buffer[:]\n\u001b[1;32m-> 1031\u001b[0m \u001b[38;5;28;43mself\u001b[39;49m\u001b[38;5;241;43m.\u001b[39;49m\u001b[43msend\u001b[49m\u001b[43m(\u001b[49m\u001b[43mmsg\u001b[49m\u001b[43m)\u001b[49m\n\u001b[0;32m   1033\u001b[0m \u001b[38;5;28;01mif\u001b[39;00m message_body \u001b[38;5;129;01mis\u001b[39;00m \u001b[38;5;129;01mnot\u001b[39;00m \u001b[38;5;28;01mNone\u001b[39;00m:\n\u001b[0;32m   1034\u001b[0m \n\u001b[0;32m   1035\u001b[0m     \u001b[38;5;66;03m# create a consistent interface to message_body\u001b[39;00m\n",
      "File \u001b[1;32mc:\\Users\\user\\AppData\\Local\\Programs\\Python\\Python310\\lib\\http\\client.py:969\u001b[0m, in \u001b[0;36mHTTPConnection.send\u001b[1;34m(self, data)\u001b[0m\n\u001b[0;32m    968\u001b[0m \u001b[38;5;28;01mif\u001b[39;00m \u001b[38;5;28mself\u001b[39m\u001b[38;5;241m.\u001b[39mauto_open:\n\u001b[1;32m--> 969\u001b[0m     \u001b[38;5;28;43mself\u001b[39;49m\u001b[38;5;241;43m.\u001b[39;49m\u001b[43mconnect\u001b[49m\u001b[43m(\u001b[49m\u001b[43m)\u001b[49m\n\u001b[0;32m    970\u001b[0m \u001b[38;5;28;01melse\u001b[39;00m:\n",
      "File \u001b[1;32mc:\\Users\\user\\AppData\\Local\\Programs\\Python\\Python310\\lib\\site-packages\\urllib3\\connection.py:279\u001b[0m, in \u001b[0;36mHTTPConnection.connect\u001b[1;34m(self)\u001b[0m\n\u001b[0;32m    278\u001b[0m \u001b[38;5;28;01mdef\u001b[39;00m \u001b[38;5;21mconnect\u001b[39m(\u001b[38;5;28mself\u001b[39m) \u001b[38;5;241m-\u001b[39m\u001b[38;5;241m>\u001b[39m \u001b[38;5;28;01mNone\u001b[39;00m:\n\u001b[1;32m--> 279\u001b[0m     \u001b[38;5;28mself\u001b[39m\u001b[38;5;241m.\u001b[39msock \u001b[38;5;241m=\u001b[39m \u001b[38;5;28;43mself\u001b[39;49m\u001b[38;5;241;43m.\u001b[39;49m\u001b[43m_new_conn\u001b[49m\u001b[43m(\u001b[49m\u001b[43m)\u001b[49m\n\u001b[0;32m    280\u001b[0m     \u001b[38;5;28;01mif\u001b[39;00m \u001b[38;5;28mself\u001b[39m\u001b[38;5;241m.\u001b[39m_tunnel_host:\n\u001b[0;32m    281\u001b[0m         \u001b[38;5;66;03m# If we're tunneling it means we're connected to our proxy.\u001b[39;00m\n",
      "File \u001b[1;32mc:\\Users\\user\\AppData\\Local\\Programs\\Python\\Python310\\lib\\site-packages\\urllib3\\connection.py:214\u001b[0m, in \u001b[0;36mHTTPConnection._new_conn\u001b[1;34m(self)\u001b[0m\n\u001b[0;32m    213\u001b[0m \u001b[38;5;28;01mexcept\u001b[39;00m \u001b[38;5;167;01mOSError\u001b[39;00m \u001b[38;5;28;01mas\u001b[39;00m e:\n\u001b[1;32m--> 214\u001b[0m     \u001b[38;5;28;01mraise\u001b[39;00m NewConnectionError(\n\u001b[0;32m    215\u001b[0m         \u001b[38;5;28mself\u001b[39m, \u001b[38;5;124mf\u001b[39m\u001b[38;5;124m\"\u001b[39m\u001b[38;5;124mFailed to establish a new connection: \u001b[39m\u001b[38;5;132;01m{\u001b[39;00me\u001b[38;5;132;01m}\u001b[39;00m\u001b[38;5;124m\"\u001b[39m\n\u001b[0;32m    216\u001b[0m     ) \u001b[38;5;28;01mfrom\u001b[39;00m \u001b[38;5;21;01me\u001b[39;00m\n\u001b[0;32m    218\u001b[0m \u001b[38;5;66;03m# Audit hooks are only available in Python 3.8+\u001b[39;00m\n",
      "\u001b[1;31mNewConnectionError\u001b[0m: <urllib3.connection.HTTPConnection object at 0x0000020D390429E0>: Failed to establish a new connection: [WinError 10053] Программа на вашем хост-компьютере разорвала установленное подключение",
      "\nThe above exception was the direct cause of the following exception:\n",
      "\u001b[1;31mMaxRetryError\u001b[0m                             Traceback (most recent call last)",
      "File \u001b[1;32mc:\\Users\\user\\AppData\\Local\\Programs\\Python\\Python310\\lib\\site-packages\\requests\\adapters.py:667\u001b[0m, in \u001b[0;36mHTTPAdapter.send\u001b[1;34m(self, request, stream, timeout, verify, cert, proxies)\u001b[0m\n\u001b[0;32m    666\u001b[0m \u001b[38;5;28;01mtry\u001b[39;00m:\n\u001b[1;32m--> 667\u001b[0m     resp \u001b[38;5;241m=\u001b[39m \u001b[43mconn\u001b[49m\u001b[38;5;241;43m.\u001b[39;49m\u001b[43murlopen\u001b[49m\u001b[43m(\u001b[49m\n\u001b[0;32m    668\u001b[0m \u001b[43m        \u001b[49m\u001b[43mmethod\u001b[49m\u001b[38;5;241;43m=\u001b[39;49m\u001b[43mrequest\u001b[49m\u001b[38;5;241;43m.\u001b[39;49m\u001b[43mmethod\u001b[49m\u001b[43m,\u001b[49m\n\u001b[0;32m    669\u001b[0m \u001b[43m        \u001b[49m\u001b[43murl\u001b[49m\u001b[38;5;241;43m=\u001b[39;49m\u001b[43murl\u001b[49m\u001b[43m,\u001b[49m\n\u001b[0;32m    670\u001b[0m \u001b[43m        \u001b[49m\u001b[43mbody\u001b[49m\u001b[38;5;241;43m=\u001b[39;49m\u001b[43mrequest\u001b[49m\u001b[38;5;241;43m.\u001b[39;49m\u001b[43mbody\u001b[49m\u001b[43m,\u001b[49m\n\u001b[0;32m    671\u001b[0m \u001b[43m        \u001b[49m\u001b[43mheaders\u001b[49m\u001b[38;5;241;43m=\u001b[39;49m\u001b[43mrequest\u001b[49m\u001b[38;5;241;43m.\u001b[39;49m\u001b[43mheaders\u001b[49m\u001b[43m,\u001b[49m\n\u001b[0;32m    672\u001b[0m \u001b[43m        \u001b[49m\u001b[43mredirect\u001b[49m\u001b[38;5;241;43m=\u001b[39;49m\u001b[38;5;28;43;01mFalse\u001b[39;49;00m\u001b[43m,\u001b[49m\n\u001b[0;32m    673\u001b[0m \u001b[43m        \u001b[49m\u001b[43massert_same_host\u001b[49m\u001b[38;5;241;43m=\u001b[39;49m\u001b[38;5;28;43;01mFalse\u001b[39;49;00m\u001b[43m,\u001b[49m\n\u001b[0;32m    674\u001b[0m \u001b[43m        \u001b[49m\u001b[43mpreload_content\u001b[49m\u001b[38;5;241;43m=\u001b[39;49m\u001b[38;5;28;43;01mFalse\u001b[39;49;00m\u001b[43m,\u001b[49m\n\u001b[0;32m    675\u001b[0m \u001b[43m        \u001b[49m\u001b[43mdecode_content\u001b[49m\u001b[38;5;241;43m=\u001b[39;49m\u001b[38;5;28;43;01mFalse\u001b[39;49;00m\u001b[43m,\u001b[49m\n\u001b[0;32m    676\u001b[0m \u001b[43m        \u001b[49m\u001b[43mretries\u001b[49m\u001b[38;5;241;43m=\u001b[39;49m\u001b[38;5;28;43mself\u001b[39;49m\u001b[38;5;241;43m.\u001b[39;49m\u001b[43mmax_retries\u001b[49m\u001b[43m,\u001b[49m\n\u001b[0;32m    677\u001b[0m \u001b[43m        \u001b[49m\u001b[43mtimeout\u001b[49m\u001b[38;5;241;43m=\u001b[39;49m\u001b[43mtimeout\u001b[49m\u001b[43m,\u001b[49m\n\u001b[0;32m    678\u001b[0m \u001b[43m        \u001b[49m\u001b[43mchunked\u001b[49m\u001b[38;5;241;43m=\u001b[39;49m\u001b[43mchunked\u001b[49m\u001b[43m,\u001b[49m\n\u001b[0;32m    679\u001b[0m \u001b[43m    \u001b[49m\u001b[43m)\u001b[49m\n\u001b[0;32m    681\u001b[0m \u001b[38;5;28;01mexcept\u001b[39;00m (ProtocolError, \u001b[38;5;167;01mOSError\u001b[39;00m) \u001b[38;5;28;01mas\u001b[39;00m err:\n",
      "File \u001b[1;32mc:\\Users\\user\\AppData\\Local\\Programs\\Python\\Python310\\lib\\site-packages\\urllib3\\connectionpool.py:843\u001b[0m, in \u001b[0;36mHTTPConnectionPool.urlopen\u001b[1;34m(self, method, url, body, headers, retries, redirect, assert_same_host, timeout, pool_timeout, release_conn, chunked, body_pos, preload_content, decode_content, **response_kw)\u001b[0m\n\u001b[0;32m    841\u001b[0m     new_e \u001b[38;5;241m=\u001b[39m ProtocolError(\u001b[38;5;124m\"\u001b[39m\u001b[38;5;124mConnection aborted.\u001b[39m\u001b[38;5;124m\"\u001b[39m, new_e)\n\u001b[1;32m--> 843\u001b[0m retries \u001b[38;5;241m=\u001b[39m \u001b[43mretries\u001b[49m\u001b[38;5;241;43m.\u001b[39;49m\u001b[43mincrement\u001b[49m\u001b[43m(\u001b[49m\n\u001b[0;32m    844\u001b[0m \u001b[43m    \u001b[49m\u001b[43mmethod\u001b[49m\u001b[43m,\u001b[49m\u001b[43m \u001b[49m\u001b[43murl\u001b[49m\u001b[43m,\u001b[49m\u001b[43m \u001b[49m\u001b[43merror\u001b[49m\u001b[38;5;241;43m=\u001b[39;49m\u001b[43mnew_e\u001b[49m\u001b[43m,\u001b[49m\u001b[43m \u001b[49m\u001b[43m_pool\u001b[49m\u001b[38;5;241;43m=\u001b[39;49m\u001b[38;5;28;43mself\u001b[39;49m\u001b[43m,\u001b[49m\u001b[43m \u001b[49m\u001b[43m_stacktrace\u001b[49m\u001b[38;5;241;43m=\u001b[39;49m\u001b[43msys\u001b[49m\u001b[38;5;241;43m.\u001b[39;49m\u001b[43mexc_info\u001b[49m\u001b[43m(\u001b[49m\u001b[43m)\u001b[49m\u001b[43m[\u001b[49m\u001b[38;5;241;43m2\u001b[39;49m\u001b[43m]\u001b[49m\n\u001b[0;32m    845\u001b[0m \u001b[43m\u001b[49m\u001b[43m)\u001b[49m\n\u001b[0;32m    846\u001b[0m retries\u001b[38;5;241m.\u001b[39msleep()\n",
      "File \u001b[1;32mc:\\Users\\user\\AppData\\Local\\Programs\\Python\\Python310\\lib\\site-packages\\urllib3\\util\\retry.py:519\u001b[0m, in \u001b[0;36mRetry.increment\u001b[1;34m(self, method, url, response, error, _pool, _stacktrace)\u001b[0m\n\u001b[0;32m    518\u001b[0m     reason \u001b[38;5;241m=\u001b[39m error \u001b[38;5;129;01mor\u001b[39;00m ResponseError(cause)\n\u001b[1;32m--> 519\u001b[0m     \u001b[38;5;28;01mraise\u001b[39;00m MaxRetryError(_pool, url, reason) \u001b[38;5;28;01mfrom\u001b[39;00m \u001b[38;5;21;01mreason\u001b[39;00m  \u001b[38;5;66;03m# type: ignore[arg-type]\u001b[39;00m\n\u001b[0;32m    521\u001b[0m log\u001b[38;5;241m.\u001b[39mdebug(\u001b[38;5;124m\"\u001b[39m\u001b[38;5;124mIncremented Retry for (url=\u001b[39m\u001b[38;5;124m'\u001b[39m\u001b[38;5;132;01m%s\u001b[39;00m\u001b[38;5;124m'\u001b[39m\u001b[38;5;124m): \u001b[39m\u001b[38;5;132;01m%r\u001b[39;00m\u001b[38;5;124m\"\u001b[39m, url, new_retry)\n",
      "\u001b[1;31mMaxRetryError\u001b[0m: HTTPConnectionPool(host='pogoda-service.ru', port=80): Max retries exceeded with url: /archive_gsod_res.php?country=RS&station=360380&datepicker_beg=09.01.2024&datepicker_end=31.12.2024 (Caused by NewConnectionError('<urllib3.connection.HTTPConnection object at 0x0000020D390429E0>: Failed to establish a new connection: [WinError 10053] Программа на вашем хост-компьютере разорвала установленное подключение'))",
      "\nDuring handling of the above exception, another exception occurred:\n",
      "\u001b[1;31mConnectionError\u001b[0m                           Traceback (most recent call last)",
      "Cell \u001b[1;32mIn[20], line 99\u001b[0m\n\u001b[0;32m     96\u001b[0m             tqdm\u001b[38;5;241m.\u001b[39mwrite(\u001b[38;5;124m\"\u001b[39m\u001b[38;5;124mNo records in a given period.\u001b[39m\u001b[38;5;124m\"\u001b[39m)\n\u001b[0;32m     98\u001b[0m \u001b[38;5;66;03m# Run the scraping\u001b[39;00m\n\u001b[1;32m---> 99\u001b[0m \u001b[43mscrape_weather_data\u001b[49m\u001b[43m(\u001b[49m\u001b[43mcountry\u001b[49m\u001b[43m,\u001b[49m\u001b[43m \u001b[49m\u001b[43mstation_ids\u001b[49m\u001b[43m)\u001b[49m\n",
      "Cell \u001b[1;32mIn[20], line 89\u001b[0m, in \u001b[0;36mscrape_weather_data\u001b[1;34m(country, station_ids)\u001b[0m\n\u001b[0;32m     87\u001b[0m \u001b[38;5;66;03m# Progress bar for date ranges\u001b[39;00m\n\u001b[0;32m     88\u001b[0m \u001b[38;5;28;01mfor\u001b[39;00m start_date, next_date \u001b[38;5;129;01min\u001b[39;00m tqdm(date_range, desc\u001b[38;5;241m=\u001b[39m\u001b[38;5;124mf\u001b[39m\u001b[38;5;124m\"\u001b[39m\u001b[38;5;124mFetching \u001b[39m\u001b[38;5;132;01m{\u001b[39;00mstation_id\u001b[38;5;132;01m}\u001b[39;00m\u001b[38;5;124m\"\u001b[39m, unit\u001b[38;5;241m=\u001b[39m\u001b[38;5;124m\"\u001b[39m\u001b[38;5;124myear\u001b[39m\u001b[38;5;124m\"\u001b[39m, leave\u001b[38;5;241m=\u001b[39m\u001b[38;5;28;01mFalse\u001b[39;00m):\n\u001b[1;32m---> 89\u001b[0m     data \u001b[38;5;241m=\u001b[39m \u001b[43mfetch_weather_data\u001b[49m\u001b[43m(\u001b[49m\u001b[43mcountry\u001b[49m\u001b[43m,\u001b[49m\u001b[43m \u001b[49m\u001b[43mstation_id\u001b[49m\u001b[43m,\u001b[49m\u001b[43m \u001b[49m\u001b[43mstart_date\u001b[49m\u001b[43m,\u001b[49m\u001b[43m \u001b[49m\u001b[43mnext_date\u001b[49m\u001b[43m)\u001b[49m\n\u001b[0;32m     90\u001b[0m     all_data\u001b[38;5;241m.\u001b[39mextend(data)\n\u001b[0;32m     91\u001b[0m     time\u001b[38;5;241m.\u001b[39msleep(\u001b[38;5;241m0.5\u001b[39m)  \u001b[38;5;66;03m# avoid spam\u001b[39;00m\n",
      "Cell \u001b[1;32mIn[20], line 25\u001b[0m, in \u001b[0;36mfetch_weather_data\u001b[1;34m(country, station_id, start_date, end_date)\u001b[0m\n\u001b[0;32m     18\u001b[0m \u001b[38;5;250m\u001b[39m\u001b[38;5;124;03m\"\"\"Fetch weather data for a station between two dates.\"\"\"\u001b[39;00m\n\u001b[0;32m     19\u001b[0m params \u001b[38;5;241m=\u001b[39m {\n\u001b[0;32m     20\u001b[0m     \u001b[38;5;124m\"\u001b[39m\u001b[38;5;124mcountry\u001b[39m\u001b[38;5;124m\"\u001b[39m: country,\n\u001b[0;32m     21\u001b[0m     \u001b[38;5;124m\"\u001b[39m\u001b[38;5;124mstation\u001b[39m\u001b[38;5;124m\"\u001b[39m: station_id,\n\u001b[0;32m     22\u001b[0m     \u001b[38;5;124m\"\u001b[39m\u001b[38;5;124mdatepicker_beg\u001b[39m\u001b[38;5;124m\"\u001b[39m: start_date\u001b[38;5;241m.\u001b[39mstrftime(\u001b[38;5;124m\"\u001b[39m\u001b[38;5;132;01m%d\u001b[39;00m\u001b[38;5;124m.\u001b[39m\u001b[38;5;124m%\u001b[39m\u001b[38;5;124mm.\u001b[39m\u001b[38;5;124m%\u001b[39m\u001b[38;5;124mY\u001b[39m\u001b[38;5;124m\"\u001b[39m),\n\u001b[0;32m     23\u001b[0m     \u001b[38;5;124m\"\u001b[39m\u001b[38;5;124mdatepicker_end\u001b[39m\u001b[38;5;124m\"\u001b[39m: end_date\u001b[38;5;241m.\u001b[39mstrftime(\u001b[38;5;124m\"\u001b[39m\u001b[38;5;132;01m%d\u001b[39;00m\u001b[38;5;124m.\u001b[39m\u001b[38;5;124m%\u001b[39m\u001b[38;5;124mm.\u001b[39m\u001b[38;5;124m%\u001b[39m\u001b[38;5;124mY\u001b[39m\u001b[38;5;124m\"\u001b[39m),\n\u001b[0;32m     24\u001b[0m }\n\u001b[1;32m---> 25\u001b[0m response \u001b[38;5;241m=\u001b[39m \u001b[43mrequests\u001b[49m\u001b[38;5;241;43m.\u001b[39;49m\u001b[43mget\u001b[49m\u001b[43m(\u001b[49m\u001b[43mBASE_URL\u001b[49m\u001b[43m,\u001b[49m\u001b[43m \u001b[49m\u001b[43mparams\u001b[49m\u001b[38;5;241;43m=\u001b[39;49m\u001b[43mparams\u001b[49m\u001b[43m)\u001b[49m\n\u001b[0;32m     27\u001b[0m \u001b[38;5;28;01mif\u001b[39;00m response\u001b[38;5;241m.\u001b[39mstatus_code \u001b[38;5;241m==\u001b[39m \u001b[38;5;241m200\u001b[39m:\n\u001b[0;32m     28\u001b[0m     soup \u001b[38;5;241m=\u001b[39m BeautifulSoup(response\u001b[38;5;241m.\u001b[39mtext, \u001b[38;5;124m\"\u001b[39m\u001b[38;5;124mhtml.parser\u001b[39m\u001b[38;5;124m\"\u001b[39m)\n",
      "File \u001b[1;32mc:\\Users\\user\\AppData\\Local\\Programs\\Python\\Python310\\lib\\site-packages\\requests\\api.py:73\u001b[0m, in \u001b[0;36mget\u001b[1;34m(url, params, **kwargs)\u001b[0m\n\u001b[0;32m     62\u001b[0m \u001b[38;5;28;01mdef\u001b[39;00m \u001b[38;5;21mget\u001b[39m(url, params\u001b[38;5;241m=\u001b[39m\u001b[38;5;28;01mNone\u001b[39;00m, \u001b[38;5;241m*\u001b[39m\u001b[38;5;241m*\u001b[39mkwargs):\n\u001b[0;32m     63\u001b[0m \u001b[38;5;250m    \u001b[39m\u001b[38;5;124mr\u001b[39m\u001b[38;5;124;03m\"\"\"Sends a GET request.\u001b[39;00m\n\u001b[0;32m     64\u001b[0m \n\u001b[0;32m     65\u001b[0m \u001b[38;5;124;03m    :param url: URL for the new :class:`Request` object.\u001b[39;00m\n\u001b[1;32m   (...)\u001b[0m\n\u001b[0;32m     70\u001b[0m \u001b[38;5;124;03m    :rtype: requests.Response\u001b[39;00m\n\u001b[0;32m     71\u001b[0m \u001b[38;5;124;03m    \"\"\"\u001b[39;00m\n\u001b[1;32m---> 73\u001b[0m     \u001b[38;5;28;01mreturn\u001b[39;00m request(\u001b[38;5;124m\"\u001b[39m\u001b[38;5;124mget\u001b[39m\u001b[38;5;124m\"\u001b[39m, url, params\u001b[38;5;241m=\u001b[39mparams, \u001b[38;5;241m*\u001b[39m\u001b[38;5;241m*\u001b[39mkwargs)\n",
      "File \u001b[1;32mc:\\Users\\user\\AppData\\Local\\Programs\\Python\\Python310\\lib\\site-packages\\requests\\api.py:59\u001b[0m, in \u001b[0;36mrequest\u001b[1;34m(method, url, **kwargs)\u001b[0m\n\u001b[0;32m     55\u001b[0m \u001b[38;5;66;03m# By using the 'with' statement we are sure the session is closed, thus we\u001b[39;00m\n\u001b[0;32m     56\u001b[0m \u001b[38;5;66;03m# avoid leaving sockets open which can trigger a ResourceWarning in some\u001b[39;00m\n\u001b[0;32m     57\u001b[0m \u001b[38;5;66;03m# cases, and look like a memory leak in others.\u001b[39;00m\n\u001b[0;32m     58\u001b[0m \u001b[38;5;28;01mwith\u001b[39;00m sessions\u001b[38;5;241m.\u001b[39mSession() \u001b[38;5;28;01mas\u001b[39;00m session:\n\u001b[1;32m---> 59\u001b[0m     \u001b[38;5;28;01mreturn\u001b[39;00m session\u001b[38;5;241m.\u001b[39mrequest(method\u001b[38;5;241m=\u001b[39mmethod, url\u001b[38;5;241m=\u001b[39murl, \u001b[38;5;241m*\u001b[39m\u001b[38;5;241m*\u001b[39mkwargs)\n",
      "File \u001b[1;32mc:\\Users\\user\\AppData\\Local\\Programs\\Python\\Python310\\lib\\site-packages\\requests\\sessions.py:589\u001b[0m, in \u001b[0;36mSession.request\u001b[1;34m(self, method, url, params, data, headers, cookies, files, auth, timeout, allow_redirects, proxies, hooks, stream, verify, cert, json)\u001b[0m\n\u001b[0;32m    584\u001b[0m send_kwargs \u001b[38;5;241m=\u001b[39m {\n\u001b[0;32m    585\u001b[0m     \u001b[38;5;124m\"\u001b[39m\u001b[38;5;124mtimeout\u001b[39m\u001b[38;5;124m\"\u001b[39m: timeout,\n\u001b[0;32m    586\u001b[0m     \u001b[38;5;124m\"\u001b[39m\u001b[38;5;124mallow_redirects\u001b[39m\u001b[38;5;124m\"\u001b[39m: allow_redirects,\n\u001b[0;32m    587\u001b[0m }\n\u001b[0;32m    588\u001b[0m send_kwargs\u001b[38;5;241m.\u001b[39mupdate(settings)\n\u001b[1;32m--> 589\u001b[0m resp \u001b[38;5;241m=\u001b[39m \u001b[38;5;28mself\u001b[39m\u001b[38;5;241m.\u001b[39msend(prep, \u001b[38;5;241m*\u001b[39m\u001b[38;5;241m*\u001b[39msend_kwargs)\n\u001b[0;32m    591\u001b[0m \u001b[38;5;28;01mreturn\u001b[39;00m resp\n",
      "File \u001b[1;32mc:\\Users\\user\\AppData\\Local\\Programs\\Python\\Python310\\lib\\site-packages\\requests\\sessions.py:703\u001b[0m, in \u001b[0;36mSession.send\u001b[1;34m(self, request, **kwargs)\u001b[0m\n\u001b[0;32m    700\u001b[0m start \u001b[38;5;241m=\u001b[39m preferred_clock()\n\u001b[0;32m    702\u001b[0m \u001b[38;5;66;03m# Send the request\u001b[39;00m\n\u001b[1;32m--> 703\u001b[0m r \u001b[38;5;241m=\u001b[39m adapter\u001b[38;5;241m.\u001b[39msend(request, \u001b[38;5;241m*\u001b[39m\u001b[38;5;241m*\u001b[39mkwargs)\n\u001b[0;32m    705\u001b[0m \u001b[38;5;66;03m# Total elapsed time of the request (approximately)\u001b[39;00m\n\u001b[0;32m    706\u001b[0m elapsed \u001b[38;5;241m=\u001b[39m preferred_clock() \u001b[38;5;241m-\u001b[39m start\n",
      "File \u001b[1;32mc:\\Users\\user\\AppData\\Local\\Programs\\Python\\Python310\\lib\\site-packages\\requests\\adapters.py:700\u001b[0m, in \u001b[0;36mHTTPAdapter.send\u001b[1;34m(self, request, stream, timeout, verify, cert, proxies)\u001b[0m\n\u001b[0;32m    696\u001b[0m     \u001b[38;5;28;01mif\u001b[39;00m \u001b[38;5;28misinstance\u001b[39m(e\u001b[38;5;241m.\u001b[39mreason, _SSLError):\n\u001b[0;32m    697\u001b[0m         \u001b[38;5;66;03m# This branch is for urllib3 v1.22 and later.\u001b[39;00m\n\u001b[0;32m    698\u001b[0m         \u001b[38;5;28;01mraise\u001b[39;00m SSLError(e, request\u001b[38;5;241m=\u001b[39mrequest)\n\u001b[1;32m--> 700\u001b[0m     \u001b[38;5;28;01mraise\u001b[39;00m \u001b[38;5;167;01mConnectionError\u001b[39;00m(e, request\u001b[38;5;241m=\u001b[39mrequest)\n\u001b[0;32m    702\u001b[0m \u001b[38;5;28;01mexcept\u001b[39;00m ClosedPoolError \u001b[38;5;28;01mas\u001b[39;00m e:\n\u001b[0;32m    703\u001b[0m     \u001b[38;5;28;01mraise\u001b[39;00m \u001b[38;5;167;01mConnectionError\u001b[39;00m(e, request\u001b[38;5;241m=\u001b[39mrequest)\n",
      "\u001b[1;31mConnectionError\u001b[0m: HTTPConnectionPool(host='pogoda-service.ru', port=80): Max retries exceeded with url: /archive_gsod_res.php?country=RS&station=360380&datepicker_beg=09.01.2024&datepicker_end=31.12.2024 (Caused by NewConnectionError('<urllib3.connection.HTTPConnection object at 0x0000020D390429E0>: Failed to establish a new connection: [WinError 10053] Программа на вашем хост-компьютере разорвала установленное подключение'))"
     ]
    }
   ],
   "source": [
    "import requests\n",
    "import csv\n",
    "import time\n",
    "import os\n",
    "from bs4 import BeautifulSoup\n",
    "from datetime import datetime, timedelta\n",
    "from tqdm import tqdm\n",
    "\n",
    "BASE_URL = \"http://pogoda-service.ru/archive_gsod_res.php\"\n",
    "#station_ids = [\"287854\", \"294850\", \"223650\", \"260780\"]  # Example station IDs for testing, replace with real ones\n",
    "station_ids = stations\n",
    "\n",
    "# Define date range (min 1934)\n",
    "start_year = 2014\n",
    "end_year = 2024\n",
    "\n",
    "def fetch_weather_data(country, station_id, start_date, end_date):\n",
    "    \"\"\"Fetch weather data for a station between two dates.\"\"\"\n",
    "    params = {\n",
    "        \"country\": country,\n",
    "        \"station\": station_id,\n",
    "        \"datepicker_beg\": start_date.strftime(\"%d.%m.%Y\"),\n",
    "        \"datepicker_end\": end_date.strftime(\"%d.%m.%Y\"),\n",
    "    }\n",
    "    response = requests.get(BASE_URL, params=params)\n",
    "    \n",
    "    if response.status_code == 200:\n",
    "        soup = BeautifulSoup(response.text, \"html.parser\")\n",
    "        table = soup.find(\"table\", class_=\"table_res\")\n",
    "        \n",
    "        if not table:\n",
    "            tqdm.write(f\"No data found for station {station_id} from {start_date} to {end_date}\")\n",
    "            return []\n",
    "\n",
    "        # Extract table rows\n",
    "        rows = table.find_all(\"tr\")[1:]  # Skip header row\n",
    "        data = []\n",
    "        \n",
    "        for row in rows:\n",
    "            cols = [td.text.strip() for td in row.find_all(\"td\")]\n",
    "            if len(cols) == 8:\n",
    "                data.append(cols)\n",
    "        \n",
    "        return data\n",
    "    else:\n",
    "        tqdm.write(f\"Failed to fetch data for station {station_id}: {response.status_code}\")\n",
    "        return []\n",
    "\n",
    "def save_to_csv(station_id, data):\n",
    "    \"\"\"Save weather data to a CSV file.\"\"\"\n",
    "    filename = f\"stations/station_{station_id}.csv\"\n",
    "    headers = [\"date\", \"min_temp\", \"max_temp\", \"avg_temp\", \"atm_pressure\", \"wind_speed\", \"downfall\", \"eff_temp\"]\n",
    "    \n",
    "    with open(filename, \"w\", newline=\"\", encoding=\"utf-8\") as f:\n",
    "        writer = csv.writer(f)\n",
    "        writer.writerow(headers)\n",
    "        writer.writerows(data)\n",
    "    \n",
    "    tqdm.write(f\"Saved data for station {station_id} to {filename}\")\n",
    "    \n",
    "def check_csv(station_id):\n",
    "    filename = f\"stations/station_{station_id}.csv\"\n",
    "    return os.path.exists(filename)\n",
    "\n",
    "def scrape_weather_data(country, station_ids):\n",
    "    \"\"\"Main function to loop through all stations and fetch/save their data.\"\"\"\n",
    "    \n",
    "    for station_id in tqdm(station_ids, desc=\"Scraping Stations\", unit=\"station\"):\n",
    "        \n",
    "        filename = f\"station_{station_id}.csv\"\n",
    "\n",
    "        # Skip if CSV already exists\n",
    "        if os.path.exists(filename):\n",
    "            tqdm.write(f\"Skipping station {station_id}, CSV already exists.\")\n",
    "            continue  \n",
    "        \n",
    "        all_data = []\n",
    "        current_date = datetime(start_year, 1, 1)\n",
    "        end_date = datetime(end_year, 12, 31)\n",
    "        \n",
    "        date_range = []\n",
    "        while current_date < end_date:\n",
    "            next_date = min(current_date + timedelta(days=1000), end_date)  # Page can display 1000 items at a time\n",
    "            date_range.append((current_date, next_date))\n",
    "            current_date = next_date + timedelta(days=1)  # Move to next chunk\n",
    "\n",
    "        # Progress bar for date ranges\n",
    "        for start_date, next_date in tqdm(date_range, desc=f\"Fetching {station_id}\", unit=\"year\", leave=False):\n",
    "            data = fetch_weather_data(country, station_id, start_date, next_date)\n",
    "            all_data.extend(data)\n",
    "            time.sleep(0.5)  # avoid spam\n",
    "        \n",
    "        if all_data:\n",
    "            save_to_csv(station_id, all_data)\n",
    "        else:\n",
    "            tqdm.write(\"No records in a given period.\")\n",
    "\n",
    "# Run the scraping\n",
    "scrape_weather_data(country, station_ids)\n"
   ]
  },
  {
   "cell_type": "code",
   "execution_count": 10,
   "metadata": {},
   "outputs": [
    {
     "data": {
      "text/plain": [
       "True"
      ]
     },
     "execution_count": 10,
     "metadata": {},
     "output_type": "execute_result"
    }
   ],
   "source": [
    "check_csv(200870)"
   ]
  }
 ],
 "metadata": {
  "kernelspec": {
   "display_name": "Python 3",
   "language": "python",
   "name": "python3"
  },
  "language_info": {
   "codemirror_mode": {
    "name": "ipython",
    "version": 3
   },
   "file_extension": ".py",
   "mimetype": "text/x-python",
   "name": "python",
   "nbconvert_exporter": "python",
   "pygments_lexer": "ipython3",
   "version": "3.10.0"
  }
 },
 "nbformat": 4,
 "nbformat_minor": 2
}
